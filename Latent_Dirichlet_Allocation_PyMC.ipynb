{
  "nbformat": 4,
  "nbformat_minor": 0,
  "metadata": {
    "colab": {
      "name": "Latent Dirichlet Allocation - PyMC.ipynb",
      "provenance": [],
      "collapsed_sections": []
    },
    "kernelspec": {
      "name": "python3",
      "display_name": "Python 3"
    }
  },
  "cells": [
    {
      "cell_type": "code",
      "metadata": {
        "colab": {
          "base_uri": "https://localhost:8080/"
        },
        "id": "7ZK3P5Km4Zb-",
        "outputId": "bfd399de-b09d-4575-ac5f-90d669a8673c"
      },
      "source": [
        "!pip install pymc==2.3.6\r\n",
        "import pymc as pm\r\n",
        "import numpy as np\r\n",
        "import spacy\r\n",
        "\r\n",
        "import matplotlib.colors as mcolors\r\n",
        "\r\n",
        "!pip install plotly\r\n",
        "import plotly.graph_objects as go\r\n",
        "from plotly.colors import n_colors\r\n",
        "\r\n",
        "from PIL import ImageColor\r\n",
        "\r\n",
        "from scipy.stats import wasserstein_distance\r\n",
        "from scipy.stats import entropy\r\n",
        "\r\n",
        "from os import listdir\r\n",
        "from os.path import join, isfile\r\n",
        "\r\n",
        "COLORS = ['blue', 'orange', 'green', 'red', 'purple', 'brown', 'pink', 'gray', 'olive', 'cyan']\r\n",
        "RGBCOLORS = [str(ImageColor.getrgb(c[1])) for c in mcolors.TABLEAU_COLORS.items()]"
      ],
      "execution_count": 1,
      "outputs": [
        {
          "output_type": "stream",
          "text": [
            "Requirement already satisfied: pymc==2.3.6 in /usr/local/lib/python3.6/dist-packages (2.3.6)\n",
            "Requirement already satisfied: plotly in /usr/local/lib/python3.6/dist-packages (4.4.1)\n",
            "Requirement already satisfied: six in /usr/local/lib/python3.6/dist-packages (from plotly) (1.15.0)\n",
            "Requirement already satisfied: retrying>=1.3.3 in /usr/local/lib/python3.6/dist-packages (from plotly) (1.3.3)\n"
          ],
          "name": "stdout"
        }
      ]
    },
    {
      "cell_type": "markdown",
      "metadata": {
        "id": "tWg3V7OE4pew"
      },
      "source": [
        "## Text preprocessing\r\n",
        "\r\n",
        "First, **upload corpuses.zip** to Google Colab in /content directory."
      ]
    },
    {
      "cell_type": "code",
      "metadata": {
        "colab": {
          "base_uri": "https://localhost:8080/"
        },
        "id": "AaFnyqzA5I_A",
        "outputId": "4e4c3335-898b-4b50-f9df-fb729d155b1c"
      },
      "source": [
        "#@title Unzip dataset archive\n",
        "!unzip /content/corpuses.zip"
      ],
      "execution_count": 2,
      "outputs": [
        {
          "output_type": "stream",
          "text": [
            "Archive:  /content/corpuses.zip\n",
            "replace corpuses/art_and_science/document_01? [y]es, [n]o, [A]ll, [N]one, [r]ename: A\n",
            "  inflating: corpuses/art_and_science/document_01  \n",
            "  inflating: corpuses/art_and_science/document_02  \n",
            "  inflating: corpuses/art_and_science/document_03  \n",
            "  inflating: corpuses/art_and_science/document_04  \n",
            "  inflating: corpuses/art_and_science/document_05  \n",
            "  inflating: corpuses/boots_cats_bees/document1  \n",
            "  inflating: corpuses/boots_cats_bees/document2  \n",
            "  inflating: corpuses/boots_cats_bees/document3  \n",
            "  inflating: corpuses/boots_cats_bees/document4  \n",
            "  inflating: corpuses/boots_cats_bees/document5  \n",
            "  inflating: corpuses/boots_cats_bees/document6  \n",
            "  inflating: corpuses/boots_cats_bees/document7  \n",
            "  inflating: corpuses/boots_cats_bees/document8  \n",
            "  inflating: corpuses/boots_cats_bees/document9  \n",
            "  inflating: corpuses/nuts_and_animals/document_01  \n",
            "  inflating: corpuses/nuts_and_animals/document_02  \n",
            "  inflating: corpuses/nuts_and_animals/document_03  \n",
            "  inflating: corpuses/nuts_and_animals/document_04  \n",
            "  inflating: corpuses/nuts_and_animals/document_05  \n",
            "  inflating: corpuses/sanity_check/document_01  \n",
            "  inflating: corpuses/sanity_check/document_02  \n",
            "  inflating: corpuses/sanity_check/document_03  \n",
            "  inflating: corpuses/sanity_check/document_04  \n",
            "  inflating: corpuses/sanity_check/document_05  \n",
            "  inflating: corpuses/sanity_check/document_06  \n",
            "  inflating: corpuses/sanity_check_multiple_topics/document01  \n",
            "  inflating: corpuses/sanity_check_multiple_topics/document02  \n",
            "  inflating: corpuses/sanity_check_multiple_topics/document03  \n",
            "  inflating: corpuses/sanity_check_multiple_topics/document04  \n",
            "  inflating: corpuses/sanity_check_multiple_topics/document05  \n",
            "  inflating: corpuses/sanity_check_multiple_topics/document06  \n",
            "  inflating: corpuses/sanity_check_multiple_topics/document07  \n",
            "  inflating: corpuses/sanity_check_multiple_topics/document08  \n",
            "  inflating: corpuses/sanity_check_multiple_topics/document09  \n",
            "  inflating: corpuses/sanity_check_multiple_topics/document10  \n",
            "  inflating: corpuses/sanity_check_multiple_topics/document11  \n",
            "  inflating: corpuses/sanity_check_multiple_topics/document12  \n"
          ],
          "name": "stdout"
        }
      ]
    },
    {
      "cell_type": "code",
      "metadata": {
        "id": "b5OSQu8L4q3f",
        "colab": {
          "base_uri": "https://localhost:8080/"
        },
        "outputId": "b1aaf070-2eb1-4ddd-d302-bcdeed4fbb47"
      },
      "source": [
        "#@title Define preprocessing functions\n",
        "class TextProcessor:\n",
        "    nlp = spacy.load('en_core_web_sm')\n",
        "\n",
        "    def __init__(self):\n",
        "        self.docs = []\n",
        "        self.processed_docs = []\n",
        "\n",
        "        self.vocabulary = []\n",
        "        self.word2index = {}\n",
        "\n",
        "    def load_corpus(self, corpus_path):\n",
        "        for file in sorted(listdir(corpus_path)):\n",
        "            file_path = join(corpus_path, file)\n",
        "            if isfile(file_path):\n",
        "                with open(file_path, 'r') as doc:\n",
        "                    self.docs.append(TextProcessor.nlp(doc.read()))\n",
        "\n",
        "    def process_documents(self):\n",
        "        _vocabulary = set()\n",
        "\n",
        "        for doc in self.docs:\n",
        "            processed_doc = []\n",
        "\n",
        "            # Filter out punctuation and stopwords\n",
        "            tokens = list(filter(lambda token: not token.is_punct and not token.is_stop, doc))\n",
        "\n",
        "            # Lemmatization\n",
        "            tokens = list(map(lambda token: token.lemma_.lower(), tokens))\n",
        "\n",
        "            for token in tokens:\n",
        "                processed_doc.append(token)\n",
        "                _vocabulary.add(token)\n",
        "\n",
        "            self.processed_docs.append(processed_doc)\n",
        "\n",
        "        for it, token in enumerate(sorted(_vocabulary)):\n",
        "            self.vocabulary.append(token)\n",
        "            self.word2index[token] = it\n",
        "\n",
        "\n",
        "text_processor = TextProcessor()\n",
        "text_processor.load_corpus(corpus_path='/content/corpuses/nuts_and_animals')\n",
        "text_processor.process_documents()\n",
        "\n",
        "print('Vocabulary of \"nuts_and_animals\":\\n\\n', text_processor.vocabulary, '\\n\\n')\n",
        "print(f'Tokenized docs:\\n')\n",
        "text_processor.processed_docs"
      ],
      "execution_count": 3,
      "outputs": [
        {
          "output_type": "stream",
          "text": [
            "Vocabulary of \"nuts_and_animals\":\n",
            "\n",
            " ['almond', 'breakfast', 'butter', 'cat', 'dog', 'eat', 'enemy', 'feed', 'get', 'like', 'little', 'mortal', 'neighbor', 'peanut', 'sandwich', 'walnut', 'yesterday'] \n",
            "\n",
            "\n",
            "Tokenized docs:\n",
            "\n"
          ],
          "name": "stdout"
        },
        {
          "output_type": "execute_result",
          "data": {
            "text/plain": [
              "[['peanut', 'butter', 'sandwich', 'breakfast'],\n",
              " ['like', 'eat', 'almond', 'peanut', 'walnut'],\n",
              " ['neighbor', 'get', 'little', 'dog', 'yesterday'],\n",
              " ['cat', 'dog', 'mortal', 'enemy'],\n",
              " ['feed', 'peanut', 'dog']]"
            ]
          },
          "metadata": {
            "tags": []
          },
          "execution_count": 3
        }
      ]
    },
    {
      "cell_type": "markdown",
      "metadata": {
        "id": "nUtkr3HbKtvA"
      },
      "source": [
        "## Latent Dirichlet Allocation"
      ]
    },
    {
      "cell_type": "code",
      "metadata": {
        "id": "ZO2ITuBeKwCj"
      },
      "source": [
        "class LDA:\n",
        "    def __init__(self, num_topics, corpus_path, alpha=None, beta=None):\n",
        "        self.num_topics = num_topics\n",
        "\n",
        "        # Load and preprocess the documents\n",
        "        self.text_processor = TextProcessor()\n",
        "        self.text_processor.load_corpus(corpus_path=corpus_path)\n",
        "        self.text_processor.process_documents()\n",
        "\n",
        "        self.size_vocabulary = len(self.text_processor.vocabulary)\n",
        "        self.num_documents = len(self.text_processor.processed_docs)\n",
        "\n",
        "        # Initialize alpha and beta to 1 if not given\n",
        "        if beta is None:\n",
        "            self.beta = np.ones(self.size_vocabulary) / self.num_topics\n",
        "        else:\n",
        "            self.beta = beta\n",
        "\n",
        "        if alpha is None:\n",
        "            self.alpha = np.ones(self.num_topics) / self.num_topics\n",
        "        else:\n",
        "            self.alpha = alpha\n",
        "\n",
        "        # Define random variables\n",
        "        self.phi = pm.Container([pm.CompletedDirichlet(name=f'cphi_{k}', D=pm.Dirichlet(f'phi_{k}', theta=self.beta))\n",
        "                                 for k in range(self.num_topics)])\n",
        "        self.theta = pm.Container([pm.CompletedDirichlet(name=f'ctheta_{m}', D=pm.Dirichlet(f'theta_{m}', theta=self.alpha))\n",
        "                                   for m in range(self.num_documents)])\n",
        "\n",
        "        self.z = pm.Container([[pm.Categorical(name=f'z_{m}_{n}', p=self.theta[m])\n",
        "                                for n in range(len(self.text_processor.processed_docs[m]))] for m in range(self.num_documents)])\n",
        "        self.w = pm.Container([[pm.Categorical(name=f'w_{m}_{n}',\n",
        "                                  p=pm.Lambda(f'pw_{m}_{n}', lambda z_=self.z[m][n], phi_=self.phi: phi_[z_]),\n",
        "                                  value=self.text_processor.word2index[self.text_processor.processed_docs[m][n]],\n",
        "                                  observed=True)\n",
        "                   for n in range(len(self.text_processor.processed_docs[m]))] for m in range(self.num_documents)])\n",
        "\n",
        "        # Define model and MCMC\n",
        "        self.model = pm.Model([self.phi, self.theta, self.z, self.w])\n",
        "        self.mcmc = pm.MCMC(self.model)\n",
        "\n",
        "    def fit(self, iter=20000, burn=5000):\n",
        "        self.mcmc.sample(iter, burn, 1)\n",
        "\n",
        "        # Collect samples from MCMC\n",
        "        self.phi_trace = np.array([self.mcmc.trace(f'cphi_{m}')[:].squeeze(axis=1) for m in range(self.num_topics)])\n",
        "        self.theta_trace = np.array([self.mcmc.trace(f'ctheta_{m}')[:].squeeze(axis=1) for m in range(self.num_documents)])\n",
        "\n",
        "        # Average results\n",
        "        self.phi_trace = self.phi_trace.mean(axis=1)\n",
        "        self.theta_trace = self.theta_trace.mean(axis=1)\n",
        "\n",
        "        return self.phi_trace, self.theta_trace\n",
        "    \n",
        "    def draw_table(self, table_columns, table_rows, table_colors):\n",
        "        # Create figure\n",
        "        fig = go.Figure(data=go.Table(\n",
        "            columnwidth=[300, 100],\n",
        "            header=dict(values=table_columns,\n",
        "                        line_color='white',\n",
        "                        fill_color='white',\n",
        "                        align='center', font=dict(color='black', size=12),\n",
        "                        height=30),\n",
        "            cells=dict(values=table_rows,\n",
        "                       align='center',\n",
        "                       font=dict(color=['black', 'white'], size=11),\n",
        "                       fill_color=table_colors)))\n",
        "        \n",
        "        # Adjust layout to match table real size\n",
        "        fig.update_layout(margin=dict(l=0, r=0, b=0, t=0, pad=0, autoexpand=False))\n",
        "        fig.update_layout(height=50 + 20 * len(table_rows[0]))\n",
        "\n",
        "        # Something beautiful will appear\n",
        "        fig.show()\n",
        "\n",
        "    def show_documents(self):\n",
        "        table_columns = ['Document'] + [f'Topic #{i}' for i in range(1, self.num_topics + 1)]\n",
        "        table_rows = []\n",
        "        table_colors = []\n",
        "\n",
        "        for doc_id in range(self.num_documents):\n",
        "            # Take document intro\n",
        "            doc_head = self.text_processor.docs[doc_id].text[:65]\n",
        "            if len(self.text_processor.docs[doc_id].text) > 65:\n",
        "                doc_head += '[...]'\n",
        "            \n",
        "            # Select topic assignment\n",
        "            values = []\n",
        "            colors = ['rgba(230, 216, 110, 0.1)']\n",
        "            for topic_id in range(self.num_topics):\n",
        "                values.append(f'{self.theta_trace[doc_id][topic_id]:.2f}')\n",
        "                alpha = f'{self.theta_trace[doc_id][topic_id]:.2f}'\n",
        "                colors.append(f'rgba{RGBCOLORS[topic_id][:-1]}, {alpha})')\n",
        "            \n",
        "            # Construct table row\n",
        "            table_rows.append([doc_head] + values)\n",
        "            table_colors.append(colors)\n",
        "        \n",
        "        # Transpose values\n",
        "        table_rows = np.array(table_rows).T.tolist()\n",
        "        table_colors = np.array(table_colors).T.tolist()\n",
        "\n",
        "        self.draw_table(table_columns, table_rows, table_colors)\n",
        "\n",
        "    def show_top_words():\n",
        "        pass\n",
        "\n",
        "    def show_words(self):\n",
        "        table_columns = ['Word'] + [f'Topic #{i}' for i in range(1, self.num_topics + 1)]\n",
        "        table_rows = []\n",
        "        table_colors = []\n",
        "\n",
        "        for word_id in range(self.size_vocabulary):\n",
        "            # Select word\n",
        "            word = self.text_processor.vocabulary[word_id]\n",
        "\n",
        "            # Select topic assignment\n",
        "            values = []\n",
        "            colors = ['rgba(230, 216, 110, 0.1)']\n",
        "            for topic_id in range(self.num_topics):\n",
        "                values.append(f'{self.phi_trace[topic_id][word_id]:.2f}')\n",
        "                alpha = f'{min(1.5 * self.phi_trace[topic_id][word_id], 1):.2f}'\n",
        "                colors.append(f'rgba{RGBCOLORS[topic_id][:-1]}, {alpha})')\n",
        "            \n",
        "            # Construct table row\n",
        "            table_rows.append([word] + values)\n",
        "            table_colors.append(colors)\n",
        "\n",
        "        # Transpose values\n",
        "        table_rows = np.array(table_rows).T.tolist()\n",
        "        table_colors = np.array(table_colors).T.tolist()\n",
        "\n",
        "        self.draw_table(table_columns, table_rows, table_colors)"
      ],
      "execution_count": 6,
      "outputs": []
    },
    {
      "cell_type": "markdown",
      "metadata": {
        "id": "a_IDZZ-uz63e"
      },
      "source": [
        "## Results"
      ]
    },
    {
      "cell_type": "markdown",
      "metadata": {
        "id": "a-lurSrjz_B1"
      },
      "source": [
        "### Sanity check #1"
      ]
    },
    {
      "cell_type": "code",
      "metadata": {
        "colab": {
          "base_uri": "https://localhost:8080/",
          "height": 334
        },
        "id": "l9guM1tAzVhM",
        "outputId": "2649e283-544c-4468-8e25-b80340b79326"
      },
      "source": [
        "lda = LDA(num_topics=2, corpus_path='/content/corpuses/sanity_check/')\n",
        "lda.fit(10000, 5000)\n",
        "lda.show_documents()\n",
        "lda.show_words()"
      ],
      "execution_count": 5,
      "outputs": [
        {
          "output_type": "stream",
          "text": [
            " [-----------------100%-----------------] 10000 of 10000 complete in 26.5 sec"
          ],
          "name": "stdout"
        },
        {
          "output_type": "display_data",
          "data": {
            "text/html": [
              "<html>\n",
              "<head><meta charset=\"utf-8\" /></head>\n",
              "<body>\n",
              "    <div>\n",
              "            <script src=\"https://cdnjs.cloudflare.com/ajax/libs/mathjax/2.7.5/MathJax.js?config=TeX-AMS-MML_SVG\"></script><script type=\"text/javascript\">if (window.MathJax) {MathJax.Hub.Config({SVG: {font: \"STIX-Web\"}});}</script>\n",
              "                <script type=\"text/javascript\">window.PlotlyConfig = {MathJaxConfig: 'local'};</script>\n",
              "        <script src=\"https://cdn.plot.ly/plotly-latest.min.js\"></script>    \n",
              "            <div id=\"dd3cae81-74da-43c3-9d1c-27773b0089af\" class=\"plotly-graph-div\" style=\"height:170px; width:100%;\"></div>\n",
              "            <script type=\"text/javascript\">\n",
              "                \n",
              "                    window.PLOTLYENV=window.PLOTLYENV || {};\n",
              "                    \n",
              "                if (document.getElementById(\"dd3cae81-74da-43c3-9d1c-27773b0089af\")) {\n",
              "                    Plotly.newPlot(\n",
              "                        'dd3cae81-74da-43c3-9d1c-27773b0089af',\n",
              "                        [{\"cells\": {\"align\": \"center\", \"fill\": {\"color\": [[\"rgba(230, 216, 110, 0.1)\", \"rgba(230, 216, 110, 0.1)\", \"rgba(230, 216, 110, 0.1)\", \"rgba(230, 216, 110, 0.1)\", \"rgba(230, 216, 110, 0.1)\", \"rgba(230, 216, 110, 0.1)\"], [\"rgba(31, 119, 180, 0.81)\", \"rgba(31, 119, 180, 0.86)\", \"rgba(31, 119, 180, 0.88)\", \"rgba(31, 119, 180, 0.16)\", \"rgba(31, 119, 180, 0.13)\", \"rgba(31, 119, 180, 0.10)\"], [\"rgba(255, 127, 14, 0.19)\", \"rgba(255, 127, 14, 0.14)\", \"rgba(255, 127, 14, 0.12)\", \"rgba(255, 127, 14, 0.84)\", \"rgba(255, 127, 14, 0.87)\", \"rgba(255, 127, 14, 0.90)\"]]}, \"font\": {\"color\": [\"black\", \"white\"], \"size\": 11}, \"values\": [[\"aaa bbb aaa\", \"bbb aaa bbb\", \"aaa bbb bbb aaa\", \"uuu vvv\", \"uuu vvv vvv\", \"uuu vvv vvv uuu\"], [\"0.81\", \"0.86\", \"0.88\", \"0.16\", \"0.13\", \"0.10\"], [\"0.19\", \"0.14\", \"0.12\", \"0.84\", \"0.87\", \"0.90\"]]}, \"columnwidth\": [300, 100], \"header\": {\"align\": \"center\", \"fill\": {\"color\": \"white\"}, \"font\": {\"color\": \"black\", \"size\": 12}, \"height\": 30, \"line\": {\"color\": \"white\"}, \"values\": [\"Document\", \"Topic #1\", \"Topic #2\"]}, \"type\": \"table\"}],\n",
              "                        {\"height\": 170, \"margin\": {\"autoexpand\": false, \"b\": 0, \"l\": 0, \"pad\": 0, \"r\": 0, \"t\": 0}, \"template\": {\"data\": {\"bar\": [{\"error_x\": {\"color\": \"#2a3f5f\"}, \"error_y\": {\"color\": \"#2a3f5f\"}, \"marker\": {\"line\": {\"color\": \"#E5ECF6\", \"width\": 0.5}}, \"type\": \"bar\"}], \"barpolar\": [{\"marker\": {\"line\": {\"color\": \"#E5ECF6\", \"width\": 0.5}}, \"type\": \"barpolar\"}], \"carpet\": [{\"aaxis\": {\"endlinecolor\": \"#2a3f5f\", \"gridcolor\": \"white\", \"linecolor\": \"white\", \"minorgridcolor\": \"white\", \"startlinecolor\": \"#2a3f5f\"}, \"baxis\": {\"endlinecolor\": \"#2a3f5f\", \"gridcolor\": \"white\", \"linecolor\": \"white\", \"minorgridcolor\": \"white\", \"startlinecolor\": \"#2a3f5f\"}, \"type\": \"carpet\"}], \"choropleth\": [{\"colorbar\": {\"outlinewidth\": 0, \"ticks\": \"\"}, \"type\": \"choropleth\"}], \"contour\": [{\"colorbar\": {\"outlinewidth\": 0, \"ticks\": \"\"}, \"colorscale\": [[0.0, \"#0d0887\"], [0.1111111111111111, \"#46039f\"], [0.2222222222222222, \"#7201a8\"], [0.3333333333333333, \"#9c179e\"], [0.4444444444444444, \"#bd3786\"], [0.5555555555555556, \"#d8576b\"], [0.6666666666666666, \"#ed7953\"], [0.7777777777777778, \"#fb9f3a\"], [0.8888888888888888, \"#fdca26\"], [1.0, \"#f0f921\"]], \"type\": \"contour\"}], \"contourcarpet\": [{\"colorbar\": {\"outlinewidth\": 0, \"ticks\": \"\"}, \"type\": \"contourcarpet\"}], \"heatmap\": [{\"colorbar\": {\"outlinewidth\": 0, \"ticks\": \"\"}, \"colorscale\": [[0.0, \"#0d0887\"], [0.1111111111111111, \"#46039f\"], [0.2222222222222222, \"#7201a8\"], [0.3333333333333333, \"#9c179e\"], [0.4444444444444444, \"#bd3786\"], [0.5555555555555556, \"#d8576b\"], [0.6666666666666666, \"#ed7953\"], [0.7777777777777778, \"#fb9f3a\"], [0.8888888888888888, \"#fdca26\"], [1.0, \"#f0f921\"]], \"type\": \"heatmap\"}], \"heatmapgl\": [{\"colorbar\": {\"outlinewidth\": 0, \"ticks\": \"\"}, \"colorscale\": [[0.0, \"#0d0887\"], [0.1111111111111111, \"#46039f\"], [0.2222222222222222, \"#7201a8\"], [0.3333333333333333, \"#9c179e\"], [0.4444444444444444, \"#bd3786\"], [0.5555555555555556, \"#d8576b\"], [0.6666666666666666, \"#ed7953\"], [0.7777777777777778, \"#fb9f3a\"], [0.8888888888888888, \"#fdca26\"], [1.0, \"#f0f921\"]], \"type\": \"heatmapgl\"}], \"histogram\": [{\"marker\": {\"colorbar\": {\"outlinewidth\": 0, \"ticks\": \"\"}}, \"type\": \"histogram\"}], \"histogram2d\": [{\"colorbar\": {\"outlinewidth\": 0, \"ticks\": \"\"}, \"colorscale\": [[0.0, \"#0d0887\"], [0.1111111111111111, \"#46039f\"], [0.2222222222222222, \"#7201a8\"], [0.3333333333333333, \"#9c179e\"], [0.4444444444444444, \"#bd3786\"], [0.5555555555555556, \"#d8576b\"], [0.6666666666666666, \"#ed7953\"], [0.7777777777777778, \"#fb9f3a\"], [0.8888888888888888, \"#fdca26\"], [1.0, \"#f0f921\"]], \"type\": \"histogram2d\"}], \"histogram2dcontour\": [{\"colorbar\": {\"outlinewidth\": 0, \"ticks\": \"\"}, \"colorscale\": [[0.0, \"#0d0887\"], [0.1111111111111111, \"#46039f\"], [0.2222222222222222, \"#7201a8\"], [0.3333333333333333, \"#9c179e\"], [0.4444444444444444, \"#bd3786\"], [0.5555555555555556, \"#d8576b\"], [0.6666666666666666, \"#ed7953\"], [0.7777777777777778, \"#fb9f3a\"], [0.8888888888888888, \"#fdca26\"], [1.0, \"#f0f921\"]], \"type\": \"histogram2dcontour\"}], \"mesh3d\": [{\"colorbar\": {\"outlinewidth\": 0, \"ticks\": \"\"}, \"type\": \"mesh3d\"}], \"parcoords\": [{\"line\": {\"colorbar\": {\"outlinewidth\": 0, \"ticks\": \"\"}}, \"type\": \"parcoords\"}], \"pie\": [{\"automargin\": true, \"type\": \"pie\"}], \"scatter\": [{\"marker\": {\"colorbar\": {\"outlinewidth\": 0, \"ticks\": \"\"}}, \"type\": \"scatter\"}], \"scatter3d\": [{\"line\": {\"colorbar\": {\"outlinewidth\": 0, \"ticks\": \"\"}}, \"marker\": {\"colorbar\": {\"outlinewidth\": 0, \"ticks\": \"\"}}, \"type\": \"scatter3d\"}], \"scattercarpet\": [{\"marker\": {\"colorbar\": {\"outlinewidth\": 0, \"ticks\": \"\"}}, \"type\": \"scattercarpet\"}], \"scattergeo\": [{\"marker\": {\"colorbar\": {\"outlinewidth\": 0, \"ticks\": \"\"}}, \"type\": \"scattergeo\"}], \"scattergl\": [{\"marker\": {\"colorbar\": {\"outlinewidth\": 0, \"ticks\": \"\"}}, \"type\": \"scattergl\"}], \"scattermapbox\": [{\"marker\": {\"colorbar\": {\"outlinewidth\": 0, \"ticks\": \"\"}}, \"type\": \"scattermapbox\"}], \"scatterpolar\": [{\"marker\": {\"colorbar\": {\"outlinewidth\": 0, \"ticks\": \"\"}}, \"type\": \"scatterpolar\"}], \"scatterpolargl\": [{\"marker\": {\"colorbar\": {\"outlinewidth\": 0, \"ticks\": \"\"}}, \"type\": \"scatterpolargl\"}], \"scatterternary\": [{\"marker\": {\"colorbar\": {\"outlinewidth\": 0, \"ticks\": \"\"}}, \"type\": \"scatterternary\"}], \"surface\": [{\"colorbar\": {\"outlinewidth\": 0, \"ticks\": \"\"}, \"colorscale\": [[0.0, \"#0d0887\"], [0.1111111111111111, \"#46039f\"], [0.2222222222222222, \"#7201a8\"], [0.3333333333333333, \"#9c179e\"], [0.4444444444444444, \"#bd3786\"], [0.5555555555555556, \"#d8576b\"], [0.6666666666666666, \"#ed7953\"], [0.7777777777777778, \"#fb9f3a\"], [0.8888888888888888, \"#fdca26\"], [1.0, \"#f0f921\"]], \"type\": \"surface\"}], \"table\": [{\"cells\": {\"fill\": {\"color\": \"#EBF0F8\"}, \"line\": {\"color\": \"white\"}}, \"header\": {\"fill\": {\"color\": \"#C8D4E3\"}, \"line\": {\"color\": \"white\"}}, \"type\": \"table\"}]}, \"layout\": {\"annotationdefaults\": {\"arrowcolor\": \"#2a3f5f\", \"arrowhead\": 0, \"arrowwidth\": 1}, \"coloraxis\": {\"colorbar\": {\"outlinewidth\": 0, \"ticks\": \"\"}}, \"colorscale\": {\"diverging\": [[0, \"#8e0152\"], [0.1, \"#c51b7d\"], [0.2, \"#de77ae\"], [0.3, \"#f1b6da\"], [0.4, \"#fde0ef\"], [0.5, \"#f7f7f7\"], [0.6, \"#e6f5d0\"], [0.7, \"#b8e186\"], [0.8, \"#7fbc41\"], [0.9, \"#4d9221\"], [1, \"#276419\"]], \"sequential\": [[0.0, \"#0d0887\"], [0.1111111111111111, \"#46039f\"], [0.2222222222222222, \"#7201a8\"], [0.3333333333333333, \"#9c179e\"], [0.4444444444444444, \"#bd3786\"], [0.5555555555555556, \"#d8576b\"], [0.6666666666666666, \"#ed7953\"], [0.7777777777777778, \"#fb9f3a\"], [0.8888888888888888, \"#fdca26\"], [1.0, \"#f0f921\"]], \"sequentialminus\": [[0.0, \"#0d0887\"], [0.1111111111111111, \"#46039f\"], [0.2222222222222222, \"#7201a8\"], [0.3333333333333333, \"#9c179e\"], [0.4444444444444444, \"#bd3786\"], [0.5555555555555556, \"#d8576b\"], [0.6666666666666666, \"#ed7953\"], [0.7777777777777778, \"#fb9f3a\"], [0.8888888888888888, \"#fdca26\"], [1.0, \"#f0f921\"]]}, \"colorway\": [\"#636efa\", \"#EF553B\", \"#00cc96\", \"#ab63fa\", \"#FFA15A\", \"#19d3f3\", \"#FF6692\", \"#B6E880\", \"#FF97FF\", \"#FECB52\"], \"font\": {\"color\": \"#2a3f5f\"}, \"geo\": {\"bgcolor\": \"white\", \"lakecolor\": \"white\", \"landcolor\": \"#E5ECF6\", \"showlakes\": true, \"showland\": true, \"subunitcolor\": \"white\"}, \"hoverlabel\": {\"align\": \"left\"}, \"hovermode\": \"closest\", \"mapbox\": {\"style\": \"light\"}, \"paper_bgcolor\": \"white\", \"plot_bgcolor\": \"#E5ECF6\", \"polar\": {\"angularaxis\": {\"gridcolor\": \"white\", \"linecolor\": \"white\", \"ticks\": \"\"}, \"bgcolor\": \"#E5ECF6\", \"radialaxis\": {\"gridcolor\": \"white\", \"linecolor\": \"white\", \"ticks\": \"\"}}, \"scene\": {\"xaxis\": {\"backgroundcolor\": \"#E5ECF6\", \"gridcolor\": \"white\", \"gridwidth\": 2, \"linecolor\": \"white\", \"showbackground\": true, \"ticks\": \"\", \"zerolinecolor\": \"white\"}, \"yaxis\": {\"backgroundcolor\": \"#E5ECF6\", \"gridcolor\": \"white\", \"gridwidth\": 2, \"linecolor\": \"white\", \"showbackground\": true, \"ticks\": \"\", \"zerolinecolor\": \"white\"}, \"zaxis\": {\"backgroundcolor\": \"#E5ECF6\", \"gridcolor\": \"white\", \"gridwidth\": 2, \"linecolor\": \"white\", \"showbackground\": true, \"ticks\": \"\", \"zerolinecolor\": \"white\"}}, \"shapedefaults\": {\"line\": {\"color\": \"#2a3f5f\"}}, \"ternary\": {\"aaxis\": {\"gridcolor\": \"white\", \"linecolor\": \"white\", \"ticks\": \"\"}, \"baxis\": {\"gridcolor\": \"white\", \"linecolor\": \"white\", \"ticks\": \"\"}, \"bgcolor\": \"#E5ECF6\", \"caxis\": {\"gridcolor\": \"white\", \"linecolor\": \"white\", \"ticks\": \"\"}}, \"title\": {\"x\": 0.05}, \"xaxis\": {\"automargin\": true, \"gridcolor\": \"white\", \"linecolor\": \"white\", \"ticks\": \"\", \"title\": {\"standoff\": 15}, \"zerolinecolor\": \"white\", \"zerolinewidth\": 2}, \"yaxis\": {\"automargin\": true, \"gridcolor\": \"white\", \"linecolor\": \"white\", \"ticks\": \"\", \"title\": {\"standoff\": 15}, \"zerolinecolor\": \"white\", \"zerolinewidth\": 2}}}},\n",
              "                        {\"responsive\": true}\n",
              "                    ).then(function(){\n",
              "                            \n",
              "var gd = document.getElementById('dd3cae81-74da-43c3-9d1c-27773b0089af');\n",
              "var x = new MutationObserver(function (mutations, observer) {{\n",
              "        var display = window.getComputedStyle(gd).display;\n",
              "        if (!display || display === 'none') {{\n",
              "            console.log([gd, 'removed!']);\n",
              "            Plotly.purge(gd);\n",
              "            observer.disconnect();\n",
              "        }}\n",
              "}});\n",
              "\n",
              "// Listen for the removal of the full notebook cells\n",
              "var notebookContainer = gd.closest('#notebook-container');\n",
              "if (notebookContainer) {{\n",
              "    x.observe(notebookContainer, {childList: true});\n",
              "}}\n",
              "\n",
              "// Listen for the clearing of the current output cell\n",
              "var outputEl = gd.closest('.output');\n",
              "if (outputEl) {{\n",
              "    x.observe(outputEl, {childList: true});\n",
              "}}\n",
              "\n",
              "                        })\n",
              "                };\n",
              "                \n",
              "            </script>\n",
              "        </div>\n",
              "</body>\n",
              "</html>"
            ]
          },
          "metadata": {
            "tags": []
          }
        },
        {
          "output_type": "display_data",
          "data": {
            "text/html": [
              "<html>\n",
              "<head><meta charset=\"utf-8\" /></head>\n",
              "<body>\n",
              "    <div>\n",
              "            <script src=\"https://cdnjs.cloudflare.com/ajax/libs/mathjax/2.7.5/MathJax.js?config=TeX-AMS-MML_SVG\"></script><script type=\"text/javascript\">if (window.MathJax) {MathJax.Hub.Config({SVG: {font: \"STIX-Web\"}});}</script>\n",
              "                <script type=\"text/javascript\">window.PlotlyConfig = {MathJaxConfig: 'local'};</script>\n",
              "        <script src=\"https://cdn.plot.ly/plotly-latest.min.js\"></script>    \n",
              "            <div id=\"94098b0d-2f24-442a-938f-56f2934e138b\" class=\"plotly-graph-div\" style=\"height:130px; width:100%;\"></div>\n",
              "            <script type=\"text/javascript\">\n",
              "                \n",
              "                    window.PLOTLYENV=window.PLOTLYENV || {};\n",
              "                    \n",
              "                if (document.getElementById(\"94098b0d-2f24-442a-938f-56f2934e138b\")) {\n",
              "                    Plotly.newPlot(\n",
              "                        '94098b0d-2f24-442a-938f-56f2934e138b',\n",
              "                        [{\"cells\": {\"align\": \"center\", \"fill\": {\"color\": [[\"rgba(230, 216, 110, 0.1)\", \"rgba(230, 216, 110, 0.1)\", \"rgba(230, 216, 110, 0.1)\", \"rgba(230, 216, 110, 0.1)\"], [\"rgba(31, 119, 180, 0.60)\", \"rgba(31, 119, 180, 0.85)\", \"rgba(31, 119, 180, 0.02)\", \"rgba(31, 119, 180, 0.02)\"], [\"rgba(255, 127, 14, 0.12)\", \"rgba(255, 127, 14, 0.00)\", \"rgba(255, 127, 14, 0.60)\", \"rgba(255, 127, 14, 0.77)\"]]}, \"font\": {\"color\": [\"black\", \"white\"], \"size\": 11}, \"values\": [[\"aaa\", \"bbb\", \"uuu\", \"vvv\"], [\"0.40\", \"0.57\", \"0.02\", \"0.02\"], [\"0.08\", \"0.00\", \"0.40\", \"0.52\"]]}, \"columnwidth\": [300, 100], \"header\": {\"align\": \"center\", \"fill\": {\"color\": \"white\"}, \"font\": {\"color\": \"black\", \"size\": 12}, \"height\": 30, \"line\": {\"color\": \"white\"}, \"values\": [\"Word\", \"Topic #1\", \"Topic #2\"]}, \"type\": \"table\"}],\n",
              "                        {\"height\": 130, \"margin\": {\"autoexpand\": false, \"b\": 0, \"l\": 0, \"pad\": 0, \"r\": 0, \"t\": 0}, \"template\": {\"data\": {\"bar\": [{\"error_x\": {\"color\": \"#2a3f5f\"}, \"error_y\": {\"color\": \"#2a3f5f\"}, \"marker\": {\"line\": {\"color\": \"#E5ECF6\", \"width\": 0.5}}, \"type\": \"bar\"}], \"barpolar\": [{\"marker\": {\"line\": {\"color\": \"#E5ECF6\", \"width\": 0.5}}, \"type\": \"barpolar\"}], \"carpet\": [{\"aaxis\": {\"endlinecolor\": \"#2a3f5f\", \"gridcolor\": \"white\", \"linecolor\": \"white\", \"minorgridcolor\": \"white\", \"startlinecolor\": \"#2a3f5f\"}, \"baxis\": {\"endlinecolor\": \"#2a3f5f\", \"gridcolor\": \"white\", \"linecolor\": \"white\", \"minorgridcolor\": \"white\", \"startlinecolor\": \"#2a3f5f\"}, \"type\": \"carpet\"}], \"choropleth\": [{\"colorbar\": {\"outlinewidth\": 0, \"ticks\": \"\"}, \"type\": \"choropleth\"}], \"contour\": [{\"colorbar\": {\"outlinewidth\": 0, \"ticks\": \"\"}, \"colorscale\": [[0.0, \"#0d0887\"], [0.1111111111111111, \"#46039f\"], [0.2222222222222222, \"#7201a8\"], [0.3333333333333333, \"#9c179e\"], [0.4444444444444444, \"#bd3786\"], [0.5555555555555556, \"#d8576b\"], [0.6666666666666666, \"#ed7953\"], [0.7777777777777778, \"#fb9f3a\"], [0.8888888888888888, \"#fdca26\"], [1.0, \"#f0f921\"]], \"type\": \"contour\"}], \"contourcarpet\": [{\"colorbar\": {\"outlinewidth\": 0, \"ticks\": \"\"}, \"type\": \"contourcarpet\"}], \"heatmap\": [{\"colorbar\": {\"outlinewidth\": 0, \"ticks\": \"\"}, \"colorscale\": [[0.0, \"#0d0887\"], [0.1111111111111111, \"#46039f\"], [0.2222222222222222, \"#7201a8\"], [0.3333333333333333, \"#9c179e\"], [0.4444444444444444, \"#bd3786\"], [0.5555555555555556, \"#d8576b\"], [0.6666666666666666, \"#ed7953\"], [0.7777777777777778, \"#fb9f3a\"], [0.8888888888888888, \"#fdca26\"], [1.0, \"#f0f921\"]], \"type\": \"heatmap\"}], \"heatmapgl\": [{\"colorbar\": {\"outlinewidth\": 0, \"ticks\": \"\"}, \"colorscale\": [[0.0, \"#0d0887\"], [0.1111111111111111, \"#46039f\"], [0.2222222222222222, \"#7201a8\"], [0.3333333333333333, \"#9c179e\"], [0.4444444444444444, \"#bd3786\"], [0.5555555555555556, \"#d8576b\"], [0.6666666666666666, \"#ed7953\"], [0.7777777777777778, \"#fb9f3a\"], [0.8888888888888888, \"#fdca26\"], [1.0, \"#f0f921\"]], \"type\": \"heatmapgl\"}], \"histogram\": [{\"marker\": {\"colorbar\": {\"outlinewidth\": 0, \"ticks\": \"\"}}, \"type\": \"histogram\"}], \"histogram2d\": [{\"colorbar\": {\"outlinewidth\": 0, \"ticks\": \"\"}, \"colorscale\": [[0.0, \"#0d0887\"], [0.1111111111111111, \"#46039f\"], [0.2222222222222222, \"#7201a8\"], [0.3333333333333333, \"#9c179e\"], [0.4444444444444444, \"#bd3786\"], [0.5555555555555556, \"#d8576b\"], [0.6666666666666666, \"#ed7953\"], [0.7777777777777778, \"#fb9f3a\"], [0.8888888888888888, \"#fdca26\"], [1.0, \"#f0f921\"]], \"type\": \"histogram2d\"}], \"histogram2dcontour\": [{\"colorbar\": {\"outlinewidth\": 0, \"ticks\": \"\"}, \"colorscale\": [[0.0, \"#0d0887\"], [0.1111111111111111, \"#46039f\"], [0.2222222222222222, \"#7201a8\"], [0.3333333333333333, \"#9c179e\"], [0.4444444444444444, \"#bd3786\"], [0.5555555555555556, \"#d8576b\"], [0.6666666666666666, \"#ed7953\"], [0.7777777777777778, \"#fb9f3a\"], [0.8888888888888888, \"#fdca26\"], [1.0, \"#f0f921\"]], \"type\": \"histogram2dcontour\"}], \"mesh3d\": [{\"colorbar\": {\"outlinewidth\": 0, \"ticks\": \"\"}, \"type\": \"mesh3d\"}], \"parcoords\": [{\"line\": {\"colorbar\": {\"outlinewidth\": 0, \"ticks\": \"\"}}, \"type\": \"parcoords\"}], \"pie\": [{\"automargin\": true, \"type\": \"pie\"}], \"scatter\": [{\"marker\": {\"colorbar\": {\"outlinewidth\": 0, \"ticks\": \"\"}}, \"type\": \"scatter\"}], \"scatter3d\": [{\"line\": {\"colorbar\": {\"outlinewidth\": 0, \"ticks\": \"\"}}, \"marker\": {\"colorbar\": {\"outlinewidth\": 0, \"ticks\": \"\"}}, \"type\": \"scatter3d\"}], \"scattercarpet\": [{\"marker\": {\"colorbar\": {\"outlinewidth\": 0, \"ticks\": \"\"}}, \"type\": \"scattercarpet\"}], \"scattergeo\": [{\"marker\": {\"colorbar\": {\"outlinewidth\": 0, \"ticks\": \"\"}}, \"type\": \"scattergeo\"}], \"scattergl\": [{\"marker\": {\"colorbar\": {\"outlinewidth\": 0, \"ticks\": \"\"}}, \"type\": \"scattergl\"}], \"scattermapbox\": [{\"marker\": {\"colorbar\": {\"outlinewidth\": 0, \"ticks\": \"\"}}, \"type\": \"scattermapbox\"}], \"scatterpolar\": [{\"marker\": {\"colorbar\": {\"outlinewidth\": 0, \"ticks\": \"\"}}, \"type\": \"scatterpolar\"}], \"scatterpolargl\": [{\"marker\": {\"colorbar\": {\"outlinewidth\": 0, \"ticks\": \"\"}}, \"type\": \"scatterpolargl\"}], \"scatterternary\": [{\"marker\": {\"colorbar\": {\"outlinewidth\": 0, \"ticks\": \"\"}}, \"type\": \"scatterternary\"}], \"surface\": [{\"colorbar\": {\"outlinewidth\": 0, \"ticks\": \"\"}, \"colorscale\": [[0.0, \"#0d0887\"], [0.1111111111111111, \"#46039f\"], [0.2222222222222222, \"#7201a8\"], [0.3333333333333333, \"#9c179e\"], [0.4444444444444444, \"#bd3786\"], [0.5555555555555556, \"#d8576b\"], [0.6666666666666666, \"#ed7953\"], [0.7777777777777778, \"#fb9f3a\"], [0.8888888888888888, \"#fdca26\"], [1.0, \"#f0f921\"]], \"type\": \"surface\"}], \"table\": [{\"cells\": {\"fill\": {\"color\": \"#EBF0F8\"}, \"line\": {\"color\": \"white\"}}, \"header\": {\"fill\": {\"color\": \"#C8D4E3\"}, \"line\": {\"color\": \"white\"}}, \"type\": \"table\"}]}, \"layout\": {\"annotationdefaults\": {\"arrowcolor\": \"#2a3f5f\", \"arrowhead\": 0, \"arrowwidth\": 1}, \"coloraxis\": {\"colorbar\": {\"outlinewidth\": 0, \"ticks\": \"\"}}, \"colorscale\": {\"diverging\": [[0, \"#8e0152\"], [0.1, \"#c51b7d\"], [0.2, \"#de77ae\"], [0.3, \"#f1b6da\"], [0.4, \"#fde0ef\"], [0.5, \"#f7f7f7\"], [0.6, \"#e6f5d0\"], [0.7, \"#b8e186\"], [0.8, \"#7fbc41\"], [0.9, \"#4d9221\"], [1, \"#276419\"]], \"sequential\": [[0.0, \"#0d0887\"], [0.1111111111111111, \"#46039f\"], [0.2222222222222222, \"#7201a8\"], [0.3333333333333333, \"#9c179e\"], [0.4444444444444444, \"#bd3786\"], [0.5555555555555556, \"#d8576b\"], [0.6666666666666666, \"#ed7953\"], [0.7777777777777778, \"#fb9f3a\"], [0.8888888888888888, \"#fdca26\"], [1.0, \"#f0f921\"]], \"sequentialminus\": [[0.0, \"#0d0887\"], [0.1111111111111111, \"#46039f\"], [0.2222222222222222, \"#7201a8\"], [0.3333333333333333, \"#9c179e\"], [0.4444444444444444, \"#bd3786\"], [0.5555555555555556, \"#d8576b\"], [0.6666666666666666, \"#ed7953\"], [0.7777777777777778, \"#fb9f3a\"], [0.8888888888888888, \"#fdca26\"], [1.0, \"#f0f921\"]]}, \"colorway\": [\"#636efa\", \"#EF553B\", \"#00cc96\", \"#ab63fa\", \"#FFA15A\", \"#19d3f3\", \"#FF6692\", \"#B6E880\", \"#FF97FF\", \"#FECB52\"], \"font\": {\"color\": \"#2a3f5f\"}, \"geo\": {\"bgcolor\": \"white\", \"lakecolor\": \"white\", \"landcolor\": \"#E5ECF6\", \"showlakes\": true, \"showland\": true, \"subunitcolor\": \"white\"}, \"hoverlabel\": {\"align\": \"left\"}, \"hovermode\": \"closest\", \"mapbox\": {\"style\": \"light\"}, \"paper_bgcolor\": \"white\", \"plot_bgcolor\": \"#E5ECF6\", \"polar\": {\"angularaxis\": {\"gridcolor\": \"white\", \"linecolor\": \"white\", \"ticks\": \"\"}, \"bgcolor\": \"#E5ECF6\", \"radialaxis\": {\"gridcolor\": \"white\", \"linecolor\": \"white\", \"ticks\": \"\"}}, \"scene\": {\"xaxis\": {\"backgroundcolor\": \"#E5ECF6\", \"gridcolor\": \"white\", \"gridwidth\": 2, \"linecolor\": \"white\", \"showbackground\": true, \"ticks\": \"\", \"zerolinecolor\": \"white\"}, \"yaxis\": {\"backgroundcolor\": \"#E5ECF6\", \"gridcolor\": \"white\", \"gridwidth\": 2, \"linecolor\": \"white\", \"showbackground\": true, \"ticks\": \"\", \"zerolinecolor\": \"white\"}, \"zaxis\": {\"backgroundcolor\": \"#E5ECF6\", \"gridcolor\": \"white\", \"gridwidth\": 2, \"linecolor\": \"white\", \"showbackground\": true, \"ticks\": \"\", \"zerolinecolor\": \"white\"}}, \"shapedefaults\": {\"line\": {\"color\": \"#2a3f5f\"}}, \"ternary\": {\"aaxis\": {\"gridcolor\": \"white\", \"linecolor\": \"white\", \"ticks\": \"\"}, \"baxis\": {\"gridcolor\": \"white\", \"linecolor\": \"white\", \"ticks\": \"\"}, \"bgcolor\": \"#E5ECF6\", \"caxis\": {\"gridcolor\": \"white\", \"linecolor\": \"white\", \"ticks\": \"\"}}, \"title\": {\"x\": 0.05}, \"xaxis\": {\"automargin\": true, \"gridcolor\": \"white\", \"linecolor\": \"white\", \"ticks\": \"\", \"title\": {\"standoff\": 15}, \"zerolinecolor\": \"white\", \"zerolinewidth\": 2}, \"yaxis\": {\"automargin\": true, \"gridcolor\": \"white\", \"linecolor\": \"white\", \"ticks\": \"\", \"title\": {\"standoff\": 15}, \"zerolinecolor\": \"white\", \"zerolinewidth\": 2}}}},\n",
              "                        {\"responsive\": true}\n",
              "                    ).then(function(){\n",
              "                            \n",
              "var gd = document.getElementById('94098b0d-2f24-442a-938f-56f2934e138b');\n",
              "var x = new MutationObserver(function (mutations, observer) {{\n",
              "        var display = window.getComputedStyle(gd).display;\n",
              "        if (!display || display === 'none') {{\n",
              "            console.log([gd, 'removed!']);\n",
              "            Plotly.purge(gd);\n",
              "            observer.disconnect();\n",
              "        }}\n",
              "}});\n",
              "\n",
              "// Listen for the removal of the full notebook cells\n",
              "var notebookContainer = gd.closest('#notebook-container');\n",
              "if (notebookContainer) {{\n",
              "    x.observe(notebookContainer, {childList: true});\n",
              "}}\n",
              "\n",
              "// Listen for the clearing of the current output cell\n",
              "var outputEl = gd.closest('.output');\n",
              "if (outputEl) {{\n",
              "    x.observe(outputEl, {childList: true});\n",
              "}}\n",
              "\n",
              "                        })\n",
              "                };\n",
              "                \n",
              "            </script>\n",
              "        </div>\n",
              "</body>\n",
              "</html>"
            ]
          },
          "metadata": {
            "tags": []
          }
        }
      ]
    },
    {
      "cell_type": "markdown",
      "metadata": {
        "id": "wY1GhaCuFaAW"
      },
      "source": [
        "### Sanity Check #2 (Multiple Topics)"
      ]
    },
    {
      "cell_type": "code",
      "metadata": {
        "colab": {
          "base_uri": "https://localhost:8080/",
          "height": 534
        },
        "id": "NgwEsZI_Fml9",
        "outputId": "d714e0ce-d842-4f78-ccc8-22114b715977"
      },
      "source": [
        "lda = LDA(num_topics=4, corpus_path='/content/corpuses/sanity_check_multiple_topics/')\r\n",
        "lda.fit(5000, 1000)\r\n",
        "lda.show_documents()\r\n",
        "lda.show_words()"
      ],
      "execution_count": 8,
      "outputs": [
        {
          "output_type": "stream",
          "text": [
            " [-----------------100%-----------------] 5000 of 5000 complete in 34.6 sec"
          ],
          "name": "stdout"
        },
        {
          "output_type": "display_data",
          "data": {
            "text/html": [
              "<html>\n",
              "<head><meta charset=\"utf-8\" /></head>\n",
              "<body>\n",
              "    <div>\n",
              "            <script src=\"https://cdnjs.cloudflare.com/ajax/libs/mathjax/2.7.5/MathJax.js?config=TeX-AMS-MML_SVG\"></script><script type=\"text/javascript\">if (window.MathJax) {MathJax.Hub.Config({SVG: {font: \"STIX-Web\"}});}</script>\n",
              "                <script type=\"text/javascript\">window.PlotlyConfig = {MathJaxConfig: 'local'};</script>\n",
              "        <script src=\"https://cdn.plot.ly/plotly-latest.min.js\"></script>    \n",
              "            <div id=\"300126a5-0fd8-444d-b7fc-caa24440555e\" class=\"plotly-graph-div\" style=\"height:290px; width:100%;\"></div>\n",
              "            <script type=\"text/javascript\">\n",
              "                \n",
              "                    window.PLOTLYENV=window.PLOTLYENV || {};\n",
              "                    \n",
              "                if (document.getElementById(\"300126a5-0fd8-444d-b7fc-caa24440555e\")) {\n",
              "                    Plotly.newPlot(\n",
              "                        '300126a5-0fd8-444d-b7fc-caa24440555e',\n",
              "                        [{\"cells\": {\"align\": \"center\", \"fill\": {\"color\": [[\"rgba(230, 216, 110, 0.1)\", \"rgba(230, 216, 110, 0.1)\", \"rgba(230, 216, 110, 0.1)\", \"rgba(230, 216, 110, 0.1)\", \"rgba(230, 216, 110, 0.1)\", \"rgba(230, 216, 110, 0.1)\", \"rgba(230, 216, 110, 0.1)\", \"rgba(230, 216, 110, 0.1)\", \"rgba(230, 216, 110, 0.1)\", \"rgba(230, 216, 110, 0.1)\", \"rgba(230, 216, 110, 0.1)\", \"rgba(230, 216, 110, 0.1)\"], [\"rgba(31, 119, 180, 0.04)\", \"rgba(31, 119, 180, 0.71)\", \"rgba(31, 119, 180, 0.07)\", \"rgba(31, 119, 180, 0.12)\", \"rgba(31, 119, 180, 0.00)\", \"rgba(31, 119, 180, 0.01)\", \"rgba(31, 119, 180, 0.21)\", \"rgba(31, 119, 180, 0.53)\", \"rgba(31, 119, 180, 0.00)\", \"rgba(31, 119, 180, 0.20)\", \"rgba(31, 119, 180, 0.19)\", \"rgba(31, 119, 180, 0.08)\"], [\"rgba(255, 127, 14, 0.84)\", \"rgba(255, 127, 14, 0.01)\", \"rgba(255, 127, 14, 0.81)\", \"rgba(255, 127, 14, 0.27)\", \"rgba(255, 127, 14, 0.88)\", \"rgba(255, 127, 14, 0.34)\", \"rgba(255, 127, 14, 0.10)\", \"rgba(255, 127, 14, 0.17)\", \"rgba(255, 127, 14, 0.05)\", \"rgba(255, 127, 14, 0.06)\", \"rgba(255, 127, 14, 0.02)\", \"rgba(255, 127, 14, 0.08)\"], [\"rgba(44, 160, 44, 0.05)\", \"rgba(44, 160, 44, 0.01)\", \"rgba(44, 160, 44, 0.06)\", \"rgba(44, 160, 44, 0.00)\", \"rgba(44, 160, 44, 0.11)\", \"rgba(44, 160, 44, 0.09)\", \"rgba(44, 160, 44, 0.00)\", \"rgba(44, 160, 44, 0.06)\", \"rgba(44, 160, 44, 0.00)\", \"rgba(44, 160, 44, 0.70)\", \"rgba(44, 160, 44, 0.76)\", \"rgba(44, 160, 44, 0.65)\"], [\"rgba(214, 39, 40, 0.07)\", \"rgba(214, 39, 40, 0.28)\", \"rgba(214, 39, 40, 0.07)\", \"rgba(214, 39, 40, 0.61)\", \"rgba(214, 39, 40, 0.01)\", \"rgba(214, 39, 40, 0.56)\", \"rgba(214, 39, 40, 0.69)\", \"rgba(214, 39, 40, 0.25)\", \"rgba(214, 39, 40, 0.95)\", \"rgba(214, 39, 40, 0.04)\", \"rgba(214, 39, 40, 0.03)\", \"rgba(214, 39, 40, 0.19)\"]]}, \"font\": {\"color\": [\"black\", \"white\"], \"size\": 11}, \"values\": [[\"aaa bbb aaa\", \"bbb aaa bbb\", \"bbb bbb aaa aaa\", \"fff eee eee fff\", \"eee fff eee fff\", \"eee fff\", \"mmm nnn mmm\", \"nnn mmm nnn mmm\", \"nnn mmm mmm nnn\", \"uuu vvv uuu vvv\", \"vvv uuu uuu\", \"vvv uuu vvv vvv\"], [\"0.04\", \"0.71\", \"0.07\", \"0.12\", \"0.00\", \"0.01\", \"0.21\", \"0.53\", \"0.00\", \"0.20\", \"0.19\", \"0.08\"], [\"0.84\", \"0.01\", \"0.81\", \"0.27\", \"0.88\", \"0.34\", \"0.10\", \"0.17\", \"0.05\", \"0.06\", \"0.02\", \"0.08\"], [\"0.05\", \"0.01\", \"0.06\", \"0.00\", \"0.11\", \"0.09\", \"0.00\", \"0.06\", \"0.00\", \"0.70\", \"0.76\", \"0.65\"], [\"0.07\", \"0.28\", \"0.07\", \"0.61\", \"0.01\", \"0.56\", \"0.69\", \"0.25\", \"0.95\", \"0.04\", \"0.03\", \"0.19\"]]}, \"columnwidth\": [300, 100], \"header\": {\"align\": \"center\", \"fill\": {\"color\": \"white\"}, \"font\": {\"color\": \"black\", \"size\": 12}, \"height\": 30, \"line\": {\"color\": \"white\"}, \"values\": [\"Document\", \"Topic #1\", \"Topic #2\", \"Topic #3\", \"Topic #4\"]}, \"type\": \"table\"}],\n",
              "                        {\"height\": 290, \"margin\": {\"autoexpand\": false, \"b\": 0, \"l\": 0, \"pad\": 0, \"r\": 0, \"t\": 0}, \"template\": {\"data\": {\"bar\": [{\"error_x\": {\"color\": \"#2a3f5f\"}, \"error_y\": {\"color\": \"#2a3f5f\"}, \"marker\": {\"line\": {\"color\": \"#E5ECF6\", \"width\": 0.5}}, \"type\": \"bar\"}], \"barpolar\": [{\"marker\": {\"line\": {\"color\": \"#E5ECF6\", \"width\": 0.5}}, \"type\": \"barpolar\"}], \"carpet\": [{\"aaxis\": {\"endlinecolor\": \"#2a3f5f\", \"gridcolor\": \"white\", \"linecolor\": \"white\", \"minorgridcolor\": \"white\", \"startlinecolor\": \"#2a3f5f\"}, \"baxis\": {\"endlinecolor\": \"#2a3f5f\", \"gridcolor\": \"white\", \"linecolor\": \"white\", \"minorgridcolor\": \"white\", \"startlinecolor\": \"#2a3f5f\"}, \"type\": \"carpet\"}], \"choropleth\": [{\"colorbar\": {\"outlinewidth\": 0, \"ticks\": \"\"}, \"type\": \"choropleth\"}], \"contour\": [{\"colorbar\": {\"outlinewidth\": 0, \"ticks\": \"\"}, \"colorscale\": [[0.0, \"#0d0887\"], [0.1111111111111111, \"#46039f\"], [0.2222222222222222, \"#7201a8\"], [0.3333333333333333, \"#9c179e\"], [0.4444444444444444, \"#bd3786\"], [0.5555555555555556, \"#d8576b\"], [0.6666666666666666, \"#ed7953\"], [0.7777777777777778, \"#fb9f3a\"], [0.8888888888888888, \"#fdca26\"], [1.0, \"#f0f921\"]], \"type\": \"contour\"}], \"contourcarpet\": [{\"colorbar\": {\"outlinewidth\": 0, \"ticks\": \"\"}, \"type\": \"contourcarpet\"}], \"heatmap\": [{\"colorbar\": {\"outlinewidth\": 0, \"ticks\": \"\"}, \"colorscale\": [[0.0, \"#0d0887\"], [0.1111111111111111, \"#46039f\"], [0.2222222222222222, \"#7201a8\"], [0.3333333333333333, \"#9c179e\"], [0.4444444444444444, \"#bd3786\"], [0.5555555555555556, \"#d8576b\"], [0.6666666666666666, \"#ed7953\"], [0.7777777777777778, \"#fb9f3a\"], [0.8888888888888888, \"#fdca26\"], [1.0, \"#f0f921\"]], \"type\": \"heatmap\"}], \"heatmapgl\": [{\"colorbar\": {\"outlinewidth\": 0, \"ticks\": \"\"}, \"colorscale\": [[0.0, \"#0d0887\"], [0.1111111111111111, \"#46039f\"], [0.2222222222222222, \"#7201a8\"], [0.3333333333333333, \"#9c179e\"], [0.4444444444444444, \"#bd3786\"], [0.5555555555555556, \"#d8576b\"], [0.6666666666666666, \"#ed7953\"], [0.7777777777777778, \"#fb9f3a\"], [0.8888888888888888, \"#fdca26\"], [1.0, \"#f0f921\"]], \"type\": \"heatmapgl\"}], \"histogram\": [{\"marker\": {\"colorbar\": {\"outlinewidth\": 0, \"ticks\": \"\"}}, \"type\": \"histogram\"}], \"histogram2d\": [{\"colorbar\": {\"outlinewidth\": 0, \"ticks\": \"\"}, \"colorscale\": [[0.0, \"#0d0887\"], [0.1111111111111111, \"#46039f\"], [0.2222222222222222, \"#7201a8\"], [0.3333333333333333, \"#9c179e\"], [0.4444444444444444, \"#bd3786\"], [0.5555555555555556, \"#d8576b\"], [0.6666666666666666, \"#ed7953\"], [0.7777777777777778, \"#fb9f3a\"], [0.8888888888888888, \"#fdca26\"], [1.0, \"#f0f921\"]], \"type\": \"histogram2d\"}], \"histogram2dcontour\": [{\"colorbar\": {\"outlinewidth\": 0, \"ticks\": \"\"}, \"colorscale\": [[0.0, \"#0d0887\"], [0.1111111111111111, \"#46039f\"], [0.2222222222222222, \"#7201a8\"], [0.3333333333333333, \"#9c179e\"], [0.4444444444444444, \"#bd3786\"], [0.5555555555555556, \"#d8576b\"], [0.6666666666666666, \"#ed7953\"], [0.7777777777777778, \"#fb9f3a\"], [0.8888888888888888, \"#fdca26\"], [1.0, \"#f0f921\"]], \"type\": \"histogram2dcontour\"}], \"mesh3d\": [{\"colorbar\": {\"outlinewidth\": 0, \"ticks\": \"\"}, \"type\": \"mesh3d\"}], \"parcoords\": [{\"line\": {\"colorbar\": {\"outlinewidth\": 0, \"ticks\": \"\"}}, \"type\": \"parcoords\"}], \"pie\": [{\"automargin\": true, \"type\": \"pie\"}], \"scatter\": [{\"marker\": {\"colorbar\": {\"outlinewidth\": 0, \"ticks\": \"\"}}, \"type\": \"scatter\"}], \"scatter3d\": [{\"line\": {\"colorbar\": {\"outlinewidth\": 0, \"ticks\": \"\"}}, \"marker\": {\"colorbar\": {\"outlinewidth\": 0, \"ticks\": \"\"}}, \"type\": \"scatter3d\"}], \"scattercarpet\": [{\"marker\": {\"colorbar\": {\"outlinewidth\": 0, \"ticks\": \"\"}}, \"type\": \"scattercarpet\"}], \"scattergeo\": [{\"marker\": {\"colorbar\": {\"outlinewidth\": 0, \"ticks\": \"\"}}, \"type\": \"scattergeo\"}], \"scattergl\": [{\"marker\": {\"colorbar\": {\"outlinewidth\": 0, \"ticks\": \"\"}}, \"type\": \"scattergl\"}], \"scattermapbox\": [{\"marker\": {\"colorbar\": {\"outlinewidth\": 0, \"ticks\": \"\"}}, \"type\": \"scattermapbox\"}], \"scatterpolar\": [{\"marker\": {\"colorbar\": {\"outlinewidth\": 0, \"ticks\": \"\"}}, \"type\": \"scatterpolar\"}], \"scatterpolargl\": [{\"marker\": {\"colorbar\": {\"outlinewidth\": 0, \"ticks\": \"\"}}, \"type\": \"scatterpolargl\"}], \"scatterternary\": [{\"marker\": {\"colorbar\": {\"outlinewidth\": 0, \"ticks\": \"\"}}, \"type\": \"scatterternary\"}], \"surface\": [{\"colorbar\": {\"outlinewidth\": 0, \"ticks\": \"\"}, \"colorscale\": [[0.0, \"#0d0887\"], [0.1111111111111111, \"#46039f\"], [0.2222222222222222, \"#7201a8\"], [0.3333333333333333, \"#9c179e\"], [0.4444444444444444, \"#bd3786\"], [0.5555555555555556, \"#d8576b\"], [0.6666666666666666, \"#ed7953\"], [0.7777777777777778, \"#fb9f3a\"], [0.8888888888888888, \"#fdca26\"], [1.0, \"#f0f921\"]], \"type\": \"surface\"}], \"table\": [{\"cells\": {\"fill\": {\"color\": \"#EBF0F8\"}, \"line\": {\"color\": \"white\"}}, \"header\": {\"fill\": {\"color\": \"#C8D4E3\"}, \"line\": {\"color\": \"white\"}}, \"type\": \"table\"}]}, \"layout\": {\"annotationdefaults\": {\"arrowcolor\": \"#2a3f5f\", \"arrowhead\": 0, \"arrowwidth\": 1}, \"coloraxis\": {\"colorbar\": {\"outlinewidth\": 0, \"ticks\": \"\"}}, \"colorscale\": {\"diverging\": [[0, \"#8e0152\"], [0.1, \"#c51b7d\"], [0.2, \"#de77ae\"], [0.3, \"#f1b6da\"], [0.4, \"#fde0ef\"], [0.5, \"#f7f7f7\"], [0.6, \"#e6f5d0\"], [0.7, \"#b8e186\"], [0.8, \"#7fbc41\"], [0.9, \"#4d9221\"], [1, \"#276419\"]], \"sequential\": [[0.0, \"#0d0887\"], [0.1111111111111111, \"#46039f\"], [0.2222222222222222, \"#7201a8\"], [0.3333333333333333, \"#9c179e\"], [0.4444444444444444, \"#bd3786\"], [0.5555555555555556, \"#d8576b\"], [0.6666666666666666, \"#ed7953\"], [0.7777777777777778, \"#fb9f3a\"], [0.8888888888888888, \"#fdca26\"], [1.0, \"#f0f921\"]], \"sequentialminus\": [[0.0, \"#0d0887\"], [0.1111111111111111, \"#46039f\"], [0.2222222222222222, \"#7201a8\"], [0.3333333333333333, \"#9c179e\"], [0.4444444444444444, \"#bd3786\"], [0.5555555555555556, \"#d8576b\"], [0.6666666666666666, \"#ed7953\"], [0.7777777777777778, \"#fb9f3a\"], [0.8888888888888888, \"#fdca26\"], [1.0, \"#f0f921\"]]}, \"colorway\": [\"#636efa\", \"#EF553B\", \"#00cc96\", \"#ab63fa\", \"#FFA15A\", \"#19d3f3\", \"#FF6692\", \"#B6E880\", \"#FF97FF\", \"#FECB52\"], \"font\": {\"color\": \"#2a3f5f\"}, \"geo\": {\"bgcolor\": \"white\", \"lakecolor\": \"white\", \"landcolor\": \"#E5ECF6\", \"showlakes\": true, \"showland\": true, \"subunitcolor\": \"white\"}, \"hoverlabel\": {\"align\": \"left\"}, \"hovermode\": \"closest\", \"mapbox\": {\"style\": \"light\"}, \"paper_bgcolor\": \"white\", \"plot_bgcolor\": \"#E5ECF6\", \"polar\": {\"angularaxis\": {\"gridcolor\": \"white\", \"linecolor\": \"white\", \"ticks\": \"\"}, \"bgcolor\": \"#E5ECF6\", \"radialaxis\": {\"gridcolor\": \"white\", \"linecolor\": \"white\", \"ticks\": \"\"}}, \"scene\": {\"xaxis\": {\"backgroundcolor\": \"#E5ECF6\", \"gridcolor\": \"white\", \"gridwidth\": 2, \"linecolor\": \"white\", \"showbackground\": true, \"ticks\": \"\", \"zerolinecolor\": \"white\"}, \"yaxis\": {\"backgroundcolor\": \"#E5ECF6\", \"gridcolor\": \"white\", \"gridwidth\": 2, \"linecolor\": \"white\", \"showbackground\": true, \"ticks\": \"\", \"zerolinecolor\": \"white\"}, \"zaxis\": {\"backgroundcolor\": \"#E5ECF6\", \"gridcolor\": \"white\", \"gridwidth\": 2, \"linecolor\": \"white\", \"showbackground\": true, \"ticks\": \"\", \"zerolinecolor\": \"white\"}}, \"shapedefaults\": {\"line\": {\"color\": \"#2a3f5f\"}}, \"ternary\": {\"aaxis\": {\"gridcolor\": \"white\", \"linecolor\": \"white\", \"ticks\": \"\"}, \"baxis\": {\"gridcolor\": \"white\", \"linecolor\": \"white\", \"ticks\": \"\"}, \"bgcolor\": \"#E5ECF6\", \"caxis\": {\"gridcolor\": \"white\", \"linecolor\": \"white\", \"ticks\": \"\"}}, \"title\": {\"x\": 0.05}, \"xaxis\": {\"automargin\": true, \"gridcolor\": \"white\", \"linecolor\": \"white\", \"ticks\": \"\", \"title\": {\"standoff\": 15}, \"zerolinecolor\": \"white\", \"zerolinewidth\": 2}, \"yaxis\": {\"automargin\": true, \"gridcolor\": \"white\", \"linecolor\": \"white\", \"ticks\": \"\", \"title\": {\"standoff\": 15}, \"zerolinecolor\": \"white\", \"zerolinewidth\": 2}}}},\n",
              "                        {\"responsive\": true}\n",
              "                    ).then(function(){\n",
              "                            \n",
              "var gd = document.getElementById('300126a5-0fd8-444d-b7fc-caa24440555e');\n",
              "var x = new MutationObserver(function (mutations, observer) {{\n",
              "        var display = window.getComputedStyle(gd).display;\n",
              "        if (!display || display === 'none') {{\n",
              "            console.log([gd, 'removed!']);\n",
              "            Plotly.purge(gd);\n",
              "            observer.disconnect();\n",
              "        }}\n",
              "}});\n",
              "\n",
              "// Listen for the removal of the full notebook cells\n",
              "var notebookContainer = gd.closest('#notebook-container');\n",
              "if (notebookContainer) {{\n",
              "    x.observe(notebookContainer, {childList: true});\n",
              "}}\n",
              "\n",
              "// Listen for the clearing of the current output cell\n",
              "var outputEl = gd.closest('.output');\n",
              "if (outputEl) {{\n",
              "    x.observe(outputEl, {childList: true});\n",
              "}}\n",
              "\n",
              "                        })\n",
              "                };\n",
              "                \n",
              "            </script>\n",
              "        </div>\n",
              "</body>\n",
              "</html>"
            ]
          },
          "metadata": {
            "tags": []
          }
        },
        {
          "output_type": "display_data",
          "data": {
            "text/html": [
              "<html>\n",
              "<head><meta charset=\"utf-8\" /></head>\n",
              "<body>\n",
              "    <div>\n",
              "            <script src=\"https://cdnjs.cloudflare.com/ajax/libs/mathjax/2.7.5/MathJax.js?config=TeX-AMS-MML_SVG\"></script><script type=\"text/javascript\">if (window.MathJax) {MathJax.Hub.Config({SVG: {font: \"STIX-Web\"}});}</script>\n",
              "                <script type=\"text/javascript\">window.PlotlyConfig = {MathJaxConfig: 'local'};</script>\n",
              "        <script src=\"https://cdn.plot.ly/plotly-latest.min.js\"></script>    \n",
              "            <div id=\"381410f7-662c-4d6f-9abd-ae91a5809b12\" class=\"plotly-graph-div\" style=\"height:210px; width:100%;\"></div>\n",
              "            <script type=\"text/javascript\">\n",
              "                \n",
              "                    window.PLOTLYENV=window.PLOTLYENV || {};\n",
              "                    \n",
              "                if (document.getElementById(\"381410f7-662c-4d6f-9abd-ae91a5809b12\")) {\n",
              "                    Plotly.newPlot(\n",
              "                        '381410f7-662c-4d6f-9abd-ae91a5809b12',\n",
              "                        [{\"cells\": {\"align\": \"center\", \"fill\": {\"color\": [[\"rgba(230, 216, 110, 0.1)\", \"rgba(230, 216, 110, 0.1)\", \"rgba(230, 216, 110, 0.1)\", \"rgba(230, 216, 110, 0.1)\", \"rgba(230, 216, 110, 0.1)\", \"rgba(230, 216, 110, 0.1)\", \"rgba(230, 216, 110, 0.1)\", \"rgba(230, 216, 110, 0.1)\"], [\"rgba(31, 119, 180, 0.00)\", \"rgba(31, 119, 180, 0.03)\", \"rgba(31, 119, 180, 0.22)\", \"rgba(31, 119, 180, 0.03)\", \"rgba(31, 119, 180, 0.79)\", \"rgba(31, 119, 180, 0.26)\", \"rgba(31, 119, 180, 0.16)\", \"rgba(31, 119, 180, 0.00)\"], [\"rgba(255, 127, 14, 0.80)\", \"rgba(255, 127, 14, 0.09)\", \"rgba(255, 127, 14, 0.45)\", \"rgba(255, 127, 14, 0.00)\", \"rgba(255, 127, 14, 0.00)\", \"rgba(255, 127, 14, 0.00)\", \"rgba(255, 127, 14, 0.06)\", \"rgba(255, 127, 14, 0.09)\"], [\"rgba(44, 160, 44, 0.07)\", \"rgba(44, 160, 44, 0.00)\", \"rgba(44, 160, 44, 0.08)\", \"rgba(44, 160, 44, 0.19)\", \"rgba(44, 160, 44, 0.01)\", \"rgba(44, 160, 44, 0.03)\", \"rgba(44, 160, 44, 0.52)\", \"rgba(44, 160, 44, 0.60)\"], [\"rgba(214, 39, 40, 0.00)\", \"rgba(214, 39, 40, 0.00)\", \"rgba(214, 39, 40, 0.12)\", \"rgba(214, 39, 40, 0.35)\", \"rgba(214, 39, 40, 0.10)\", \"rgba(214, 39, 40, 0.79)\", \"rgba(214, 39, 40, 0.00)\", \"rgba(214, 39, 40, 0.13)\"]]}, \"font\": {\"color\": [\"black\", \"white\"], \"size\": 11}, \"values\": [[\"aaa\", \"bbb\", \"eee\", \"fff\", \"mmm\", \"nnn\", \"uuu\", \"vvv\"], [\"0.00\", \"0.02\", \"0.15\", \"0.02\", \"0.53\", \"0.17\", \"0.11\", \"0.00\"], [\"0.54\", \"0.06\", \"0.30\", \"0.00\", \"0.00\", \"0.00\", \"0.04\", \"0.06\"], [\"0.05\", \"0.00\", \"0.05\", \"0.13\", \"0.01\", \"0.02\", \"0.35\", \"0.40\"], [\"0.00\", \"0.00\", \"0.08\", \"0.24\", \"0.07\", \"0.53\", \"0.00\", \"0.08\"]]}, \"columnwidth\": [300, 100], \"header\": {\"align\": \"center\", \"fill\": {\"color\": \"white\"}, \"font\": {\"color\": \"black\", \"size\": 12}, \"height\": 30, \"line\": {\"color\": \"white\"}, \"values\": [\"Word\", \"Topic #1\", \"Topic #2\", \"Topic #3\", \"Topic #4\"]}, \"type\": \"table\"}],\n",
              "                        {\"height\": 210, \"margin\": {\"autoexpand\": false, \"b\": 0, \"l\": 0, \"pad\": 0, \"r\": 0, \"t\": 0}, \"template\": {\"data\": {\"bar\": [{\"error_x\": {\"color\": \"#2a3f5f\"}, \"error_y\": {\"color\": \"#2a3f5f\"}, \"marker\": {\"line\": {\"color\": \"#E5ECF6\", \"width\": 0.5}}, \"type\": \"bar\"}], \"barpolar\": [{\"marker\": {\"line\": {\"color\": \"#E5ECF6\", \"width\": 0.5}}, \"type\": \"barpolar\"}], \"carpet\": [{\"aaxis\": {\"endlinecolor\": \"#2a3f5f\", \"gridcolor\": \"white\", \"linecolor\": \"white\", \"minorgridcolor\": \"white\", \"startlinecolor\": \"#2a3f5f\"}, \"baxis\": {\"endlinecolor\": \"#2a3f5f\", \"gridcolor\": \"white\", \"linecolor\": \"white\", \"minorgridcolor\": \"white\", \"startlinecolor\": \"#2a3f5f\"}, \"type\": \"carpet\"}], \"choropleth\": [{\"colorbar\": {\"outlinewidth\": 0, \"ticks\": \"\"}, \"type\": \"choropleth\"}], \"contour\": [{\"colorbar\": {\"outlinewidth\": 0, \"ticks\": \"\"}, \"colorscale\": [[0.0, \"#0d0887\"], [0.1111111111111111, \"#46039f\"], [0.2222222222222222, \"#7201a8\"], [0.3333333333333333, \"#9c179e\"], [0.4444444444444444, \"#bd3786\"], [0.5555555555555556, \"#d8576b\"], [0.6666666666666666, \"#ed7953\"], [0.7777777777777778, \"#fb9f3a\"], [0.8888888888888888, \"#fdca26\"], [1.0, \"#f0f921\"]], \"type\": \"contour\"}], \"contourcarpet\": [{\"colorbar\": {\"outlinewidth\": 0, \"ticks\": \"\"}, \"type\": \"contourcarpet\"}], \"heatmap\": [{\"colorbar\": {\"outlinewidth\": 0, \"ticks\": \"\"}, \"colorscale\": [[0.0, \"#0d0887\"], [0.1111111111111111, \"#46039f\"], [0.2222222222222222, \"#7201a8\"], [0.3333333333333333, \"#9c179e\"], [0.4444444444444444, \"#bd3786\"], [0.5555555555555556, \"#d8576b\"], [0.6666666666666666, \"#ed7953\"], [0.7777777777777778, \"#fb9f3a\"], [0.8888888888888888, \"#fdca26\"], [1.0, \"#f0f921\"]], \"type\": \"heatmap\"}], \"heatmapgl\": [{\"colorbar\": {\"outlinewidth\": 0, \"ticks\": \"\"}, \"colorscale\": [[0.0, \"#0d0887\"], [0.1111111111111111, \"#46039f\"], [0.2222222222222222, \"#7201a8\"], [0.3333333333333333, \"#9c179e\"], [0.4444444444444444, \"#bd3786\"], [0.5555555555555556, \"#d8576b\"], [0.6666666666666666, \"#ed7953\"], [0.7777777777777778, \"#fb9f3a\"], [0.8888888888888888, \"#fdca26\"], [1.0, \"#f0f921\"]], \"type\": \"heatmapgl\"}], \"histogram\": [{\"marker\": {\"colorbar\": {\"outlinewidth\": 0, \"ticks\": \"\"}}, \"type\": \"histogram\"}], \"histogram2d\": [{\"colorbar\": {\"outlinewidth\": 0, \"ticks\": \"\"}, \"colorscale\": [[0.0, \"#0d0887\"], [0.1111111111111111, \"#46039f\"], [0.2222222222222222, \"#7201a8\"], [0.3333333333333333, \"#9c179e\"], [0.4444444444444444, \"#bd3786\"], [0.5555555555555556, \"#d8576b\"], [0.6666666666666666, \"#ed7953\"], [0.7777777777777778, \"#fb9f3a\"], [0.8888888888888888, \"#fdca26\"], [1.0, \"#f0f921\"]], \"type\": \"histogram2d\"}], \"histogram2dcontour\": [{\"colorbar\": {\"outlinewidth\": 0, \"ticks\": \"\"}, \"colorscale\": [[0.0, \"#0d0887\"], [0.1111111111111111, \"#46039f\"], [0.2222222222222222, \"#7201a8\"], [0.3333333333333333, \"#9c179e\"], [0.4444444444444444, \"#bd3786\"], [0.5555555555555556, \"#d8576b\"], [0.6666666666666666, \"#ed7953\"], [0.7777777777777778, \"#fb9f3a\"], [0.8888888888888888, \"#fdca26\"], [1.0, \"#f0f921\"]], \"type\": \"histogram2dcontour\"}], \"mesh3d\": [{\"colorbar\": {\"outlinewidth\": 0, \"ticks\": \"\"}, \"type\": \"mesh3d\"}], \"parcoords\": [{\"line\": {\"colorbar\": {\"outlinewidth\": 0, \"ticks\": \"\"}}, \"type\": \"parcoords\"}], \"pie\": [{\"automargin\": true, \"type\": \"pie\"}], \"scatter\": [{\"marker\": {\"colorbar\": {\"outlinewidth\": 0, \"ticks\": \"\"}}, \"type\": \"scatter\"}], \"scatter3d\": [{\"line\": {\"colorbar\": {\"outlinewidth\": 0, \"ticks\": \"\"}}, \"marker\": {\"colorbar\": {\"outlinewidth\": 0, \"ticks\": \"\"}}, \"type\": \"scatter3d\"}], \"scattercarpet\": [{\"marker\": {\"colorbar\": {\"outlinewidth\": 0, \"ticks\": \"\"}}, \"type\": \"scattercarpet\"}], \"scattergeo\": [{\"marker\": {\"colorbar\": {\"outlinewidth\": 0, \"ticks\": \"\"}}, \"type\": \"scattergeo\"}], \"scattergl\": [{\"marker\": {\"colorbar\": {\"outlinewidth\": 0, \"ticks\": \"\"}}, \"type\": \"scattergl\"}], \"scattermapbox\": [{\"marker\": {\"colorbar\": {\"outlinewidth\": 0, \"ticks\": \"\"}}, \"type\": \"scattermapbox\"}], \"scatterpolar\": [{\"marker\": {\"colorbar\": {\"outlinewidth\": 0, \"ticks\": \"\"}}, \"type\": \"scatterpolar\"}], \"scatterpolargl\": [{\"marker\": {\"colorbar\": {\"outlinewidth\": 0, \"ticks\": \"\"}}, \"type\": \"scatterpolargl\"}], \"scatterternary\": [{\"marker\": {\"colorbar\": {\"outlinewidth\": 0, \"ticks\": \"\"}}, \"type\": \"scatterternary\"}], \"surface\": [{\"colorbar\": {\"outlinewidth\": 0, \"ticks\": \"\"}, \"colorscale\": [[0.0, \"#0d0887\"], [0.1111111111111111, \"#46039f\"], [0.2222222222222222, \"#7201a8\"], [0.3333333333333333, \"#9c179e\"], [0.4444444444444444, \"#bd3786\"], [0.5555555555555556, \"#d8576b\"], [0.6666666666666666, \"#ed7953\"], [0.7777777777777778, \"#fb9f3a\"], [0.8888888888888888, \"#fdca26\"], [1.0, \"#f0f921\"]], \"type\": \"surface\"}], \"table\": [{\"cells\": {\"fill\": {\"color\": \"#EBF0F8\"}, \"line\": {\"color\": \"white\"}}, \"header\": {\"fill\": {\"color\": \"#C8D4E3\"}, \"line\": {\"color\": \"white\"}}, \"type\": \"table\"}]}, \"layout\": {\"annotationdefaults\": {\"arrowcolor\": \"#2a3f5f\", \"arrowhead\": 0, \"arrowwidth\": 1}, \"coloraxis\": {\"colorbar\": {\"outlinewidth\": 0, \"ticks\": \"\"}}, \"colorscale\": {\"diverging\": [[0, \"#8e0152\"], [0.1, \"#c51b7d\"], [0.2, \"#de77ae\"], [0.3, \"#f1b6da\"], [0.4, \"#fde0ef\"], [0.5, \"#f7f7f7\"], [0.6, \"#e6f5d0\"], [0.7, \"#b8e186\"], [0.8, \"#7fbc41\"], [0.9, \"#4d9221\"], [1, \"#276419\"]], \"sequential\": [[0.0, \"#0d0887\"], [0.1111111111111111, \"#46039f\"], [0.2222222222222222, \"#7201a8\"], [0.3333333333333333, \"#9c179e\"], [0.4444444444444444, \"#bd3786\"], [0.5555555555555556, \"#d8576b\"], [0.6666666666666666, \"#ed7953\"], [0.7777777777777778, \"#fb9f3a\"], [0.8888888888888888, \"#fdca26\"], [1.0, \"#f0f921\"]], \"sequentialminus\": [[0.0, \"#0d0887\"], [0.1111111111111111, \"#46039f\"], [0.2222222222222222, \"#7201a8\"], [0.3333333333333333, \"#9c179e\"], [0.4444444444444444, \"#bd3786\"], [0.5555555555555556, \"#d8576b\"], [0.6666666666666666, \"#ed7953\"], [0.7777777777777778, \"#fb9f3a\"], [0.8888888888888888, \"#fdca26\"], [1.0, \"#f0f921\"]]}, \"colorway\": [\"#636efa\", \"#EF553B\", \"#00cc96\", \"#ab63fa\", \"#FFA15A\", \"#19d3f3\", \"#FF6692\", \"#B6E880\", \"#FF97FF\", \"#FECB52\"], \"font\": {\"color\": \"#2a3f5f\"}, \"geo\": {\"bgcolor\": \"white\", \"lakecolor\": \"white\", \"landcolor\": \"#E5ECF6\", \"showlakes\": true, \"showland\": true, \"subunitcolor\": \"white\"}, \"hoverlabel\": {\"align\": \"left\"}, \"hovermode\": \"closest\", \"mapbox\": {\"style\": \"light\"}, \"paper_bgcolor\": \"white\", \"plot_bgcolor\": \"#E5ECF6\", \"polar\": {\"angularaxis\": {\"gridcolor\": \"white\", \"linecolor\": \"white\", \"ticks\": \"\"}, \"bgcolor\": \"#E5ECF6\", \"radialaxis\": {\"gridcolor\": \"white\", \"linecolor\": \"white\", \"ticks\": \"\"}}, \"scene\": {\"xaxis\": {\"backgroundcolor\": \"#E5ECF6\", \"gridcolor\": \"white\", \"gridwidth\": 2, \"linecolor\": \"white\", \"showbackground\": true, \"ticks\": \"\", \"zerolinecolor\": \"white\"}, \"yaxis\": {\"backgroundcolor\": \"#E5ECF6\", \"gridcolor\": \"white\", \"gridwidth\": 2, \"linecolor\": \"white\", \"showbackground\": true, \"ticks\": \"\", \"zerolinecolor\": \"white\"}, \"zaxis\": {\"backgroundcolor\": \"#E5ECF6\", \"gridcolor\": \"white\", \"gridwidth\": 2, \"linecolor\": \"white\", \"showbackground\": true, \"ticks\": \"\", \"zerolinecolor\": \"white\"}}, \"shapedefaults\": {\"line\": {\"color\": \"#2a3f5f\"}}, \"ternary\": {\"aaxis\": {\"gridcolor\": \"white\", \"linecolor\": \"white\", \"ticks\": \"\"}, \"baxis\": {\"gridcolor\": \"white\", \"linecolor\": \"white\", \"ticks\": \"\"}, \"bgcolor\": \"#E5ECF6\", \"caxis\": {\"gridcolor\": \"white\", \"linecolor\": \"white\", \"ticks\": \"\"}}, \"title\": {\"x\": 0.05}, \"xaxis\": {\"automargin\": true, \"gridcolor\": \"white\", \"linecolor\": \"white\", \"ticks\": \"\", \"title\": {\"standoff\": 15}, \"zerolinecolor\": \"white\", \"zerolinewidth\": 2}, \"yaxis\": {\"automargin\": true, \"gridcolor\": \"white\", \"linecolor\": \"white\", \"ticks\": \"\", \"title\": {\"standoff\": 15}, \"zerolinecolor\": \"white\", \"zerolinewidth\": 2}}}},\n",
              "                        {\"responsive\": true}\n",
              "                    ).then(function(){\n",
              "                            \n",
              "var gd = document.getElementById('381410f7-662c-4d6f-9abd-ae91a5809b12');\n",
              "var x = new MutationObserver(function (mutations, observer) {{\n",
              "        var display = window.getComputedStyle(gd).display;\n",
              "        if (!display || display === 'none') {{\n",
              "            console.log([gd, 'removed!']);\n",
              "            Plotly.purge(gd);\n",
              "            observer.disconnect();\n",
              "        }}\n",
              "}});\n",
              "\n",
              "// Listen for the removal of the full notebook cells\n",
              "var notebookContainer = gd.closest('#notebook-container');\n",
              "if (notebookContainer) {{\n",
              "    x.observe(notebookContainer, {childList: true});\n",
              "}}\n",
              "\n",
              "// Listen for the clearing of the current output cell\n",
              "var outputEl = gd.closest('.output');\n",
              "if (outputEl) {{\n",
              "    x.observe(outputEl, {childList: true});\n",
              "}}\n",
              "\n",
              "                        })\n",
              "                };\n",
              "                \n",
              "            </script>\n",
              "        </div>\n",
              "</body>\n",
              "</html>"
            ]
          },
          "metadata": {
            "tags": []
          }
        }
      ]
    },
    {
      "cell_type": "markdown",
      "metadata": {
        "id": "cR-8_ZC9wXY1"
      },
      "source": [
        "### Nuts and Animals"
      ]
    },
    {
      "cell_type": "code",
      "metadata": {
        "colab": {
          "base_uri": "https://localhost:8080/",
          "height": 574
        },
        "id": "TBVAIgGfYdbb",
        "outputId": "c2c26cf7-3074-4687-deea-cc7e67910962"
      },
      "source": [
        "lda = LDA(num_topics=2, corpus_path='/content/corpuses/nuts_and_animals/')\r\n",
        "lda.fit(10000, 2000)\r\n",
        "lda.show_documents()\r\n",
        "lda.show_words()"
      ],
      "execution_count": 9,
      "outputs": [
        {
          "output_type": "stream",
          "text": [
            " [-----------------100%-----------------] 10000 of 10000 complete in 28.0 sec"
          ],
          "name": "stdout"
        },
        {
          "output_type": "display_data",
          "data": {
            "text/html": [
              "<html>\n",
              "<head><meta charset=\"utf-8\" /></head>\n",
              "<body>\n",
              "    <div>\n",
              "            <script src=\"https://cdnjs.cloudflare.com/ajax/libs/mathjax/2.7.5/MathJax.js?config=TeX-AMS-MML_SVG\"></script><script type=\"text/javascript\">if (window.MathJax) {MathJax.Hub.Config({SVG: {font: \"STIX-Web\"}});}</script>\n",
              "                <script type=\"text/javascript\">window.PlotlyConfig = {MathJaxConfig: 'local'};</script>\n",
              "        <script src=\"https://cdn.plot.ly/plotly-latest.min.js\"></script>    \n",
              "            <div id=\"cdd52563-ebf0-4e35-a214-cbd172ddff2e\" class=\"plotly-graph-div\" style=\"height:150px; width:100%;\"></div>\n",
              "            <script type=\"text/javascript\">\n",
              "                \n",
              "                    window.PLOTLYENV=window.PLOTLYENV || {};\n",
              "                    \n",
              "                if (document.getElementById(\"cdd52563-ebf0-4e35-a214-cbd172ddff2e\")) {\n",
              "                    Plotly.newPlot(\n",
              "                        'cdd52563-ebf0-4e35-a214-cbd172ddff2e',\n",
              "                        [{\"cells\": {\"align\": \"center\", \"fill\": {\"color\": [[\"rgba(230, 216, 110, 0.1)\", \"rgba(230, 216, 110, 0.1)\", \"rgba(230, 216, 110, 0.1)\", \"rgba(230, 216, 110, 0.1)\", \"rgba(230, 216, 110, 0.1)\"], [\"rgba(31, 119, 180, 0.13)\", \"rgba(31, 119, 180, 0.27)\", \"rgba(31, 119, 180, 0.56)\", \"rgba(31, 119, 180, 0.21)\", \"rgba(31, 119, 180, 0.18)\"], [\"rgba(255, 127, 14, 0.87)\", \"rgba(255, 127, 14, 0.73)\", \"rgba(255, 127, 14, 0.44)\", \"rgba(255, 127, 14, 0.79)\", \"rgba(255, 127, 14, 0.82)\"]]}, \"font\": {\"color\": [\"black\", \"white\"], \"size\": 11}, \"values\": [[\"I had a peanuts Butter sandwich for breakfast.\", \"I like to eat almonds, peanuts and walnuts.\", \"My neighbor got a little dog yesterday.\", \"Cats and dogs are mortal enemies.\", \"You mustn't feed peanuts to your dog.\"], [\"0.13\", \"0.27\", \"0.56\", \"0.21\", \"0.18\"], [\"0.87\", \"0.73\", \"0.44\", \"0.79\", \"0.82\"]]}, \"columnwidth\": [300, 100], \"header\": {\"align\": \"center\", \"fill\": {\"color\": \"white\"}, \"font\": {\"color\": \"black\", \"size\": 12}, \"height\": 30, \"line\": {\"color\": \"white\"}, \"values\": [\"Document\", \"Topic #1\", \"Topic #2\"]}, \"type\": \"table\"}],\n",
              "                        {\"height\": 150, \"margin\": {\"autoexpand\": false, \"b\": 0, \"l\": 0, \"pad\": 0, \"r\": 0, \"t\": 0}, \"template\": {\"data\": {\"bar\": [{\"error_x\": {\"color\": \"#2a3f5f\"}, \"error_y\": {\"color\": \"#2a3f5f\"}, \"marker\": {\"line\": {\"color\": \"#E5ECF6\", \"width\": 0.5}}, \"type\": \"bar\"}], \"barpolar\": [{\"marker\": {\"line\": {\"color\": \"#E5ECF6\", \"width\": 0.5}}, \"type\": \"barpolar\"}], \"carpet\": [{\"aaxis\": {\"endlinecolor\": \"#2a3f5f\", \"gridcolor\": \"white\", \"linecolor\": \"white\", \"minorgridcolor\": \"white\", \"startlinecolor\": \"#2a3f5f\"}, \"baxis\": {\"endlinecolor\": \"#2a3f5f\", \"gridcolor\": \"white\", \"linecolor\": \"white\", \"minorgridcolor\": \"white\", \"startlinecolor\": \"#2a3f5f\"}, \"type\": \"carpet\"}], \"choropleth\": [{\"colorbar\": {\"outlinewidth\": 0, \"ticks\": \"\"}, \"type\": \"choropleth\"}], \"contour\": [{\"colorbar\": {\"outlinewidth\": 0, \"ticks\": \"\"}, \"colorscale\": [[0.0, \"#0d0887\"], [0.1111111111111111, \"#46039f\"], [0.2222222222222222, \"#7201a8\"], [0.3333333333333333, \"#9c179e\"], [0.4444444444444444, \"#bd3786\"], [0.5555555555555556, \"#d8576b\"], [0.6666666666666666, \"#ed7953\"], [0.7777777777777778, \"#fb9f3a\"], [0.8888888888888888, \"#fdca26\"], [1.0, \"#f0f921\"]], \"type\": \"contour\"}], \"contourcarpet\": [{\"colorbar\": {\"outlinewidth\": 0, \"ticks\": \"\"}, \"type\": \"contourcarpet\"}], \"heatmap\": [{\"colorbar\": {\"outlinewidth\": 0, \"ticks\": \"\"}, \"colorscale\": [[0.0, \"#0d0887\"], [0.1111111111111111, \"#46039f\"], [0.2222222222222222, \"#7201a8\"], [0.3333333333333333, \"#9c179e\"], [0.4444444444444444, \"#bd3786\"], [0.5555555555555556, \"#d8576b\"], [0.6666666666666666, \"#ed7953\"], [0.7777777777777778, \"#fb9f3a\"], [0.8888888888888888, \"#fdca26\"], [1.0, \"#f0f921\"]], \"type\": \"heatmap\"}], \"heatmapgl\": [{\"colorbar\": {\"outlinewidth\": 0, \"ticks\": \"\"}, \"colorscale\": [[0.0, \"#0d0887\"], [0.1111111111111111, \"#46039f\"], [0.2222222222222222, \"#7201a8\"], [0.3333333333333333, \"#9c179e\"], [0.4444444444444444, \"#bd3786\"], [0.5555555555555556, \"#d8576b\"], [0.6666666666666666, \"#ed7953\"], [0.7777777777777778, \"#fb9f3a\"], [0.8888888888888888, \"#fdca26\"], [1.0, \"#f0f921\"]], \"type\": \"heatmapgl\"}], \"histogram\": [{\"marker\": {\"colorbar\": {\"outlinewidth\": 0, \"ticks\": \"\"}}, \"type\": \"histogram\"}], \"histogram2d\": [{\"colorbar\": {\"outlinewidth\": 0, \"ticks\": \"\"}, \"colorscale\": [[0.0, \"#0d0887\"], [0.1111111111111111, \"#46039f\"], [0.2222222222222222, \"#7201a8\"], [0.3333333333333333, \"#9c179e\"], [0.4444444444444444, \"#bd3786\"], [0.5555555555555556, \"#d8576b\"], [0.6666666666666666, \"#ed7953\"], [0.7777777777777778, \"#fb9f3a\"], [0.8888888888888888, \"#fdca26\"], [1.0, \"#f0f921\"]], \"type\": \"histogram2d\"}], \"histogram2dcontour\": [{\"colorbar\": {\"outlinewidth\": 0, \"ticks\": \"\"}, \"colorscale\": [[0.0, \"#0d0887\"], [0.1111111111111111, \"#46039f\"], [0.2222222222222222, \"#7201a8\"], [0.3333333333333333, \"#9c179e\"], [0.4444444444444444, \"#bd3786\"], [0.5555555555555556, \"#d8576b\"], [0.6666666666666666, \"#ed7953\"], [0.7777777777777778, \"#fb9f3a\"], [0.8888888888888888, \"#fdca26\"], [1.0, \"#f0f921\"]], \"type\": \"histogram2dcontour\"}], \"mesh3d\": [{\"colorbar\": {\"outlinewidth\": 0, \"ticks\": \"\"}, \"type\": \"mesh3d\"}], \"parcoords\": [{\"line\": {\"colorbar\": {\"outlinewidth\": 0, \"ticks\": \"\"}}, \"type\": \"parcoords\"}], \"pie\": [{\"automargin\": true, \"type\": \"pie\"}], \"scatter\": [{\"marker\": {\"colorbar\": {\"outlinewidth\": 0, \"ticks\": \"\"}}, \"type\": \"scatter\"}], \"scatter3d\": [{\"line\": {\"colorbar\": {\"outlinewidth\": 0, \"ticks\": \"\"}}, \"marker\": {\"colorbar\": {\"outlinewidth\": 0, \"ticks\": \"\"}}, \"type\": \"scatter3d\"}], \"scattercarpet\": [{\"marker\": {\"colorbar\": {\"outlinewidth\": 0, \"ticks\": \"\"}}, \"type\": \"scattercarpet\"}], \"scattergeo\": [{\"marker\": {\"colorbar\": {\"outlinewidth\": 0, \"ticks\": \"\"}}, \"type\": \"scattergeo\"}], \"scattergl\": [{\"marker\": {\"colorbar\": {\"outlinewidth\": 0, \"ticks\": \"\"}}, \"type\": \"scattergl\"}], \"scattermapbox\": [{\"marker\": {\"colorbar\": {\"outlinewidth\": 0, \"ticks\": \"\"}}, \"type\": \"scattermapbox\"}], \"scatterpolar\": [{\"marker\": {\"colorbar\": {\"outlinewidth\": 0, \"ticks\": \"\"}}, \"type\": \"scatterpolar\"}], \"scatterpolargl\": [{\"marker\": {\"colorbar\": {\"outlinewidth\": 0, \"ticks\": \"\"}}, \"type\": \"scatterpolargl\"}], \"scatterternary\": [{\"marker\": {\"colorbar\": {\"outlinewidth\": 0, \"ticks\": \"\"}}, \"type\": \"scatterternary\"}], \"surface\": [{\"colorbar\": {\"outlinewidth\": 0, \"ticks\": \"\"}, \"colorscale\": [[0.0, \"#0d0887\"], [0.1111111111111111, \"#46039f\"], [0.2222222222222222, \"#7201a8\"], [0.3333333333333333, \"#9c179e\"], [0.4444444444444444, \"#bd3786\"], [0.5555555555555556, \"#d8576b\"], [0.6666666666666666, \"#ed7953\"], [0.7777777777777778, \"#fb9f3a\"], [0.8888888888888888, \"#fdca26\"], [1.0, \"#f0f921\"]], \"type\": \"surface\"}], \"table\": [{\"cells\": {\"fill\": {\"color\": \"#EBF0F8\"}, \"line\": {\"color\": \"white\"}}, \"header\": {\"fill\": {\"color\": \"#C8D4E3\"}, \"line\": {\"color\": \"white\"}}, \"type\": \"table\"}]}, \"layout\": {\"annotationdefaults\": {\"arrowcolor\": \"#2a3f5f\", \"arrowhead\": 0, \"arrowwidth\": 1}, \"coloraxis\": {\"colorbar\": {\"outlinewidth\": 0, \"ticks\": \"\"}}, \"colorscale\": {\"diverging\": [[0, \"#8e0152\"], [0.1, \"#c51b7d\"], [0.2, \"#de77ae\"], [0.3, \"#f1b6da\"], [0.4, \"#fde0ef\"], [0.5, \"#f7f7f7\"], [0.6, \"#e6f5d0\"], [0.7, \"#b8e186\"], [0.8, \"#7fbc41\"], [0.9, \"#4d9221\"], [1, \"#276419\"]], \"sequential\": [[0.0, \"#0d0887\"], [0.1111111111111111, \"#46039f\"], [0.2222222222222222, \"#7201a8\"], [0.3333333333333333, \"#9c179e\"], [0.4444444444444444, \"#bd3786\"], [0.5555555555555556, \"#d8576b\"], [0.6666666666666666, \"#ed7953\"], [0.7777777777777778, \"#fb9f3a\"], [0.8888888888888888, \"#fdca26\"], [1.0, \"#f0f921\"]], \"sequentialminus\": [[0.0, \"#0d0887\"], [0.1111111111111111, \"#46039f\"], [0.2222222222222222, \"#7201a8\"], [0.3333333333333333, \"#9c179e\"], [0.4444444444444444, \"#bd3786\"], [0.5555555555555556, \"#d8576b\"], [0.6666666666666666, \"#ed7953\"], [0.7777777777777778, \"#fb9f3a\"], [0.8888888888888888, \"#fdca26\"], [1.0, \"#f0f921\"]]}, \"colorway\": [\"#636efa\", \"#EF553B\", \"#00cc96\", \"#ab63fa\", \"#FFA15A\", \"#19d3f3\", \"#FF6692\", \"#B6E880\", \"#FF97FF\", \"#FECB52\"], \"font\": {\"color\": \"#2a3f5f\"}, \"geo\": {\"bgcolor\": \"white\", \"lakecolor\": \"white\", \"landcolor\": \"#E5ECF6\", \"showlakes\": true, \"showland\": true, \"subunitcolor\": \"white\"}, \"hoverlabel\": {\"align\": \"left\"}, \"hovermode\": \"closest\", \"mapbox\": {\"style\": \"light\"}, \"paper_bgcolor\": \"white\", \"plot_bgcolor\": \"#E5ECF6\", \"polar\": {\"angularaxis\": {\"gridcolor\": \"white\", \"linecolor\": \"white\", \"ticks\": \"\"}, \"bgcolor\": \"#E5ECF6\", \"radialaxis\": {\"gridcolor\": \"white\", \"linecolor\": \"white\", \"ticks\": \"\"}}, \"scene\": {\"xaxis\": {\"backgroundcolor\": \"#E5ECF6\", \"gridcolor\": \"white\", \"gridwidth\": 2, \"linecolor\": \"white\", \"showbackground\": true, \"ticks\": \"\", \"zerolinecolor\": \"white\"}, \"yaxis\": {\"backgroundcolor\": \"#E5ECF6\", \"gridcolor\": \"white\", \"gridwidth\": 2, \"linecolor\": \"white\", \"showbackground\": true, \"ticks\": \"\", \"zerolinecolor\": \"white\"}, \"zaxis\": {\"backgroundcolor\": \"#E5ECF6\", \"gridcolor\": \"white\", \"gridwidth\": 2, \"linecolor\": \"white\", \"showbackground\": true, \"ticks\": \"\", \"zerolinecolor\": \"white\"}}, \"shapedefaults\": {\"line\": {\"color\": \"#2a3f5f\"}}, \"ternary\": {\"aaxis\": {\"gridcolor\": \"white\", \"linecolor\": \"white\", \"ticks\": \"\"}, \"baxis\": {\"gridcolor\": \"white\", \"linecolor\": \"white\", \"ticks\": \"\"}, \"bgcolor\": \"#E5ECF6\", \"caxis\": {\"gridcolor\": \"white\", \"linecolor\": \"white\", \"ticks\": \"\"}}, \"title\": {\"x\": 0.05}, \"xaxis\": {\"automargin\": true, \"gridcolor\": \"white\", \"linecolor\": \"white\", \"ticks\": \"\", \"title\": {\"standoff\": 15}, \"zerolinecolor\": \"white\", \"zerolinewidth\": 2}, \"yaxis\": {\"automargin\": true, \"gridcolor\": \"white\", \"linecolor\": \"white\", \"ticks\": \"\", \"title\": {\"standoff\": 15}, \"zerolinecolor\": \"white\", \"zerolinewidth\": 2}}}},\n",
              "                        {\"responsive\": true}\n",
              "                    ).then(function(){\n",
              "                            \n",
              "var gd = document.getElementById('cdd52563-ebf0-4e35-a214-cbd172ddff2e');\n",
              "var x = new MutationObserver(function (mutations, observer) {{\n",
              "        var display = window.getComputedStyle(gd).display;\n",
              "        if (!display || display === 'none') {{\n",
              "            console.log([gd, 'removed!']);\n",
              "            Plotly.purge(gd);\n",
              "            observer.disconnect();\n",
              "        }}\n",
              "}});\n",
              "\n",
              "// Listen for the removal of the full notebook cells\n",
              "var notebookContainer = gd.closest('#notebook-container');\n",
              "if (notebookContainer) {{\n",
              "    x.observe(notebookContainer, {childList: true});\n",
              "}}\n",
              "\n",
              "// Listen for the clearing of the current output cell\n",
              "var outputEl = gd.closest('.output');\n",
              "if (outputEl) {{\n",
              "    x.observe(outputEl, {childList: true});\n",
              "}}\n",
              "\n",
              "                        })\n",
              "                };\n",
              "                \n",
              "            </script>\n",
              "        </div>\n",
              "</body>\n",
              "</html>"
            ]
          },
          "metadata": {
            "tags": []
          }
        },
        {
          "output_type": "display_data",
          "data": {
            "text/html": [
              "<html>\n",
              "<head><meta charset=\"utf-8\" /></head>\n",
              "<body>\n",
              "    <div>\n",
              "            <script src=\"https://cdnjs.cloudflare.com/ajax/libs/mathjax/2.7.5/MathJax.js?config=TeX-AMS-MML_SVG\"></script><script type=\"text/javascript\">if (window.MathJax) {MathJax.Hub.Config({SVG: {font: \"STIX-Web\"}});}</script>\n",
              "                <script type=\"text/javascript\">window.PlotlyConfig = {MathJaxConfig: 'local'};</script>\n",
              "        <script src=\"https://cdn.plot.ly/plotly-latest.min.js\"></script>    \n",
              "            <div id=\"f8b184bf-1732-43ee-a749-e3abfd04861d\" class=\"plotly-graph-div\" style=\"height:390px; width:100%;\"></div>\n",
              "            <script type=\"text/javascript\">\n",
              "                \n",
              "                    window.PLOTLYENV=window.PLOTLYENV || {};\n",
              "                    \n",
              "                if (document.getElementById(\"f8b184bf-1732-43ee-a749-e3abfd04861d\")) {\n",
              "                    Plotly.newPlot(\n",
              "                        'f8b184bf-1732-43ee-a749-e3abfd04861d',\n",
              "                        [{\"cells\": {\"align\": \"center\", \"fill\": {\"color\": [[\"rgba(230, 216, 110, 0.1)\", \"rgba(230, 216, 110, 0.1)\", \"rgba(230, 216, 110, 0.1)\", \"rgba(230, 216, 110, 0.1)\", \"rgba(230, 216, 110, 0.1)\", \"rgba(230, 216, 110, 0.1)\", \"rgba(230, 216, 110, 0.1)\", \"rgba(230, 216, 110, 0.1)\", \"rgba(230, 216, 110, 0.1)\", \"rgba(230, 216, 110, 0.1)\", \"rgba(230, 216, 110, 0.1)\", \"rgba(230, 216, 110, 0.1)\", \"rgba(230, 216, 110, 0.1)\", \"rgba(230, 216, 110, 0.1)\", \"rgba(230, 216, 110, 0.1)\", \"rgba(230, 216, 110, 0.1)\", \"rgba(230, 216, 110, 0.1)\"], [\"rgba(31, 119, 180, 0.00)\", \"rgba(31, 119, 180, 0.09)\", \"rgba(31, 119, 180, 0.08)\", \"rgba(31, 119, 180, 0.12)\", \"rgba(31, 119, 180, 0.10)\", \"rgba(31, 119, 180, 0.28)\", \"rgba(31, 119, 180, 0.15)\", \"rgba(31, 119, 180, 0.09)\", \"rgba(31, 119, 180, 0.05)\", \"rgba(31, 119, 180, 0.14)\", \"rgba(31, 119, 180, 0.09)\", \"rgba(31, 119, 180, 0.01)\", \"rgba(31, 119, 180, 0.03)\", \"rgba(31, 119, 180, 0.00)\", \"rgba(31, 119, 180, 0.03)\", \"rgba(31, 119, 180, 0.00)\", \"rgba(31, 119, 180, 0.23)\"], [\"rgba(255, 127, 14, 0.04)\", \"rgba(255, 127, 14, 0.16)\", \"rgba(255, 127, 14, 0.07)\", \"rgba(255, 127, 14, 0.17)\", \"rgba(255, 127, 14, 0.26)\", \"rgba(255, 127, 14, 0.02)\", \"rgba(255, 127, 14, 0.17)\", \"rgba(255, 127, 14, 0.09)\", \"rgba(255, 127, 14, 0.01)\", \"rgba(255, 127, 14, 0.02)\", \"rgba(255, 127, 14, 0.13)\", \"rgba(255, 127, 14, 0.06)\", \"rgba(255, 127, 14, 0.00)\", \"rgba(255, 127, 14, 0.09)\", \"rgba(255, 127, 14, 0.08)\", \"rgba(255, 127, 14, 0.02)\", \"rgba(255, 127, 14, 0.12)\"]]}, \"font\": {\"color\": [\"black\", \"white\"], \"size\": 11}, \"values\": [[\"almond\", \"breakfast\", \"butter\", \"cat\", \"dog\", \"eat\", \"enemy\", \"feed\", \"get\", \"like\", \"little\", \"mortal\", \"neighbor\", \"peanut\", \"sandwich\", \"walnut\", \"yesterday\"], [\"0.00\", \"0.06\", \"0.05\", \"0.08\", \"0.07\", \"0.19\", \"0.10\", \"0.06\", \"0.04\", \"0.09\", \"0.06\", \"0.00\", \"0.02\", \"0.00\", \"0.02\", \"0.00\", \"0.16\"], [\"0.02\", \"0.11\", \"0.05\", \"0.11\", \"0.17\", \"0.02\", \"0.11\", \"0.06\", \"0.00\", \"0.01\", \"0.09\", \"0.04\", \"0.00\", \"0.06\", \"0.06\", \"0.02\", \"0.08\"]]}, \"columnwidth\": [300, 100], \"header\": {\"align\": \"center\", \"fill\": {\"color\": \"white\"}, \"font\": {\"color\": \"black\", \"size\": 12}, \"height\": 30, \"line\": {\"color\": \"white\"}, \"values\": [\"Word\", \"Topic #1\", \"Topic #2\"]}, \"type\": \"table\"}],\n",
              "                        {\"height\": 390, \"margin\": {\"autoexpand\": false, \"b\": 0, \"l\": 0, \"pad\": 0, \"r\": 0, \"t\": 0}, \"template\": {\"data\": {\"bar\": [{\"error_x\": {\"color\": \"#2a3f5f\"}, \"error_y\": {\"color\": \"#2a3f5f\"}, \"marker\": {\"line\": {\"color\": \"#E5ECF6\", \"width\": 0.5}}, \"type\": \"bar\"}], \"barpolar\": [{\"marker\": {\"line\": {\"color\": \"#E5ECF6\", \"width\": 0.5}}, \"type\": \"barpolar\"}], \"carpet\": [{\"aaxis\": {\"endlinecolor\": \"#2a3f5f\", \"gridcolor\": \"white\", \"linecolor\": \"white\", \"minorgridcolor\": \"white\", \"startlinecolor\": \"#2a3f5f\"}, \"baxis\": {\"endlinecolor\": \"#2a3f5f\", \"gridcolor\": \"white\", \"linecolor\": \"white\", \"minorgridcolor\": \"white\", \"startlinecolor\": \"#2a3f5f\"}, \"type\": \"carpet\"}], \"choropleth\": [{\"colorbar\": {\"outlinewidth\": 0, \"ticks\": \"\"}, \"type\": \"choropleth\"}], \"contour\": [{\"colorbar\": {\"outlinewidth\": 0, \"ticks\": \"\"}, \"colorscale\": [[0.0, \"#0d0887\"], [0.1111111111111111, \"#46039f\"], [0.2222222222222222, \"#7201a8\"], [0.3333333333333333, \"#9c179e\"], [0.4444444444444444, \"#bd3786\"], [0.5555555555555556, \"#d8576b\"], [0.6666666666666666, \"#ed7953\"], [0.7777777777777778, \"#fb9f3a\"], [0.8888888888888888, \"#fdca26\"], [1.0, \"#f0f921\"]], \"type\": \"contour\"}], \"contourcarpet\": [{\"colorbar\": {\"outlinewidth\": 0, \"ticks\": \"\"}, \"type\": \"contourcarpet\"}], \"heatmap\": [{\"colorbar\": {\"outlinewidth\": 0, \"ticks\": \"\"}, \"colorscale\": [[0.0, \"#0d0887\"], [0.1111111111111111, \"#46039f\"], [0.2222222222222222, \"#7201a8\"], [0.3333333333333333, \"#9c179e\"], [0.4444444444444444, \"#bd3786\"], [0.5555555555555556, \"#d8576b\"], [0.6666666666666666, \"#ed7953\"], [0.7777777777777778, \"#fb9f3a\"], [0.8888888888888888, \"#fdca26\"], [1.0, \"#f0f921\"]], \"type\": \"heatmap\"}], \"heatmapgl\": [{\"colorbar\": {\"outlinewidth\": 0, \"ticks\": \"\"}, \"colorscale\": [[0.0, \"#0d0887\"], [0.1111111111111111, \"#46039f\"], [0.2222222222222222, \"#7201a8\"], [0.3333333333333333, \"#9c179e\"], [0.4444444444444444, \"#bd3786\"], [0.5555555555555556, \"#d8576b\"], [0.6666666666666666, \"#ed7953\"], [0.7777777777777778, \"#fb9f3a\"], [0.8888888888888888, \"#fdca26\"], [1.0, \"#f0f921\"]], \"type\": \"heatmapgl\"}], \"histogram\": [{\"marker\": {\"colorbar\": {\"outlinewidth\": 0, \"ticks\": \"\"}}, \"type\": \"histogram\"}], \"histogram2d\": [{\"colorbar\": {\"outlinewidth\": 0, \"ticks\": \"\"}, \"colorscale\": [[0.0, \"#0d0887\"], [0.1111111111111111, \"#46039f\"], [0.2222222222222222, \"#7201a8\"], [0.3333333333333333, \"#9c179e\"], [0.4444444444444444, \"#bd3786\"], [0.5555555555555556, \"#d8576b\"], [0.6666666666666666, \"#ed7953\"], [0.7777777777777778, \"#fb9f3a\"], [0.8888888888888888, \"#fdca26\"], [1.0, \"#f0f921\"]], \"type\": \"histogram2d\"}], \"histogram2dcontour\": [{\"colorbar\": {\"outlinewidth\": 0, \"ticks\": \"\"}, \"colorscale\": [[0.0, \"#0d0887\"], [0.1111111111111111, \"#46039f\"], [0.2222222222222222, \"#7201a8\"], [0.3333333333333333, \"#9c179e\"], [0.4444444444444444, \"#bd3786\"], [0.5555555555555556, \"#d8576b\"], [0.6666666666666666, \"#ed7953\"], [0.7777777777777778, \"#fb9f3a\"], [0.8888888888888888, \"#fdca26\"], [1.0, \"#f0f921\"]], \"type\": \"histogram2dcontour\"}], \"mesh3d\": [{\"colorbar\": {\"outlinewidth\": 0, \"ticks\": \"\"}, \"type\": \"mesh3d\"}], \"parcoords\": [{\"line\": {\"colorbar\": {\"outlinewidth\": 0, \"ticks\": \"\"}}, \"type\": \"parcoords\"}], \"pie\": [{\"automargin\": true, \"type\": \"pie\"}], \"scatter\": [{\"marker\": {\"colorbar\": {\"outlinewidth\": 0, \"ticks\": \"\"}}, \"type\": \"scatter\"}], \"scatter3d\": [{\"line\": {\"colorbar\": {\"outlinewidth\": 0, \"ticks\": \"\"}}, \"marker\": {\"colorbar\": {\"outlinewidth\": 0, \"ticks\": \"\"}}, \"type\": \"scatter3d\"}], \"scattercarpet\": [{\"marker\": {\"colorbar\": {\"outlinewidth\": 0, \"ticks\": \"\"}}, \"type\": \"scattercarpet\"}], \"scattergeo\": [{\"marker\": {\"colorbar\": {\"outlinewidth\": 0, \"ticks\": \"\"}}, \"type\": \"scattergeo\"}], \"scattergl\": [{\"marker\": {\"colorbar\": {\"outlinewidth\": 0, \"ticks\": \"\"}}, \"type\": \"scattergl\"}], \"scattermapbox\": [{\"marker\": {\"colorbar\": {\"outlinewidth\": 0, \"ticks\": \"\"}}, \"type\": \"scattermapbox\"}], \"scatterpolar\": [{\"marker\": {\"colorbar\": {\"outlinewidth\": 0, \"ticks\": \"\"}}, \"type\": \"scatterpolar\"}], \"scatterpolargl\": [{\"marker\": {\"colorbar\": {\"outlinewidth\": 0, \"ticks\": \"\"}}, \"type\": \"scatterpolargl\"}], \"scatterternary\": [{\"marker\": {\"colorbar\": {\"outlinewidth\": 0, \"ticks\": \"\"}}, \"type\": \"scatterternary\"}], \"surface\": [{\"colorbar\": {\"outlinewidth\": 0, \"ticks\": \"\"}, \"colorscale\": [[0.0, \"#0d0887\"], [0.1111111111111111, \"#46039f\"], [0.2222222222222222, \"#7201a8\"], [0.3333333333333333, \"#9c179e\"], [0.4444444444444444, \"#bd3786\"], [0.5555555555555556, \"#d8576b\"], [0.6666666666666666, \"#ed7953\"], [0.7777777777777778, \"#fb9f3a\"], [0.8888888888888888, \"#fdca26\"], [1.0, \"#f0f921\"]], \"type\": \"surface\"}], \"table\": [{\"cells\": {\"fill\": {\"color\": \"#EBF0F8\"}, \"line\": {\"color\": \"white\"}}, \"header\": {\"fill\": {\"color\": \"#C8D4E3\"}, \"line\": {\"color\": \"white\"}}, \"type\": \"table\"}]}, \"layout\": {\"annotationdefaults\": {\"arrowcolor\": \"#2a3f5f\", \"arrowhead\": 0, \"arrowwidth\": 1}, \"coloraxis\": {\"colorbar\": {\"outlinewidth\": 0, \"ticks\": \"\"}}, \"colorscale\": {\"diverging\": [[0, \"#8e0152\"], [0.1, \"#c51b7d\"], [0.2, \"#de77ae\"], [0.3, \"#f1b6da\"], [0.4, \"#fde0ef\"], [0.5, \"#f7f7f7\"], [0.6, \"#e6f5d0\"], [0.7, \"#b8e186\"], [0.8, \"#7fbc41\"], [0.9, \"#4d9221\"], [1, \"#276419\"]], \"sequential\": [[0.0, \"#0d0887\"], [0.1111111111111111, \"#46039f\"], [0.2222222222222222, \"#7201a8\"], [0.3333333333333333, \"#9c179e\"], [0.4444444444444444, \"#bd3786\"], [0.5555555555555556, \"#d8576b\"], [0.6666666666666666, \"#ed7953\"], [0.7777777777777778, \"#fb9f3a\"], [0.8888888888888888, \"#fdca26\"], [1.0, \"#f0f921\"]], \"sequentialminus\": [[0.0, \"#0d0887\"], [0.1111111111111111, \"#46039f\"], [0.2222222222222222, \"#7201a8\"], [0.3333333333333333, \"#9c179e\"], [0.4444444444444444, \"#bd3786\"], [0.5555555555555556, \"#d8576b\"], [0.6666666666666666, \"#ed7953\"], [0.7777777777777778, \"#fb9f3a\"], [0.8888888888888888, \"#fdca26\"], [1.0, \"#f0f921\"]]}, \"colorway\": [\"#636efa\", \"#EF553B\", \"#00cc96\", \"#ab63fa\", \"#FFA15A\", \"#19d3f3\", \"#FF6692\", \"#B6E880\", \"#FF97FF\", \"#FECB52\"], \"font\": {\"color\": \"#2a3f5f\"}, \"geo\": {\"bgcolor\": \"white\", \"lakecolor\": \"white\", \"landcolor\": \"#E5ECF6\", \"showlakes\": true, \"showland\": true, \"subunitcolor\": \"white\"}, \"hoverlabel\": {\"align\": \"left\"}, \"hovermode\": \"closest\", \"mapbox\": {\"style\": \"light\"}, \"paper_bgcolor\": \"white\", \"plot_bgcolor\": \"#E5ECF6\", \"polar\": {\"angularaxis\": {\"gridcolor\": \"white\", \"linecolor\": \"white\", \"ticks\": \"\"}, \"bgcolor\": \"#E5ECF6\", \"radialaxis\": {\"gridcolor\": \"white\", \"linecolor\": \"white\", \"ticks\": \"\"}}, \"scene\": {\"xaxis\": {\"backgroundcolor\": \"#E5ECF6\", \"gridcolor\": \"white\", \"gridwidth\": 2, \"linecolor\": \"white\", \"showbackground\": true, \"ticks\": \"\", \"zerolinecolor\": \"white\"}, \"yaxis\": {\"backgroundcolor\": \"#E5ECF6\", \"gridcolor\": \"white\", \"gridwidth\": 2, \"linecolor\": \"white\", \"showbackground\": true, \"ticks\": \"\", \"zerolinecolor\": \"white\"}, \"zaxis\": {\"backgroundcolor\": \"#E5ECF6\", \"gridcolor\": \"white\", \"gridwidth\": 2, \"linecolor\": \"white\", \"showbackground\": true, \"ticks\": \"\", \"zerolinecolor\": \"white\"}}, \"shapedefaults\": {\"line\": {\"color\": \"#2a3f5f\"}}, \"ternary\": {\"aaxis\": {\"gridcolor\": \"white\", \"linecolor\": \"white\", \"ticks\": \"\"}, \"baxis\": {\"gridcolor\": \"white\", \"linecolor\": \"white\", \"ticks\": \"\"}, \"bgcolor\": \"#E5ECF6\", \"caxis\": {\"gridcolor\": \"white\", \"linecolor\": \"white\", \"ticks\": \"\"}}, \"title\": {\"x\": 0.05}, \"xaxis\": {\"automargin\": true, \"gridcolor\": \"white\", \"linecolor\": \"white\", \"ticks\": \"\", \"title\": {\"standoff\": 15}, \"zerolinecolor\": \"white\", \"zerolinewidth\": 2}, \"yaxis\": {\"automargin\": true, \"gridcolor\": \"white\", \"linecolor\": \"white\", \"ticks\": \"\", \"title\": {\"standoff\": 15}, \"zerolinecolor\": \"white\", \"zerolinewidth\": 2}}}},\n",
              "                        {\"responsive\": true}\n",
              "                    ).then(function(){\n",
              "                            \n",
              "var gd = document.getElementById('f8b184bf-1732-43ee-a749-e3abfd04861d');\n",
              "var x = new MutationObserver(function (mutations, observer) {{\n",
              "        var display = window.getComputedStyle(gd).display;\n",
              "        if (!display || display === 'none') {{\n",
              "            console.log([gd, 'removed!']);\n",
              "            Plotly.purge(gd);\n",
              "            observer.disconnect();\n",
              "        }}\n",
              "}});\n",
              "\n",
              "// Listen for the removal of the full notebook cells\n",
              "var notebookContainer = gd.closest('#notebook-container');\n",
              "if (notebookContainer) {{\n",
              "    x.observe(notebookContainer, {childList: true});\n",
              "}}\n",
              "\n",
              "// Listen for the clearing of the current output cell\n",
              "var outputEl = gd.closest('.output');\n",
              "if (outputEl) {{\n",
              "    x.observe(outputEl, {childList: true});\n",
              "}}\n",
              "\n",
              "                        })\n",
              "                };\n",
              "                \n",
              "            </script>\n",
              "        </div>\n",
              "</body>\n",
              "</html>"
            ]
          },
          "metadata": {
            "tags": []
          }
        }
      ]
    },
    {
      "cell_type": "markdown",
      "metadata": {
        "id": "LauG5FCkwKNu"
      },
      "source": [
        "### Art and Science"
      ]
    },
    {
      "cell_type": "code",
      "metadata": {
        "colab": {
          "base_uri": "https://localhost:8080/",
          "height": 1000
        },
        "id": "xZlKU7PTZRog",
        "outputId": "0a3bfc9f-33af-4b7c-9eee-45bcb3c9a3eb"
      },
      "source": [
        "lda = LDA(num_topics=2, corpus_path='/content/corpuses/art_and_science//')\r\n",
        "lda.fit(10000, 2000)\r\n",
        "lda.show_documents()\r\n",
        "lda.show_words()"
      ],
      "execution_count": 11,
      "outputs": [
        {
          "output_type": "stream",
          "text": [
            " [-----------------100%-----------------] 10000 of 10000 complete in 289.8 sec"
          ],
          "name": "stdout"
        },
        {
          "output_type": "display_data",
          "data": {
            "text/html": [
              "<html>\n",
              "<head><meta charset=\"utf-8\" /></head>\n",
              "<body>\n",
              "    <div>\n",
              "            <script src=\"https://cdnjs.cloudflare.com/ajax/libs/mathjax/2.7.5/MathJax.js?config=TeX-AMS-MML_SVG\"></script><script type=\"text/javascript\">if (window.MathJax) {MathJax.Hub.Config({SVG: {font: \"STIX-Web\"}});}</script>\n",
              "                <script type=\"text/javascript\">window.PlotlyConfig = {MathJaxConfig: 'local'};</script>\n",
              "        <script src=\"https://cdn.plot.ly/plotly-latest.min.js\"></script>    \n",
              "            <div id=\"054c87f9-a502-43da-94de-bbc9e3f7de8b\" class=\"plotly-graph-div\" style=\"height:150px; width:100%;\"></div>\n",
              "            <script type=\"text/javascript\">\n",
              "                \n",
              "                    window.PLOTLYENV=window.PLOTLYENV || {};\n",
              "                    \n",
              "                if (document.getElementById(\"054c87f9-a502-43da-94de-bbc9e3f7de8b\")) {\n",
              "                    Plotly.newPlot(\n",
              "                        '054c87f9-a502-43da-94de-bbc9e3f7de8b',\n",
              "                        [{\"cells\": {\"align\": \"center\", \"fill\": {\"color\": [[\"rgba(230, 216, 110, 0.1)\", \"rgba(230, 216, 110, 0.1)\", \"rgba(230, 216, 110, 0.1)\", \"rgba(230, 216, 110, 0.1)\", \"rgba(230, 216, 110, 0.1)\"], [\"rgba(31, 119, 180, 0.08)\", \"rgba(31, 119, 180, 0.33)\", \"rgba(31, 119, 180, 0.28)\", \"rgba(31, 119, 180, 0.43)\", \"rgba(31, 119, 180, 0.09)\"], [\"rgba(255, 127, 14, 0.92)\", \"rgba(255, 127, 14, 0.67)\", \"rgba(255, 127, 14, 0.72)\", \"rgba(255, 127, 14, 0.57)\", \"rgba(255, 127, 14, 0.91)\"]]}, \"font\": {\"color\": [\"black\", \"white\"], \"size\": 11}, \"values\": [[\"A computer is a machine that can be instructed to carry out seque[...]\", \"Art is a diverse range of human activities involving the creation[...]\", \"Childhood friends Bill Gates and Paul Allen sought to make a busi[...]\", \"Often, if the skill is being used in a common or practical way, p[...]\", \"Early computing machines had fixed programs.\\nChanging its functio[...]\"], [\"0.08\", \"0.33\", \"0.28\", \"0.43\", \"0.09\"], [\"0.92\", \"0.67\", \"0.72\", \"0.57\", \"0.91\"]]}, \"columnwidth\": [300, 100], \"header\": {\"align\": \"center\", \"fill\": {\"color\": \"white\"}, \"font\": {\"color\": \"black\", \"size\": 12}, \"height\": 30, \"line\": {\"color\": \"white\"}, \"values\": [\"Document\", \"Topic #1\", \"Topic #2\"]}, \"type\": \"table\"}],\n",
              "                        {\"height\": 150, \"margin\": {\"autoexpand\": false, \"b\": 0, \"l\": 0, \"pad\": 0, \"r\": 0, \"t\": 0}, \"template\": {\"data\": {\"bar\": [{\"error_x\": {\"color\": \"#2a3f5f\"}, \"error_y\": {\"color\": \"#2a3f5f\"}, \"marker\": {\"line\": {\"color\": \"#E5ECF6\", \"width\": 0.5}}, \"type\": \"bar\"}], \"barpolar\": [{\"marker\": {\"line\": {\"color\": \"#E5ECF6\", \"width\": 0.5}}, \"type\": \"barpolar\"}], \"carpet\": [{\"aaxis\": {\"endlinecolor\": \"#2a3f5f\", \"gridcolor\": \"white\", \"linecolor\": \"white\", \"minorgridcolor\": \"white\", \"startlinecolor\": \"#2a3f5f\"}, \"baxis\": {\"endlinecolor\": \"#2a3f5f\", \"gridcolor\": \"white\", \"linecolor\": \"white\", \"minorgridcolor\": \"white\", \"startlinecolor\": \"#2a3f5f\"}, \"type\": \"carpet\"}], \"choropleth\": [{\"colorbar\": {\"outlinewidth\": 0, \"ticks\": \"\"}, \"type\": \"choropleth\"}], \"contour\": [{\"colorbar\": {\"outlinewidth\": 0, \"ticks\": \"\"}, \"colorscale\": [[0.0, \"#0d0887\"], [0.1111111111111111, \"#46039f\"], [0.2222222222222222, \"#7201a8\"], [0.3333333333333333, \"#9c179e\"], [0.4444444444444444, \"#bd3786\"], [0.5555555555555556, \"#d8576b\"], [0.6666666666666666, \"#ed7953\"], [0.7777777777777778, \"#fb9f3a\"], [0.8888888888888888, \"#fdca26\"], [1.0, \"#f0f921\"]], \"type\": \"contour\"}], \"contourcarpet\": [{\"colorbar\": {\"outlinewidth\": 0, \"ticks\": \"\"}, \"type\": \"contourcarpet\"}], \"heatmap\": [{\"colorbar\": {\"outlinewidth\": 0, \"ticks\": \"\"}, \"colorscale\": [[0.0, \"#0d0887\"], [0.1111111111111111, \"#46039f\"], [0.2222222222222222, \"#7201a8\"], [0.3333333333333333, \"#9c179e\"], [0.4444444444444444, \"#bd3786\"], [0.5555555555555556, \"#d8576b\"], [0.6666666666666666, \"#ed7953\"], [0.7777777777777778, \"#fb9f3a\"], [0.8888888888888888, \"#fdca26\"], [1.0, \"#f0f921\"]], \"type\": \"heatmap\"}], \"heatmapgl\": [{\"colorbar\": {\"outlinewidth\": 0, \"ticks\": \"\"}, \"colorscale\": [[0.0, \"#0d0887\"], [0.1111111111111111, \"#46039f\"], [0.2222222222222222, \"#7201a8\"], [0.3333333333333333, \"#9c179e\"], [0.4444444444444444, \"#bd3786\"], [0.5555555555555556, \"#d8576b\"], [0.6666666666666666, \"#ed7953\"], [0.7777777777777778, \"#fb9f3a\"], [0.8888888888888888, \"#fdca26\"], [1.0, \"#f0f921\"]], \"type\": \"heatmapgl\"}], \"histogram\": [{\"marker\": {\"colorbar\": {\"outlinewidth\": 0, \"ticks\": \"\"}}, \"type\": \"histogram\"}], \"histogram2d\": [{\"colorbar\": {\"outlinewidth\": 0, \"ticks\": \"\"}, \"colorscale\": [[0.0, \"#0d0887\"], [0.1111111111111111, \"#46039f\"], [0.2222222222222222, \"#7201a8\"], [0.3333333333333333, \"#9c179e\"], [0.4444444444444444, \"#bd3786\"], [0.5555555555555556, \"#d8576b\"], [0.6666666666666666, \"#ed7953\"], [0.7777777777777778, \"#fb9f3a\"], [0.8888888888888888, \"#fdca26\"], [1.0, \"#f0f921\"]], \"type\": \"histogram2d\"}], \"histogram2dcontour\": [{\"colorbar\": {\"outlinewidth\": 0, \"ticks\": \"\"}, \"colorscale\": [[0.0, \"#0d0887\"], [0.1111111111111111, \"#46039f\"], [0.2222222222222222, \"#7201a8\"], [0.3333333333333333, \"#9c179e\"], [0.4444444444444444, \"#bd3786\"], [0.5555555555555556, \"#d8576b\"], [0.6666666666666666, \"#ed7953\"], [0.7777777777777778, \"#fb9f3a\"], [0.8888888888888888, \"#fdca26\"], [1.0, \"#f0f921\"]], \"type\": \"histogram2dcontour\"}], \"mesh3d\": [{\"colorbar\": {\"outlinewidth\": 0, \"ticks\": \"\"}, \"type\": \"mesh3d\"}], \"parcoords\": [{\"line\": {\"colorbar\": {\"outlinewidth\": 0, \"ticks\": \"\"}}, \"type\": \"parcoords\"}], \"pie\": [{\"automargin\": true, \"type\": \"pie\"}], \"scatter\": [{\"marker\": {\"colorbar\": {\"outlinewidth\": 0, \"ticks\": \"\"}}, \"type\": \"scatter\"}], \"scatter3d\": [{\"line\": {\"colorbar\": {\"outlinewidth\": 0, \"ticks\": \"\"}}, \"marker\": {\"colorbar\": {\"outlinewidth\": 0, \"ticks\": \"\"}}, \"type\": \"scatter3d\"}], \"scattercarpet\": [{\"marker\": {\"colorbar\": {\"outlinewidth\": 0, \"ticks\": \"\"}}, \"type\": \"scattercarpet\"}], \"scattergeo\": [{\"marker\": {\"colorbar\": {\"outlinewidth\": 0, \"ticks\": \"\"}}, \"type\": \"scattergeo\"}], \"scattergl\": [{\"marker\": {\"colorbar\": {\"outlinewidth\": 0, \"ticks\": \"\"}}, \"type\": \"scattergl\"}], \"scattermapbox\": [{\"marker\": {\"colorbar\": {\"outlinewidth\": 0, \"ticks\": \"\"}}, \"type\": \"scattermapbox\"}], \"scatterpolar\": [{\"marker\": {\"colorbar\": {\"outlinewidth\": 0, \"ticks\": \"\"}}, \"type\": \"scatterpolar\"}], \"scatterpolargl\": [{\"marker\": {\"colorbar\": {\"outlinewidth\": 0, \"ticks\": \"\"}}, \"type\": \"scatterpolargl\"}], \"scatterternary\": [{\"marker\": {\"colorbar\": {\"outlinewidth\": 0, \"ticks\": \"\"}}, \"type\": \"scatterternary\"}], \"surface\": [{\"colorbar\": {\"outlinewidth\": 0, \"ticks\": \"\"}, \"colorscale\": [[0.0, \"#0d0887\"], [0.1111111111111111, \"#46039f\"], [0.2222222222222222, \"#7201a8\"], [0.3333333333333333, \"#9c179e\"], [0.4444444444444444, \"#bd3786\"], [0.5555555555555556, \"#d8576b\"], [0.6666666666666666, \"#ed7953\"], [0.7777777777777778, \"#fb9f3a\"], [0.8888888888888888, \"#fdca26\"], [1.0, \"#f0f921\"]], \"type\": \"surface\"}], \"table\": [{\"cells\": {\"fill\": {\"color\": \"#EBF0F8\"}, \"line\": {\"color\": \"white\"}}, \"header\": {\"fill\": {\"color\": \"#C8D4E3\"}, \"line\": {\"color\": \"white\"}}, \"type\": \"table\"}]}, \"layout\": {\"annotationdefaults\": {\"arrowcolor\": \"#2a3f5f\", \"arrowhead\": 0, \"arrowwidth\": 1}, \"coloraxis\": {\"colorbar\": {\"outlinewidth\": 0, \"ticks\": \"\"}}, \"colorscale\": {\"diverging\": [[0, \"#8e0152\"], [0.1, \"#c51b7d\"], [0.2, \"#de77ae\"], [0.3, \"#f1b6da\"], [0.4, \"#fde0ef\"], [0.5, \"#f7f7f7\"], [0.6, \"#e6f5d0\"], [0.7, \"#b8e186\"], [0.8, \"#7fbc41\"], [0.9, \"#4d9221\"], [1, \"#276419\"]], \"sequential\": [[0.0, \"#0d0887\"], [0.1111111111111111, \"#46039f\"], [0.2222222222222222, \"#7201a8\"], [0.3333333333333333, \"#9c179e\"], [0.4444444444444444, \"#bd3786\"], [0.5555555555555556, \"#d8576b\"], [0.6666666666666666, \"#ed7953\"], [0.7777777777777778, \"#fb9f3a\"], [0.8888888888888888, \"#fdca26\"], [1.0, \"#f0f921\"]], \"sequentialminus\": [[0.0, \"#0d0887\"], [0.1111111111111111, \"#46039f\"], [0.2222222222222222, \"#7201a8\"], [0.3333333333333333, \"#9c179e\"], [0.4444444444444444, \"#bd3786\"], [0.5555555555555556, \"#d8576b\"], [0.6666666666666666, \"#ed7953\"], [0.7777777777777778, \"#fb9f3a\"], [0.8888888888888888, \"#fdca26\"], [1.0, \"#f0f921\"]]}, \"colorway\": [\"#636efa\", \"#EF553B\", \"#00cc96\", \"#ab63fa\", \"#FFA15A\", \"#19d3f3\", \"#FF6692\", \"#B6E880\", \"#FF97FF\", \"#FECB52\"], \"font\": {\"color\": \"#2a3f5f\"}, \"geo\": {\"bgcolor\": \"white\", \"lakecolor\": \"white\", \"landcolor\": \"#E5ECF6\", \"showlakes\": true, \"showland\": true, \"subunitcolor\": \"white\"}, \"hoverlabel\": {\"align\": \"left\"}, \"hovermode\": \"closest\", \"mapbox\": {\"style\": \"light\"}, \"paper_bgcolor\": \"white\", \"plot_bgcolor\": \"#E5ECF6\", \"polar\": {\"angularaxis\": {\"gridcolor\": \"white\", \"linecolor\": \"white\", \"ticks\": \"\"}, \"bgcolor\": \"#E5ECF6\", \"radialaxis\": {\"gridcolor\": \"white\", \"linecolor\": \"white\", \"ticks\": \"\"}}, \"scene\": {\"xaxis\": {\"backgroundcolor\": \"#E5ECF6\", \"gridcolor\": \"white\", \"gridwidth\": 2, \"linecolor\": \"white\", \"showbackground\": true, \"ticks\": \"\", \"zerolinecolor\": \"white\"}, \"yaxis\": {\"backgroundcolor\": \"#E5ECF6\", \"gridcolor\": \"white\", \"gridwidth\": 2, \"linecolor\": \"white\", \"showbackground\": true, \"ticks\": \"\", \"zerolinecolor\": \"white\"}, \"zaxis\": {\"backgroundcolor\": \"#E5ECF6\", \"gridcolor\": \"white\", \"gridwidth\": 2, \"linecolor\": \"white\", \"showbackground\": true, \"ticks\": \"\", \"zerolinecolor\": \"white\"}}, \"shapedefaults\": {\"line\": {\"color\": \"#2a3f5f\"}}, \"ternary\": {\"aaxis\": {\"gridcolor\": \"white\", \"linecolor\": \"white\", \"ticks\": \"\"}, \"baxis\": {\"gridcolor\": \"white\", \"linecolor\": \"white\", \"ticks\": \"\"}, \"bgcolor\": \"#E5ECF6\", \"caxis\": {\"gridcolor\": \"white\", \"linecolor\": \"white\", \"ticks\": \"\"}}, \"title\": {\"x\": 0.05}, \"xaxis\": {\"automargin\": true, \"gridcolor\": \"white\", \"linecolor\": \"white\", \"ticks\": \"\", \"title\": {\"standoff\": 15}, \"zerolinecolor\": \"white\", \"zerolinewidth\": 2}, \"yaxis\": {\"automargin\": true, \"gridcolor\": \"white\", \"linecolor\": \"white\", \"ticks\": \"\", \"title\": {\"standoff\": 15}, \"zerolinecolor\": \"white\", \"zerolinewidth\": 2}}}},\n",
              "                        {\"responsive\": true}\n",
              "                    ).then(function(){\n",
              "                            \n",
              "var gd = document.getElementById('054c87f9-a502-43da-94de-bbc9e3f7de8b');\n",
              "var x = new MutationObserver(function (mutations, observer) {{\n",
              "        var display = window.getComputedStyle(gd).display;\n",
              "        if (!display || display === 'none') {{\n",
              "            console.log([gd, 'removed!']);\n",
              "            Plotly.purge(gd);\n",
              "            observer.disconnect();\n",
              "        }}\n",
              "}});\n",
              "\n",
              "// Listen for the removal of the full notebook cells\n",
              "var notebookContainer = gd.closest('#notebook-container');\n",
              "if (notebookContainer) {{\n",
              "    x.observe(notebookContainer, {childList: true});\n",
              "}}\n",
              "\n",
              "// Listen for the clearing of the current output cell\n",
              "var outputEl = gd.closest('.output');\n",
              "if (outputEl) {{\n",
              "    x.observe(outputEl, {childList: true});\n",
              "}}\n",
              "\n",
              "                        })\n",
              "                };\n",
              "                \n",
              "            </script>\n",
              "        </div>\n",
              "</body>\n",
              "</html>"
            ]
          },
          "metadata": {
            "tags": []
          }
        },
        {
          "output_type": "display_data",
          "data": {
            "text/html": [
              "<html>\n",
              "<head><meta charset=\"utf-8\" /></head>\n",
              "<body>\n",
              "    <div>\n",
              "            <script src=\"https://cdnjs.cloudflare.com/ajax/libs/mathjax/2.7.5/MathJax.js?config=TeX-AMS-MML_SVG\"></script><script type=\"text/javascript\">if (window.MathJax) {MathJax.Hub.Config({SVG: {font: \"STIX-Web\"}});}</script>\n",
              "                <script type=\"text/javascript\">window.PlotlyConfig = {MathJaxConfig: 'local'};</script>\n",
              "        <script src=\"https://cdn.plot.ly/plotly-latest.min.js\"></script>    \n",
              "            <div id=\"c9cb229c-a5dc-4a69-a437-dc2da3013b17\" class=\"plotly-graph-div\" style=\"height:2990px; width:100%;\"></div>\n",
              "            <script type=\"text/javascript\">\n",
              "                \n",
              "                    window.PLOTLYENV=window.PLOTLYENV || {};\n",
              "                    \n",
              "                if (document.getElementById(\"c9cb229c-a5dc-4a69-a437-dc2da3013b17\")) {\n",
              "                    Plotly.newPlot(\n",
              "                        'c9cb229c-a5dc-4a69-a437-dc2da3013b17',\n",
              "                        [{\"cells\": {\"align\": \"center\", \"fill\": {\"color\": [[\"rgba(230, 216, 110, 0.1)\", \"rgba(230, 216, 110, 0.1)\", \"rgba(230, 216, 110, 0.1)\", \"rgba(230, 216, 110, 0.1)\", \"rgba(230, 216, 110, 0.1)\", \"rgba(230, 216, 110, 0.1)\", \"rgba(230, 216, 110, 0.1)\", \"rgba(230, 216, 110, 0.1)\", \"rgba(230, 216, 110, 0.1)\", \"rgba(230, 216, 110, 0.1)\", \"rgba(230, 216, 110, 0.1)\", \"rgba(230, 216, 110, 0.1)\", \"rgba(230, 216, 110, 0.1)\", \"rgba(230, 216, 110, 0.1)\", \"rgba(230, 216, 110, 0.1)\", \"rgba(230, 216, 110, 0.1)\", \"rgba(230, 216, 110, 0.1)\", \"rgba(230, 216, 110, 0.1)\", \"rgba(230, 216, 110, 0.1)\", \"rgba(230, 216, 110, 0.1)\", \"rgba(230, 216, 110, 0.1)\", \"rgba(230, 216, 110, 0.1)\", \"rgba(230, 216, 110, 0.1)\", \"rgba(230, 216, 110, 0.1)\", \"rgba(230, 216, 110, 0.1)\", \"rgba(230, 216, 110, 0.1)\", \"rgba(230, 216, 110, 0.1)\", \"rgba(230, 216, 110, 0.1)\", \"rgba(230, 216, 110, 0.1)\", \"rgba(230, 216, 110, 0.1)\", \"rgba(230, 216, 110, 0.1)\", \"rgba(230, 216, 110, 0.1)\", \"rgba(230, 216, 110, 0.1)\", \"rgba(230, 216, 110, 0.1)\", \"rgba(230, 216, 110, 0.1)\", \"rgba(230, 216, 110, 0.1)\", \"rgba(230, 216, 110, 0.1)\", \"rgba(230, 216, 110, 0.1)\", \"rgba(230, 216, 110, 0.1)\", \"rgba(230, 216, 110, 0.1)\", \"rgba(230, 216, 110, 0.1)\", \"rgba(230, 216, 110, 0.1)\", \"rgba(230, 216, 110, 0.1)\", \"rgba(230, 216, 110, 0.1)\", \"rgba(230, 216, 110, 0.1)\", \"rgba(230, 216, 110, 0.1)\", \"rgba(230, 216, 110, 0.1)\", \"rgba(230, 216, 110, 0.1)\", \"rgba(230, 216, 110, 0.1)\", \"rgba(230, 216, 110, 0.1)\", \"rgba(230, 216, 110, 0.1)\", \"rgba(230, 216, 110, 0.1)\", \"rgba(230, 216, 110, 0.1)\", \"rgba(230, 216, 110, 0.1)\", \"rgba(230, 216, 110, 0.1)\", \"rgba(230, 216, 110, 0.1)\", \"rgba(230, 216, 110, 0.1)\", \"rgba(230, 216, 110, 0.1)\", \"rgba(230, 216, 110, 0.1)\", \"rgba(230, 216, 110, 0.1)\", \"rgba(230, 216, 110, 0.1)\", \"rgba(230, 216, 110, 0.1)\", \"rgba(230, 216, 110, 0.1)\", \"rgba(230, 216, 110, 0.1)\", \"rgba(230, 216, 110, 0.1)\", \"rgba(230, 216, 110, 0.1)\", \"rgba(230, 216, 110, 0.1)\", \"rgba(230, 216, 110, 0.1)\", \"rgba(230, 216, 110, 0.1)\", \"rgba(230, 216, 110, 0.1)\", \"rgba(230, 216, 110, 0.1)\", \"rgba(230, 216, 110, 0.1)\", \"rgba(230, 216, 110, 0.1)\", \"rgba(230, 216, 110, 0.1)\", \"rgba(230, 216, 110, 0.1)\", \"rgba(230, 216, 110, 0.1)\", \"rgba(230, 216, 110, 0.1)\", \"rgba(230, 216, 110, 0.1)\", \"rgba(230, 216, 110, 0.1)\", \"rgba(230, 216, 110, 0.1)\", \"rgba(230, 216, 110, 0.1)\", \"rgba(230, 216, 110, 0.1)\", \"rgba(230, 216, 110, 0.1)\", \"rgba(230, 216, 110, 0.1)\", \"rgba(230, 216, 110, 0.1)\", \"rgba(230, 216, 110, 0.1)\", \"rgba(230, 216, 110, 0.1)\", \"rgba(230, 216, 110, 0.1)\", \"rgba(230, 216, 110, 0.1)\", \"rgba(230, 216, 110, 0.1)\", \"rgba(230, 216, 110, 0.1)\", \"rgba(230, 216, 110, 0.1)\", \"rgba(230, 216, 110, 0.1)\", \"rgba(230, 216, 110, 0.1)\", \"rgba(230, 216, 110, 0.1)\", \"rgba(230, 216, 110, 0.1)\", \"rgba(230, 216, 110, 0.1)\", \"rgba(230, 216, 110, 0.1)\", \"rgba(230, 216, 110, 0.1)\", \"rgba(230, 216, 110, 0.1)\", \"rgba(230, 216, 110, 0.1)\", \"rgba(230, 216, 110, 0.1)\", \"rgba(230, 216, 110, 0.1)\", \"rgba(230, 216, 110, 0.1)\", \"rgba(230, 216, 110, 0.1)\", \"rgba(230, 216, 110, 0.1)\", \"rgba(230, 216, 110, 0.1)\", \"rgba(230, 216, 110, 0.1)\", \"rgba(230, 216, 110, 0.1)\", \"rgba(230, 216, 110, 0.1)\", \"rgba(230, 216, 110, 0.1)\", \"rgba(230, 216, 110, 0.1)\", \"rgba(230, 216, 110, 0.1)\", \"rgba(230, 216, 110, 0.1)\", \"rgba(230, 216, 110, 0.1)\", \"rgba(230, 216, 110, 0.1)\", \"rgba(230, 216, 110, 0.1)\", \"rgba(230, 216, 110, 0.1)\", \"rgba(230, 216, 110, 0.1)\", \"rgba(230, 216, 110, 0.1)\", \"rgba(230, 216, 110, 0.1)\", \"rgba(230, 216, 110, 0.1)\", \"rgba(230, 216, 110, 0.1)\", \"rgba(230, 216, 110, 0.1)\", \"rgba(230, 216, 110, 0.1)\", \"rgba(230, 216, 110, 0.1)\", \"rgba(230, 216, 110, 0.1)\", \"rgba(230, 216, 110, 0.1)\", \"rgba(230, 216, 110, 0.1)\", \"rgba(230, 216, 110, 0.1)\", \"rgba(230, 216, 110, 0.1)\", \"rgba(230, 216, 110, 0.1)\", \"rgba(230, 216, 110, 0.1)\", \"rgba(230, 216, 110, 0.1)\", \"rgba(230, 216, 110, 0.1)\", \"rgba(230, 216, 110, 0.1)\", \"rgba(230, 216, 110, 0.1)\", \"rgba(230, 216, 110, 0.1)\", \"rgba(230, 216, 110, 0.1)\", \"rgba(230, 216, 110, 0.1)\", \"rgba(230, 216, 110, 0.1)\", \"rgba(230, 216, 110, 0.1)\", \"rgba(230, 216, 110, 0.1)\", \"rgba(230, 216, 110, 0.1)\", \"rgba(230, 216, 110, 0.1)\", \"rgba(230, 216, 110, 0.1)\", \"rgba(230, 216, 110, 0.1)\"], [\"rgba(31, 119, 180, 0.00)\", \"rgba(31, 119, 180, 0.00)\", \"rgba(31, 119, 180, 0.00)\", \"rgba(31, 119, 180, 0.00)\", \"rgba(31, 119, 180, 0.02)\", \"rgba(31, 119, 180, 0.00)\", \"rgba(31, 119, 180, 0.00)\", \"rgba(31, 119, 180, 0.00)\", \"rgba(31, 119, 180, 0.06)\", \"rgba(31, 119, 180, 0.00)\", \"rgba(31, 119, 180, 0.01)\", \"rgba(31, 119, 180, 0.00)\", \"rgba(31, 119, 180, 0.01)\", \"rgba(31, 119, 180, 0.00)\", \"rgba(31, 119, 180, 0.02)\", \"rgba(31, 119, 180, 0.00)\", \"rgba(31, 119, 180, 0.00)\", \"rgba(31, 119, 180, 0.03)\", \"rgba(31, 119, 180, 0.00)\", \"rgba(31, 119, 180, 0.01)\", \"rgba(31, 119, 180, 0.06)\", \"rgba(31, 119, 180, 0.00)\", \"rgba(31, 119, 180, 0.00)\", \"rgba(31, 119, 180, 0.02)\", \"rgba(31, 119, 180, 0.01)\", \"rgba(31, 119, 180, 0.01)\", \"rgba(31, 119, 180, 0.02)\", \"rgba(31, 119, 180, 0.00)\", \"rgba(31, 119, 180, 0.00)\", \"rgba(31, 119, 180, 0.00)\", \"rgba(31, 119, 180, 0.07)\", \"rgba(31, 119, 180, 0.01)\", \"rgba(31, 119, 180, 0.00)\", \"rgba(31, 119, 180, 0.00)\", \"rgba(31, 119, 180, 0.00)\", \"rgba(31, 119, 180, 0.01)\", \"rgba(31, 119, 180, 0.03)\", \"rgba(31, 119, 180, 0.02)\", \"rgba(31, 119, 180, 0.01)\", \"rgba(31, 119, 180, 0.01)\", \"rgba(31, 119, 180, 0.05)\", \"rgba(31, 119, 180, 0.01)\", \"rgba(31, 119, 180, 0.00)\", \"rgba(31, 119, 180, 0.00)\", \"rgba(31, 119, 180, 0.01)\", \"rgba(31, 119, 180, 0.01)\", \"rgba(31, 119, 180, 0.00)\", \"rgba(31, 119, 180, 0.00)\", \"rgba(31, 119, 180, 0.00)\", \"rgba(31, 119, 180, 0.00)\", \"rgba(31, 119, 180, 0.01)\", \"rgba(31, 119, 180, 0.00)\", \"rgba(31, 119, 180, 0.00)\", \"rgba(31, 119, 180, 0.01)\", \"rgba(31, 119, 180, 0.05)\", \"rgba(31, 119, 180, 0.01)\", \"rgba(31, 119, 180, 0.02)\", \"rgba(31, 119, 180, 0.00)\", \"rgba(31, 119, 180, 0.00)\", \"rgba(31, 119, 180, 0.00)\", \"rgba(31, 119, 180, 0.01)\", \"rgba(31, 119, 180, 0.00)\", \"rgba(31, 119, 180, 0.00)\", \"rgba(31, 119, 180, 0.00)\", \"rgba(31, 119, 180, 0.00)\", \"rgba(31, 119, 180, 0.00)\", \"rgba(31, 119, 180, 0.00)\", \"rgba(31, 119, 180, 0.00)\", \"rgba(31, 119, 180, 0.04)\", \"rgba(31, 119, 180, 0.00)\", \"rgba(31, 119, 180, 0.02)\", \"rgba(31, 119, 180, 0.03)\", \"rgba(31, 119, 180, 0.01)\", \"rgba(31, 119, 180, 0.00)\", \"rgba(31, 119, 180, 0.00)\", \"rgba(31, 119, 180, 0.00)\", \"rgba(31, 119, 180, 0.00)\", \"rgba(31, 119, 180, 0.00)\", \"rgba(31, 119, 180, 0.03)\", \"rgba(31, 119, 180, 0.01)\", \"rgba(31, 119, 180, 0.00)\", \"rgba(31, 119, 180, 0.02)\", \"rgba(31, 119, 180, 0.01)\", \"rgba(31, 119, 180, 0.09)\", \"rgba(31, 119, 180, 0.00)\", \"rgba(31, 119, 180, 0.02)\", \"rgba(31, 119, 180, 0.01)\", \"rgba(31, 119, 180, 0.00)\", \"rgba(31, 119, 180, 0.00)\", \"rgba(31, 119, 180, 0.00)\", \"rgba(31, 119, 180, 0.03)\", \"rgba(31, 119, 180, 0.04)\", \"rgba(31, 119, 180, 0.00)\", \"rgba(31, 119, 180, 0.00)\", \"rgba(31, 119, 180, 0.01)\", \"rgba(31, 119, 180, 0.00)\", \"rgba(31, 119, 180, 0.00)\", \"rgba(31, 119, 180, 0.00)\", \"rgba(31, 119, 180, 0.00)\", \"rgba(31, 119, 180, 0.00)\", \"rgba(31, 119, 180, 0.00)\", \"rgba(31, 119, 180, 0.00)\", \"rgba(31, 119, 180, 0.00)\", \"rgba(31, 119, 180, 0.02)\", \"rgba(31, 119, 180, 0.00)\", \"rgba(31, 119, 180, 0.02)\", \"rgba(31, 119, 180, 0.00)\", \"rgba(31, 119, 180, 0.00)\", \"rgba(31, 119, 180, 0.02)\", \"rgba(31, 119, 180, 0.00)\", \"rgba(31, 119, 180, 0.00)\", \"rgba(31, 119, 180, 0.00)\", \"rgba(31, 119, 180, 0.00)\", \"rgba(31, 119, 180, 0.01)\", \"rgba(31, 119, 180, 0.00)\", \"rgba(31, 119, 180, 0.00)\", \"rgba(31, 119, 180, 0.00)\", \"rgba(31, 119, 180, 0.18)\", \"rgba(31, 119, 180, 0.00)\", \"rgba(31, 119, 180, 0.00)\", \"rgba(31, 119, 180, 0.00)\", \"rgba(31, 119, 180, 0.00)\", \"rgba(31, 119, 180, 0.00)\", \"rgba(31, 119, 180, 0.03)\", \"rgba(31, 119, 180, 0.00)\", \"rgba(31, 119, 180, 0.00)\", \"rgba(31, 119, 180, 0.00)\", \"rgba(31, 119, 180, 0.03)\", \"rgba(31, 119, 180, 0.00)\", \"rgba(31, 119, 180, 0.02)\", \"rgba(31, 119, 180, 0.00)\", \"rgba(31, 119, 180, 0.00)\", \"rgba(31, 119, 180, 0.00)\", \"rgba(31, 119, 180, 0.01)\", \"rgba(31, 119, 180, 0.02)\", \"rgba(31, 119, 180, 0.00)\", \"rgba(31, 119, 180, 0.00)\", \"rgba(31, 119, 180, 0.02)\", \"rgba(31, 119, 180, 0.00)\", \"rgba(31, 119, 180, 0.03)\", \"rgba(31, 119, 180, 0.00)\", \"rgba(31, 119, 180, 0.01)\", \"rgba(31, 119, 180, 0.00)\", \"rgba(31, 119, 180, 0.01)\", \"rgba(31, 119, 180, 0.00)\", \"rgba(31, 119, 180, 0.00)\", \"rgba(31, 119, 180, 0.01)\"], [\"rgba(255, 127, 14, 0.01)\", \"rgba(255, 127, 14, 0.00)\", \"rgba(255, 127, 14, 0.00)\", \"rgba(255, 127, 14, 0.05)\", \"rgba(255, 127, 14, 0.00)\", \"rgba(255, 127, 14, 0.00)\", \"rgba(255, 127, 14, 0.00)\", \"rgba(255, 127, 14, 0.00)\", \"rgba(255, 127, 14, 0.01)\", \"rgba(255, 127, 14, 0.01)\", \"rgba(255, 127, 14, 0.01)\", \"rgba(255, 127, 14, 0.04)\", \"rgba(255, 127, 14, 0.07)\", \"rgba(255, 127, 14, 0.00)\", \"rgba(255, 127, 14, 0.00)\", \"rgba(255, 127, 14, 0.00)\", \"rgba(255, 127, 14, 0.00)\", \"rgba(255, 127, 14, 0.00)\", \"rgba(255, 127, 14, 0.00)\", \"rgba(255, 127, 14, 0.01)\", \"rgba(255, 127, 14, 0.00)\", \"rgba(255, 127, 14, 0.02)\", \"rgba(255, 127, 14, 0.03)\", \"rgba(255, 127, 14, 0.01)\", \"rgba(255, 127, 14, 0.00)\", \"rgba(255, 127, 14, 0.00)\", \"rgba(255, 127, 14, 0.00)\", \"rgba(255, 127, 14, 0.00)\", \"rgba(255, 127, 14, 0.00)\", \"rgba(255, 127, 14, 0.01)\", \"rgba(255, 127, 14, 0.06)\", \"rgba(255, 127, 14, 0.00)\", \"rgba(255, 127, 14, 0.02)\", \"rgba(255, 127, 14, 0.00)\", \"rgba(255, 127, 14, 0.03)\", \"rgba(255, 127, 14, 0.00)\", \"rgba(255, 127, 14, 0.00)\", \"rgba(255, 127, 14, 0.00)\", \"rgba(255, 127, 14, 0.00)\", \"rgba(255, 127, 14, 0.01)\", \"rgba(255, 127, 14, 0.00)\", \"rgba(255, 127, 14, 0.00)\", \"rgba(255, 127, 14, 0.03)\", \"rgba(255, 127, 14, 0.00)\", \"rgba(255, 127, 14, 0.02)\", \"rgba(255, 127, 14, 0.00)\", \"rgba(255, 127, 14, 0.00)\", \"rgba(255, 127, 14, 0.00)\", \"rgba(255, 127, 14, 0.00)\", \"rgba(255, 127, 14, 0.00)\", \"rgba(255, 127, 14, 0.00)\", \"rgba(255, 127, 14, 0.00)\", \"rgba(255, 127, 14, 0.01)\", \"rgba(255, 127, 14, 0.01)\", \"rgba(255, 127, 14, 0.01)\", \"rgba(255, 127, 14, 0.00)\", \"rgba(255, 127, 14, 0.00)\", \"rgba(255, 127, 14, 0.00)\", \"rgba(255, 127, 14, 0.00)\", \"rgba(255, 127, 14, 0.01)\", \"rgba(255, 127, 14, 0.00)\", \"rgba(255, 127, 14, 0.04)\", \"rgba(255, 127, 14, 0.00)\", \"rgba(255, 127, 14, 0.00)\", \"rgba(255, 127, 14, 0.00)\", \"rgba(255, 127, 14, 0.00)\", \"rgba(255, 127, 14, 0.00)\", \"rgba(255, 127, 14, 0.00)\", \"rgba(255, 127, 14, 0.01)\", \"rgba(255, 127, 14, 0.00)\", \"rgba(255, 127, 14, 0.00)\", \"rgba(255, 127, 14, 0.02)\", \"rgba(255, 127, 14, 0.01)\", \"rgba(255, 127, 14, 0.00)\", \"rgba(255, 127, 14, 0.00)\", \"rgba(255, 127, 14, 0.01)\", \"rgba(255, 127, 14, 0.03)\", \"rgba(255, 127, 14, 0.01)\", \"rgba(255, 127, 14, 0.04)\", \"rgba(255, 127, 14, 0.00)\", \"rgba(255, 127, 14, 0.00)\", \"rgba(255, 127, 14, 0.01)\", \"rgba(255, 127, 14, 0.00)\", \"rgba(255, 127, 14, 0.01)\", \"rgba(255, 127, 14, 0.00)\", \"rgba(255, 127, 14, 0.00)\", \"rgba(255, 127, 14, 0.02)\", \"rgba(255, 127, 14, 0.00)\", \"rgba(255, 127, 14, 0.02)\", \"rgba(255, 127, 14, 0.04)\", \"rgba(255, 127, 14, 0.01)\", \"rgba(255, 127, 14, 0.00)\", \"rgba(255, 127, 14, 0.00)\", \"rgba(255, 127, 14, 0.00)\", \"rgba(255, 127, 14, 0.01)\", \"rgba(255, 127, 14, 0.00)\", \"rgba(255, 127, 14, 0.00)\", \"rgba(255, 127, 14, 0.02)\", \"rgba(255, 127, 14, 0.00)\", \"rgba(255, 127, 14, 0.00)\", \"rgba(255, 127, 14, 0.00)\", \"rgba(255, 127, 14, 0.08)\", \"rgba(255, 127, 14, 0.00)\", \"rgba(255, 127, 14, 0.01)\", \"rgba(255, 127, 14, 0.01)\", \"rgba(255, 127, 14, 0.01)\", \"rgba(255, 127, 14, 0.00)\", \"rgba(255, 127, 14, 0.01)\", \"rgba(255, 127, 14, 0.01)\", \"rgba(255, 127, 14, 0.01)\", \"rgba(255, 127, 14, 0.00)\", \"rgba(255, 127, 14, 0.06)\", \"rgba(255, 127, 14, 0.00)\", \"rgba(255, 127, 14, 0.00)\", \"rgba(255, 127, 14, 0.01)\", \"rgba(255, 127, 14, 0.04)\", \"rgba(255, 127, 14, 0.01)\", \"rgba(255, 127, 14, 0.00)\", \"rgba(255, 127, 14, 0.00)\", \"rgba(255, 127, 14, 0.00)\", \"rgba(255, 127, 14, 0.02)\", \"rgba(255, 127, 14, 0.01)\", \"rgba(255, 127, 14, 0.00)\", \"rgba(255, 127, 14, 0.00)\", \"rgba(255, 127, 14, 0.00)\", \"rgba(255, 127, 14, 0.10)\", \"rgba(255, 127, 14, 0.01)\", \"rgba(255, 127, 14, 0.00)\", \"rgba(255, 127, 14, 0.00)\", \"rgba(255, 127, 14, 0.00)\", \"rgba(255, 127, 14, 0.00)\", \"rgba(255, 127, 14, 0.01)\", \"rgba(255, 127, 14, 0.04)\", \"rgba(255, 127, 14, 0.01)\", \"rgba(255, 127, 14, 0.00)\", \"rgba(255, 127, 14, 0.03)\", \"rgba(255, 127, 14, 0.00)\", \"rgba(255, 127, 14, 0.01)\", \"rgba(255, 127, 14, 0.00)\", \"rgba(255, 127, 14, 0.00)\", \"rgba(255, 127, 14, 0.04)\", \"rgba(255, 127, 14, 0.00)\", \"rgba(255, 127, 14, 0.02)\", \"rgba(255, 127, 14, 0.00)\", \"rgba(255, 127, 14, 0.00)\", \"rgba(255, 127, 14, 0.00)\", \"rgba(255, 127, 14, 0.07)\"]]}, \"font\": {\"color\": [\"black\", \"white\"], \"size\": 11}, \"values\": [[\"\\n\", \"1972\", \"ability\", \"activity\", \"aesthetics\", \"allen\", \"analyze\", \"apply\", \"appreciate\", \"argue\", \"arithmetic\", \"art\", \"artifact\", \"artworks\", \"auditory\", \"automatically\", \"automobile\", \"beauty\", \"bill\", \"business\", \"call\", \"carry\", \"change\", \"childhood\", \"clear\", \"cluster\", \"commercial\", \"common\", \"communicate\", \"complete\", \"computation\", \"compute\", \"computer\", \"conceptual\", \"connect\", \"consider\", \"craft\", \"create\", \"creation\", \"creativity\", \"creator\", \"criticism\", \"data\", \"datum\", \"definitional\", \"design\", \"detail\", \"difference\", \"diverse\", \"early\", \"emotion\", \"emotional\", \"enable\", \"equipment\", \"explore\", \"express\", \"expression\", \"extremely\", \"fine\", \"fix\", \"follow\", \"follower\", \"found\", \"friend\", \"function\", \"gates\", \"generalized\", \"generate\", \"goal\", \"group\", \"hand\", \"hardware\", \"history\", \"human\", \"idea\", \"imagination\", \"include\", \"industrial\", \"instead\", \"instruct\", \"instruction\", \"intend\", \"involve\", \"judgment\", \"likewise\", \"logical\", \"machine\", \"main\", \"memory\", \"modern\", \"motivate\", \"nature\", \"network\", \"nonexistent\", \"o\", \"operating\", \"operation\", \"particular\", \"paul\", \"people\", \"perception\", \"perform\", \"peripheral\", \"philosophically\", \"pleasure\", \"politically\", \"power\", \"practical\", \"primarily\", \"production\", \"program\", \"programming\", \"proposal\", \"pure\", \"purpose\", \"range\", \"refer\", \"relate\", \"require\", \"rudimentary\", \"seek\", \"seemingly\", \"self\", \"sell\", \"sense\", \"sequence\", \"set\", \"skill\", \"software\", \"spiritually\", \"store\", \"stored\", \"strong\", \"structuring\", \"system\", \"task\", \"technical\", \"term\", \"track\", \"traf\", \"traffic\", \"value\", \"visual\", \"way\", \"wide\", \"wiring\", \"work\"], [\"0.00\", \"0.00\", \"0.00\", \"0.00\", \"0.01\", \"0.00\", \"0.00\", \"0.00\", \"0.04\", \"0.00\", \"0.01\", \"0.00\", \"0.00\", \"0.00\", \"0.01\", \"0.00\", \"0.00\", \"0.02\", \"0.00\", \"0.00\", \"0.04\", \"0.00\", \"0.00\", \"0.01\", \"0.01\", \"0.01\", \"0.01\", \"0.00\", \"0.00\", \"0.00\", \"0.05\", \"0.01\", \"0.00\", \"0.00\", \"0.00\", \"0.01\", \"0.02\", \"0.01\", \"0.00\", \"0.00\", \"0.03\", \"0.01\", \"0.00\", \"0.00\", \"0.00\", \"0.01\", \"0.00\", \"0.00\", \"0.00\", \"0.00\", \"0.01\", \"0.00\", \"0.00\", \"0.01\", \"0.03\", \"0.01\", \"0.01\", \"0.00\", \"0.00\", \"0.00\", \"0.01\", \"0.00\", \"0.00\", \"0.00\", \"0.00\", \"0.00\", \"0.00\", \"0.00\", \"0.03\", \"0.00\", \"0.02\", \"0.02\", \"0.00\", \"0.00\", \"0.00\", \"0.00\", \"0.00\", \"0.00\", \"0.02\", \"0.00\", \"0.00\", \"0.01\", \"0.01\", \"0.06\", \"0.00\", \"0.01\", \"0.01\", \"0.00\", \"0.00\", \"0.00\", \"0.02\", \"0.02\", \"0.00\", \"0.00\", \"0.01\", \"0.00\", \"0.00\", \"0.00\", \"0.00\", \"0.00\", \"0.00\", \"0.00\", \"0.00\", \"0.02\", \"0.00\", \"0.01\", \"0.00\", \"0.00\", \"0.01\", \"0.00\", \"0.00\", \"0.00\", \"0.00\", \"0.01\", \"0.00\", \"0.00\", \"0.00\", \"0.12\", \"0.00\", \"0.00\", \"0.00\", \"0.00\", \"0.00\", \"0.02\", \"0.00\", \"0.00\", \"0.00\", \"0.02\", \"0.00\", \"0.02\", \"0.00\", \"0.00\", \"0.00\", \"0.00\", \"0.01\", \"0.00\", \"0.00\", \"0.01\", \"0.00\", \"0.02\", \"0.00\", \"0.01\", \"0.00\", \"0.01\", \"0.00\", \"0.00\", \"0.01\"], [\"0.01\", \"0.00\", \"0.00\", \"0.03\", \"0.00\", \"0.00\", \"0.00\", \"0.00\", \"0.01\", \"0.01\", \"0.01\", \"0.02\", \"0.05\", \"0.00\", \"0.00\", \"0.00\", \"0.00\", \"0.00\", \"0.00\", \"0.01\", \"0.00\", \"0.01\", \"0.02\", \"0.01\", \"0.00\", \"0.00\", \"0.00\", \"0.00\", \"0.00\", \"0.01\", \"0.04\", \"0.00\", \"0.01\", \"0.00\", \"0.02\", \"0.00\", \"0.00\", \"0.00\", \"0.00\", \"0.00\", \"0.00\", \"0.00\", \"0.02\", \"0.00\", \"0.01\", \"0.00\", \"0.00\", \"0.00\", \"0.00\", \"0.00\", \"0.00\", \"0.00\", \"0.01\", \"0.00\", \"0.00\", \"0.00\", \"0.00\", \"0.00\", \"0.00\", \"0.01\", \"0.00\", \"0.02\", \"0.00\", \"0.00\", \"0.00\", \"0.00\", \"0.00\", \"0.00\", \"0.01\", \"0.00\", \"0.00\", \"0.02\", \"0.01\", \"0.00\", \"0.00\", \"0.01\", \"0.02\", \"0.00\", \"0.02\", \"0.00\", \"0.00\", \"0.01\", \"0.00\", \"0.01\", \"0.00\", \"0.00\", \"0.01\", \"0.00\", \"0.01\", \"0.03\", \"0.01\", \"0.00\", \"0.00\", \"0.00\", \"0.01\", \"0.00\", \"0.00\", \"0.01\", \"0.00\", \"0.00\", \"0.00\", \"0.05\", \"0.00\", \"0.01\", \"0.01\", \"0.00\", \"0.00\", \"0.00\", \"0.00\", \"0.01\", \"0.00\", \"0.04\", \"0.00\", \"0.00\", \"0.01\", \"0.02\", \"0.01\", \"0.00\", \"0.00\", \"0.00\", \"0.01\", \"0.01\", \"0.00\", \"0.00\", \"0.00\", \"0.07\", \"0.01\", \"0.00\", \"0.00\", \"0.00\", \"0.00\", \"0.00\", \"0.03\", \"0.01\", \"0.00\", \"0.02\", \"0.00\", \"0.01\", \"0.00\", \"0.00\", \"0.02\", \"0.00\", \"0.01\", \"0.00\", \"0.00\", \"0.00\", \"0.05\"]]}, \"columnwidth\": [300, 100], \"header\": {\"align\": \"center\", \"fill\": {\"color\": \"white\"}, \"font\": {\"color\": \"black\", \"size\": 12}, \"height\": 30, \"line\": {\"color\": \"white\"}, \"values\": [\"Word\", \"Topic #1\", \"Topic #2\"]}, \"type\": \"table\"}],\n",
              "                        {\"height\": 2990, \"margin\": {\"autoexpand\": false, \"b\": 0, \"l\": 0, \"pad\": 0, \"r\": 0, \"t\": 0}, \"template\": {\"data\": {\"bar\": [{\"error_x\": {\"color\": \"#2a3f5f\"}, \"error_y\": {\"color\": \"#2a3f5f\"}, \"marker\": {\"line\": {\"color\": \"#E5ECF6\", \"width\": 0.5}}, \"type\": \"bar\"}], \"barpolar\": [{\"marker\": {\"line\": {\"color\": \"#E5ECF6\", \"width\": 0.5}}, \"type\": \"barpolar\"}], \"carpet\": [{\"aaxis\": {\"endlinecolor\": \"#2a3f5f\", \"gridcolor\": \"white\", \"linecolor\": \"white\", \"minorgridcolor\": \"white\", \"startlinecolor\": \"#2a3f5f\"}, \"baxis\": {\"endlinecolor\": \"#2a3f5f\", \"gridcolor\": \"white\", \"linecolor\": \"white\", \"minorgridcolor\": \"white\", \"startlinecolor\": \"#2a3f5f\"}, \"type\": \"carpet\"}], \"choropleth\": [{\"colorbar\": {\"outlinewidth\": 0, \"ticks\": \"\"}, \"type\": \"choropleth\"}], \"contour\": [{\"colorbar\": {\"outlinewidth\": 0, \"ticks\": \"\"}, \"colorscale\": [[0.0, \"#0d0887\"], [0.1111111111111111, \"#46039f\"], [0.2222222222222222, \"#7201a8\"], [0.3333333333333333, \"#9c179e\"], [0.4444444444444444, \"#bd3786\"], [0.5555555555555556, \"#d8576b\"], [0.6666666666666666, \"#ed7953\"], [0.7777777777777778, \"#fb9f3a\"], [0.8888888888888888, \"#fdca26\"], [1.0, \"#f0f921\"]], \"type\": \"contour\"}], \"contourcarpet\": [{\"colorbar\": {\"outlinewidth\": 0, \"ticks\": \"\"}, \"type\": \"contourcarpet\"}], \"heatmap\": [{\"colorbar\": {\"outlinewidth\": 0, \"ticks\": \"\"}, \"colorscale\": [[0.0, \"#0d0887\"], [0.1111111111111111, \"#46039f\"], [0.2222222222222222, \"#7201a8\"], [0.3333333333333333, \"#9c179e\"], [0.4444444444444444, \"#bd3786\"], [0.5555555555555556, \"#d8576b\"], [0.6666666666666666, \"#ed7953\"], [0.7777777777777778, \"#fb9f3a\"], [0.8888888888888888, \"#fdca26\"], [1.0, \"#f0f921\"]], \"type\": \"heatmap\"}], \"heatmapgl\": [{\"colorbar\": {\"outlinewidth\": 0, \"ticks\": \"\"}, \"colorscale\": [[0.0, \"#0d0887\"], [0.1111111111111111, \"#46039f\"], [0.2222222222222222, \"#7201a8\"], [0.3333333333333333, \"#9c179e\"], [0.4444444444444444, \"#bd3786\"], [0.5555555555555556, \"#d8576b\"], [0.6666666666666666, \"#ed7953\"], [0.7777777777777778, \"#fb9f3a\"], [0.8888888888888888, \"#fdca26\"], [1.0, \"#f0f921\"]], \"type\": \"heatmapgl\"}], \"histogram\": [{\"marker\": {\"colorbar\": {\"outlinewidth\": 0, \"ticks\": \"\"}}, \"type\": \"histogram\"}], \"histogram2d\": [{\"colorbar\": {\"outlinewidth\": 0, \"ticks\": \"\"}, \"colorscale\": [[0.0, \"#0d0887\"], [0.1111111111111111, \"#46039f\"], [0.2222222222222222, \"#7201a8\"], [0.3333333333333333, \"#9c179e\"], [0.4444444444444444, \"#bd3786\"], [0.5555555555555556, \"#d8576b\"], [0.6666666666666666, \"#ed7953\"], [0.7777777777777778, \"#fb9f3a\"], [0.8888888888888888, \"#fdca26\"], [1.0, \"#f0f921\"]], \"type\": \"histogram2d\"}], \"histogram2dcontour\": [{\"colorbar\": {\"outlinewidth\": 0, \"ticks\": \"\"}, \"colorscale\": [[0.0, \"#0d0887\"], [0.1111111111111111, \"#46039f\"], [0.2222222222222222, \"#7201a8\"], [0.3333333333333333, \"#9c179e\"], [0.4444444444444444, \"#bd3786\"], [0.5555555555555556, \"#d8576b\"], [0.6666666666666666, \"#ed7953\"], [0.7777777777777778, \"#fb9f3a\"], [0.8888888888888888, \"#fdca26\"], [1.0, \"#f0f921\"]], \"type\": \"histogram2dcontour\"}], \"mesh3d\": [{\"colorbar\": {\"outlinewidth\": 0, \"ticks\": \"\"}, \"type\": \"mesh3d\"}], \"parcoords\": [{\"line\": {\"colorbar\": {\"outlinewidth\": 0, \"ticks\": \"\"}}, \"type\": \"parcoords\"}], \"pie\": [{\"automargin\": true, \"type\": \"pie\"}], \"scatter\": [{\"marker\": {\"colorbar\": {\"outlinewidth\": 0, \"ticks\": \"\"}}, \"type\": \"scatter\"}], \"scatter3d\": [{\"line\": {\"colorbar\": {\"outlinewidth\": 0, \"ticks\": \"\"}}, \"marker\": {\"colorbar\": {\"outlinewidth\": 0, \"ticks\": \"\"}}, \"type\": \"scatter3d\"}], \"scattercarpet\": [{\"marker\": {\"colorbar\": {\"outlinewidth\": 0, \"ticks\": \"\"}}, \"type\": \"scattercarpet\"}], \"scattergeo\": [{\"marker\": {\"colorbar\": {\"outlinewidth\": 0, \"ticks\": \"\"}}, \"type\": \"scattergeo\"}], \"scattergl\": [{\"marker\": {\"colorbar\": {\"outlinewidth\": 0, \"ticks\": \"\"}}, \"type\": \"scattergl\"}], \"scattermapbox\": [{\"marker\": {\"colorbar\": {\"outlinewidth\": 0, \"ticks\": \"\"}}, \"type\": \"scattermapbox\"}], \"scatterpolar\": [{\"marker\": {\"colorbar\": {\"outlinewidth\": 0, \"ticks\": \"\"}}, \"type\": \"scatterpolar\"}], \"scatterpolargl\": [{\"marker\": {\"colorbar\": {\"outlinewidth\": 0, \"ticks\": \"\"}}, \"type\": \"scatterpolargl\"}], \"scatterternary\": [{\"marker\": {\"colorbar\": {\"outlinewidth\": 0, \"ticks\": \"\"}}, \"type\": \"scatterternary\"}], \"surface\": [{\"colorbar\": {\"outlinewidth\": 0, \"ticks\": \"\"}, \"colorscale\": [[0.0, \"#0d0887\"], [0.1111111111111111, \"#46039f\"], [0.2222222222222222, \"#7201a8\"], [0.3333333333333333, \"#9c179e\"], [0.4444444444444444, \"#bd3786\"], [0.5555555555555556, \"#d8576b\"], [0.6666666666666666, \"#ed7953\"], [0.7777777777777778, \"#fb9f3a\"], [0.8888888888888888, \"#fdca26\"], [1.0, \"#f0f921\"]], \"type\": \"surface\"}], \"table\": [{\"cells\": {\"fill\": {\"color\": \"#EBF0F8\"}, \"line\": {\"color\": \"white\"}}, \"header\": {\"fill\": {\"color\": \"#C8D4E3\"}, \"line\": {\"color\": \"white\"}}, \"type\": \"table\"}]}, \"layout\": {\"annotationdefaults\": {\"arrowcolor\": \"#2a3f5f\", \"arrowhead\": 0, \"arrowwidth\": 1}, \"coloraxis\": {\"colorbar\": {\"outlinewidth\": 0, \"ticks\": \"\"}}, \"colorscale\": {\"diverging\": [[0, \"#8e0152\"], [0.1, \"#c51b7d\"], [0.2, \"#de77ae\"], [0.3, \"#f1b6da\"], [0.4, \"#fde0ef\"], [0.5, \"#f7f7f7\"], [0.6, \"#e6f5d0\"], [0.7, \"#b8e186\"], [0.8, \"#7fbc41\"], [0.9, \"#4d9221\"], [1, \"#276419\"]], \"sequential\": [[0.0, \"#0d0887\"], [0.1111111111111111, \"#46039f\"], [0.2222222222222222, \"#7201a8\"], [0.3333333333333333, \"#9c179e\"], [0.4444444444444444, \"#bd3786\"], [0.5555555555555556, \"#d8576b\"], [0.6666666666666666, \"#ed7953\"], [0.7777777777777778, \"#fb9f3a\"], [0.8888888888888888, \"#fdca26\"], [1.0, \"#f0f921\"]], \"sequentialminus\": [[0.0, \"#0d0887\"], [0.1111111111111111, \"#46039f\"], [0.2222222222222222, \"#7201a8\"], [0.3333333333333333, \"#9c179e\"], [0.4444444444444444, \"#bd3786\"], [0.5555555555555556, \"#d8576b\"], [0.6666666666666666, \"#ed7953\"], [0.7777777777777778, \"#fb9f3a\"], [0.8888888888888888, \"#fdca26\"], [1.0, \"#f0f921\"]]}, \"colorway\": [\"#636efa\", \"#EF553B\", \"#00cc96\", \"#ab63fa\", \"#FFA15A\", \"#19d3f3\", \"#FF6692\", \"#B6E880\", \"#FF97FF\", \"#FECB52\"], \"font\": {\"color\": \"#2a3f5f\"}, \"geo\": {\"bgcolor\": \"white\", \"lakecolor\": \"white\", \"landcolor\": \"#E5ECF6\", \"showlakes\": true, \"showland\": true, \"subunitcolor\": \"white\"}, \"hoverlabel\": {\"align\": \"left\"}, \"hovermode\": \"closest\", \"mapbox\": {\"style\": \"light\"}, \"paper_bgcolor\": \"white\", \"plot_bgcolor\": \"#E5ECF6\", \"polar\": {\"angularaxis\": {\"gridcolor\": \"white\", \"linecolor\": \"white\", \"ticks\": \"\"}, \"bgcolor\": \"#E5ECF6\", \"radialaxis\": {\"gridcolor\": \"white\", \"linecolor\": \"white\", \"ticks\": \"\"}}, \"scene\": {\"xaxis\": {\"backgroundcolor\": \"#E5ECF6\", \"gridcolor\": \"white\", \"gridwidth\": 2, \"linecolor\": \"white\", \"showbackground\": true, \"ticks\": \"\", \"zerolinecolor\": \"white\"}, \"yaxis\": {\"backgroundcolor\": \"#E5ECF6\", \"gridcolor\": \"white\", \"gridwidth\": 2, \"linecolor\": \"white\", \"showbackground\": true, \"ticks\": \"\", \"zerolinecolor\": \"white\"}, \"zaxis\": {\"backgroundcolor\": \"#E5ECF6\", \"gridcolor\": \"white\", \"gridwidth\": 2, \"linecolor\": \"white\", \"showbackground\": true, \"ticks\": \"\", \"zerolinecolor\": \"white\"}}, \"shapedefaults\": {\"line\": {\"color\": \"#2a3f5f\"}}, \"ternary\": {\"aaxis\": {\"gridcolor\": \"white\", \"linecolor\": \"white\", \"ticks\": \"\"}, \"baxis\": {\"gridcolor\": \"white\", \"linecolor\": \"white\", \"ticks\": \"\"}, \"bgcolor\": \"#E5ECF6\", \"caxis\": {\"gridcolor\": \"white\", \"linecolor\": \"white\", \"ticks\": \"\"}}, \"title\": {\"x\": 0.05}, \"xaxis\": {\"automargin\": true, \"gridcolor\": \"white\", \"linecolor\": \"white\", \"ticks\": \"\", \"title\": {\"standoff\": 15}, \"zerolinecolor\": \"white\", \"zerolinewidth\": 2}, \"yaxis\": {\"automargin\": true, \"gridcolor\": \"white\", \"linecolor\": \"white\", \"ticks\": \"\", \"title\": {\"standoff\": 15}, \"zerolinecolor\": \"white\", \"zerolinewidth\": 2}}}},\n",
              "                        {\"responsive\": true}\n",
              "                    ).then(function(){\n",
              "                            \n",
              "var gd = document.getElementById('c9cb229c-a5dc-4a69-a437-dc2da3013b17');\n",
              "var x = new MutationObserver(function (mutations, observer) {{\n",
              "        var display = window.getComputedStyle(gd).display;\n",
              "        if (!display || display === 'none') {{\n",
              "            console.log([gd, 'removed!']);\n",
              "            Plotly.purge(gd);\n",
              "            observer.disconnect();\n",
              "        }}\n",
              "}});\n",
              "\n",
              "// Listen for the removal of the full notebook cells\n",
              "var notebookContainer = gd.closest('#notebook-container');\n",
              "if (notebookContainer) {{\n",
              "    x.observe(notebookContainer, {childList: true});\n",
              "}}\n",
              "\n",
              "// Listen for the clearing of the current output cell\n",
              "var outputEl = gd.closest('.output');\n",
              "if (outputEl) {{\n",
              "    x.observe(outputEl, {childList: true});\n",
              "}}\n",
              "\n",
              "                        })\n",
              "                };\n",
              "                \n",
              "            </script>\n",
              "        </div>\n",
              "</body>\n",
              "</html>"
            ]
          },
          "metadata": {
            "tags": []
          }
        }
      ]
    },
    {
      "cell_type": "markdown",
      "metadata": {
        "id": "wTVS8E3xcfWD"
      },
      "source": [
        "### Boots'n'Cats + Bees"
      ]
    },
    {
      "cell_type": "code",
      "metadata": {
        "colab": {
          "base_uri": "https://localhost:8080/",
          "height": 1000
        },
        "id": "opbkCZosdFEL",
        "outputId": "67ffc3ad-8130-4324-ac37-9e3151ba40b3"
      },
      "source": [
        "lda = LDA(num_topics=3, corpus_path='/content/corpuses/boots_cats_bees/')\r\n",
        "lda.fit(5000, 2000)\r\n",
        "lda.show_documents()\r\n",
        "lda.show_words()"
      ],
      "execution_count": 15,
      "outputs": [
        {
          "output_type": "stream",
          "text": [
            " [-----------------100%-----------------] 5000 of 5000 complete in 72.3 sec"
          ],
          "name": "stdout"
        },
        {
          "output_type": "display_data",
          "data": {
            "text/html": [
              "<html>\n",
              "<head><meta charset=\"utf-8\" /></head>\n",
              "<body>\n",
              "    <div>\n",
              "            <script src=\"https://cdnjs.cloudflare.com/ajax/libs/mathjax/2.7.5/MathJax.js?config=TeX-AMS-MML_SVG\"></script><script type=\"text/javascript\">if (window.MathJax) {MathJax.Hub.Config({SVG: {font: \"STIX-Web\"}});}</script>\n",
              "                <script type=\"text/javascript\">window.PlotlyConfig = {MathJaxConfig: 'local'};</script>\n",
              "        <script src=\"https://cdn.plot.ly/plotly-latest.min.js\"></script>    \n",
              "            <div id=\"f4edbaa9-27bb-4e37-960c-c055f4394695\" class=\"plotly-graph-div\" style=\"height:230px; width:100%;\"></div>\n",
              "            <script type=\"text/javascript\">\n",
              "                \n",
              "                    window.PLOTLYENV=window.PLOTLYENV || {};\n",
              "                    \n",
              "                if (document.getElementById(\"f4edbaa9-27bb-4e37-960c-c055f4394695\")) {\n",
              "                    Plotly.newPlot(\n",
              "                        'f4edbaa9-27bb-4e37-960c-c055f4394695',\n",
              "                        [{\"cells\": {\"align\": \"center\", \"fill\": {\"color\": [[\"rgba(230, 216, 110, 0.1)\", \"rgba(230, 216, 110, 0.1)\", \"rgba(230, 216, 110, 0.1)\", \"rgba(230, 216, 110, 0.1)\", \"rgba(230, 216, 110, 0.1)\", \"rgba(230, 216, 110, 0.1)\", \"rgba(230, 216, 110, 0.1)\", \"rgba(230, 216, 110, 0.1)\", \"rgba(230, 216, 110, 0.1)\"], [\"rgba(31, 119, 180, 0.44)\", \"rgba(31, 119, 180, 0.17)\", \"rgba(31, 119, 180, 0.37)\", \"rgba(31, 119, 180, 0.30)\", \"rgba(31, 119, 180, 0.09)\", \"rgba(31, 119, 180, 0.05)\", \"rgba(31, 119, 180, 0.15)\", \"rgba(31, 119, 180, 0.00)\", \"rgba(31, 119, 180, 0.24)\"], [\"rgba(255, 127, 14, 0.07)\", \"rgba(255, 127, 14, 0.36)\", \"rgba(255, 127, 14, 0.01)\", \"rgba(255, 127, 14, 0.60)\", \"rgba(255, 127, 14, 0.63)\", \"rgba(255, 127, 14, 0.62)\", \"rgba(255, 127, 14, 0.22)\", \"rgba(255, 127, 14, 0.48)\", \"rgba(255, 127, 14, 0.06)\"], [\"rgba(44, 160, 44, 0.49)\", \"rgba(44, 160, 44, 0.47)\", \"rgba(44, 160, 44, 0.62)\", \"rgba(44, 160, 44, 0.10)\", \"rgba(44, 160, 44, 0.28)\", \"rgba(44, 160, 44, 0.34)\", \"rgba(44, 160, 44, 0.63)\", \"rgba(44, 160, 44, 0.52)\", \"rgba(44, 160, 44, 0.70)\"]]}, \"font\": {\"color\": [\"black\", \"white\"], \"size\": 11}, \"values\": [[\"Most boots mainly cover the foot and the ankle, while some also c[...]\", \"Early boots consisted of separate leggings, soles, and uppers wor[...]\", \"Boots are normally worn with socks to prevent chafes and blisters[...]\", \"The cat is similar in anatomy to the other felid species: it has [...]\", \"A small domesticated carnivorous mammal with soft fur, a short sn[...]\", \"Among domestic cats, males are more likely to fight than females.\", \"Bees are flying insects closely related to wasps and ants, known [...]\", \"A honey bee (also spelled honeybee) is a eusocial flying insect w[...]\", \"Honey bees are known to communicate through many different chemic[...]\"], [\"0.44\", \"0.17\", \"0.37\", \"0.30\", \"0.09\", \"0.05\", \"0.15\", \"0.00\", \"0.24\"], [\"0.07\", \"0.36\", \"0.01\", \"0.60\", \"0.63\", \"0.62\", \"0.22\", \"0.48\", \"0.06\"], [\"0.49\", \"0.47\", \"0.62\", \"0.10\", \"0.28\", \"0.34\", \"0.63\", \"0.52\", \"0.70\"]]}, \"columnwidth\": [300, 100], \"header\": {\"align\": \"center\", \"fill\": {\"color\": \"white\"}, \"font\": {\"color\": \"black\", \"size\": 12}, \"height\": 30, \"line\": {\"color\": \"white\"}, \"values\": [\"Document\", \"Topic #1\", \"Topic #2\", \"Topic #3\"]}, \"type\": \"table\"}],\n",
              "                        {\"height\": 230, \"margin\": {\"autoexpand\": false, \"b\": 0, \"l\": 0, \"pad\": 0, \"r\": 0, \"t\": 0}, \"template\": {\"data\": {\"bar\": [{\"error_x\": {\"color\": \"#2a3f5f\"}, \"error_y\": {\"color\": \"#2a3f5f\"}, \"marker\": {\"line\": {\"color\": \"#E5ECF6\", \"width\": 0.5}}, \"type\": \"bar\"}], \"barpolar\": [{\"marker\": {\"line\": {\"color\": \"#E5ECF6\", \"width\": 0.5}}, \"type\": \"barpolar\"}], \"carpet\": [{\"aaxis\": {\"endlinecolor\": \"#2a3f5f\", \"gridcolor\": \"white\", \"linecolor\": \"white\", \"minorgridcolor\": \"white\", \"startlinecolor\": \"#2a3f5f\"}, \"baxis\": {\"endlinecolor\": \"#2a3f5f\", \"gridcolor\": \"white\", \"linecolor\": \"white\", \"minorgridcolor\": \"white\", \"startlinecolor\": \"#2a3f5f\"}, \"type\": \"carpet\"}], \"choropleth\": [{\"colorbar\": {\"outlinewidth\": 0, \"ticks\": \"\"}, \"type\": \"choropleth\"}], \"contour\": [{\"colorbar\": {\"outlinewidth\": 0, \"ticks\": \"\"}, \"colorscale\": [[0.0, \"#0d0887\"], [0.1111111111111111, \"#46039f\"], [0.2222222222222222, \"#7201a8\"], [0.3333333333333333, \"#9c179e\"], [0.4444444444444444, \"#bd3786\"], [0.5555555555555556, \"#d8576b\"], [0.6666666666666666, \"#ed7953\"], [0.7777777777777778, \"#fb9f3a\"], [0.8888888888888888, \"#fdca26\"], [1.0, \"#f0f921\"]], \"type\": \"contour\"}], \"contourcarpet\": [{\"colorbar\": {\"outlinewidth\": 0, \"ticks\": \"\"}, \"type\": \"contourcarpet\"}], \"heatmap\": [{\"colorbar\": {\"outlinewidth\": 0, \"ticks\": \"\"}, \"colorscale\": [[0.0, \"#0d0887\"], [0.1111111111111111, \"#46039f\"], [0.2222222222222222, \"#7201a8\"], [0.3333333333333333, \"#9c179e\"], [0.4444444444444444, \"#bd3786\"], [0.5555555555555556, \"#d8576b\"], [0.6666666666666666, \"#ed7953\"], [0.7777777777777778, \"#fb9f3a\"], [0.8888888888888888, \"#fdca26\"], [1.0, \"#f0f921\"]], \"type\": \"heatmap\"}], \"heatmapgl\": [{\"colorbar\": {\"outlinewidth\": 0, \"ticks\": \"\"}, \"colorscale\": [[0.0, \"#0d0887\"], [0.1111111111111111, \"#46039f\"], [0.2222222222222222, \"#7201a8\"], [0.3333333333333333, \"#9c179e\"], [0.4444444444444444, \"#bd3786\"], [0.5555555555555556, \"#d8576b\"], [0.6666666666666666, \"#ed7953\"], [0.7777777777777778, \"#fb9f3a\"], [0.8888888888888888, \"#fdca26\"], [1.0, \"#f0f921\"]], \"type\": \"heatmapgl\"}], \"histogram\": [{\"marker\": {\"colorbar\": {\"outlinewidth\": 0, \"ticks\": \"\"}}, \"type\": \"histogram\"}], \"histogram2d\": [{\"colorbar\": {\"outlinewidth\": 0, \"ticks\": \"\"}, \"colorscale\": [[0.0, \"#0d0887\"], [0.1111111111111111, \"#46039f\"], [0.2222222222222222, \"#7201a8\"], [0.3333333333333333, \"#9c179e\"], [0.4444444444444444, \"#bd3786\"], [0.5555555555555556, \"#d8576b\"], [0.6666666666666666, \"#ed7953\"], [0.7777777777777778, \"#fb9f3a\"], [0.8888888888888888, \"#fdca26\"], [1.0, \"#f0f921\"]], \"type\": \"histogram2d\"}], \"histogram2dcontour\": [{\"colorbar\": {\"outlinewidth\": 0, \"ticks\": \"\"}, \"colorscale\": [[0.0, \"#0d0887\"], [0.1111111111111111, \"#46039f\"], [0.2222222222222222, \"#7201a8\"], [0.3333333333333333, \"#9c179e\"], [0.4444444444444444, \"#bd3786\"], [0.5555555555555556, \"#d8576b\"], [0.6666666666666666, \"#ed7953\"], [0.7777777777777778, \"#fb9f3a\"], [0.8888888888888888, \"#fdca26\"], [1.0, \"#f0f921\"]], \"type\": \"histogram2dcontour\"}], \"mesh3d\": [{\"colorbar\": {\"outlinewidth\": 0, \"ticks\": \"\"}, \"type\": \"mesh3d\"}], \"parcoords\": [{\"line\": {\"colorbar\": {\"outlinewidth\": 0, \"ticks\": \"\"}}, \"type\": \"parcoords\"}], \"pie\": [{\"automargin\": true, \"type\": \"pie\"}], \"scatter\": [{\"marker\": {\"colorbar\": {\"outlinewidth\": 0, \"ticks\": \"\"}}, \"type\": \"scatter\"}], \"scatter3d\": [{\"line\": {\"colorbar\": {\"outlinewidth\": 0, \"ticks\": \"\"}}, \"marker\": {\"colorbar\": {\"outlinewidth\": 0, \"ticks\": \"\"}}, \"type\": \"scatter3d\"}], \"scattercarpet\": [{\"marker\": {\"colorbar\": {\"outlinewidth\": 0, \"ticks\": \"\"}}, \"type\": \"scattercarpet\"}], \"scattergeo\": [{\"marker\": {\"colorbar\": {\"outlinewidth\": 0, \"ticks\": \"\"}}, \"type\": \"scattergeo\"}], \"scattergl\": [{\"marker\": {\"colorbar\": {\"outlinewidth\": 0, \"ticks\": \"\"}}, \"type\": \"scattergl\"}], \"scattermapbox\": [{\"marker\": {\"colorbar\": {\"outlinewidth\": 0, \"ticks\": \"\"}}, \"type\": \"scattermapbox\"}], \"scatterpolar\": [{\"marker\": {\"colorbar\": {\"outlinewidth\": 0, \"ticks\": \"\"}}, \"type\": \"scatterpolar\"}], \"scatterpolargl\": [{\"marker\": {\"colorbar\": {\"outlinewidth\": 0, \"ticks\": \"\"}}, \"type\": \"scatterpolargl\"}], \"scatterternary\": [{\"marker\": {\"colorbar\": {\"outlinewidth\": 0, \"ticks\": \"\"}}, \"type\": \"scatterternary\"}], \"surface\": [{\"colorbar\": {\"outlinewidth\": 0, \"ticks\": \"\"}, \"colorscale\": [[0.0, \"#0d0887\"], [0.1111111111111111, \"#46039f\"], [0.2222222222222222, \"#7201a8\"], [0.3333333333333333, \"#9c179e\"], [0.4444444444444444, \"#bd3786\"], [0.5555555555555556, \"#d8576b\"], [0.6666666666666666, \"#ed7953\"], [0.7777777777777778, \"#fb9f3a\"], [0.8888888888888888, \"#fdca26\"], [1.0, \"#f0f921\"]], \"type\": \"surface\"}], \"table\": [{\"cells\": {\"fill\": {\"color\": \"#EBF0F8\"}, \"line\": {\"color\": \"white\"}}, \"header\": {\"fill\": {\"color\": \"#C8D4E3\"}, \"line\": {\"color\": \"white\"}}, \"type\": \"table\"}]}, \"layout\": {\"annotationdefaults\": {\"arrowcolor\": \"#2a3f5f\", \"arrowhead\": 0, \"arrowwidth\": 1}, \"coloraxis\": {\"colorbar\": {\"outlinewidth\": 0, \"ticks\": \"\"}}, \"colorscale\": {\"diverging\": [[0, \"#8e0152\"], [0.1, \"#c51b7d\"], [0.2, \"#de77ae\"], [0.3, \"#f1b6da\"], [0.4, \"#fde0ef\"], [0.5, \"#f7f7f7\"], [0.6, \"#e6f5d0\"], [0.7, \"#b8e186\"], [0.8, \"#7fbc41\"], [0.9, \"#4d9221\"], [1, \"#276419\"]], \"sequential\": [[0.0, \"#0d0887\"], [0.1111111111111111, \"#46039f\"], [0.2222222222222222, \"#7201a8\"], [0.3333333333333333, \"#9c179e\"], [0.4444444444444444, \"#bd3786\"], [0.5555555555555556, \"#d8576b\"], [0.6666666666666666, \"#ed7953\"], [0.7777777777777778, \"#fb9f3a\"], [0.8888888888888888, \"#fdca26\"], [1.0, \"#f0f921\"]], \"sequentialminus\": [[0.0, \"#0d0887\"], [0.1111111111111111, \"#46039f\"], [0.2222222222222222, \"#7201a8\"], [0.3333333333333333, \"#9c179e\"], [0.4444444444444444, \"#bd3786\"], [0.5555555555555556, \"#d8576b\"], [0.6666666666666666, \"#ed7953\"], [0.7777777777777778, \"#fb9f3a\"], [0.8888888888888888, \"#fdca26\"], [1.0, \"#f0f921\"]]}, \"colorway\": [\"#636efa\", \"#EF553B\", \"#00cc96\", \"#ab63fa\", \"#FFA15A\", \"#19d3f3\", \"#FF6692\", \"#B6E880\", \"#FF97FF\", \"#FECB52\"], \"font\": {\"color\": \"#2a3f5f\"}, \"geo\": {\"bgcolor\": \"white\", \"lakecolor\": \"white\", \"landcolor\": \"#E5ECF6\", \"showlakes\": true, \"showland\": true, \"subunitcolor\": \"white\"}, \"hoverlabel\": {\"align\": \"left\"}, \"hovermode\": \"closest\", \"mapbox\": {\"style\": \"light\"}, \"paper_bgcolor\": \"white\", \"plot_bgcolor\": \"#E5ECF6\", \"polar\": {\"angularaxis\": {\"gridcolor\": \"white\", \"linecolor\": \"white\", \"ticks\": \"\"}, \"bgcolor\": \"#E5ECF6\", \"radialaxis\": {\"gridcolor\": \"white\", \"linecolor\": \"white\", \"ticks\": \"\"}}, \"scene\": {\"xaxis\": {\"backgroundcolor\": \"#E5ECF6\", \"gridcolor\": \"white\", \"gridwidth\": 2, \"linecolor\": \"white\", \"showbackground\": true, \"ticks\": \"\", \"zerolinecolor\": \"white\"}, \"yaxis\": {\"backgroundcolor\": \"#E5ECF6\", \"gridcolor\": \"white\", \"gridwidth\": 2, \"linecolor\": \"white\", \"showbackground\": true, \"ticks\": \"\", \"zerolinecolor\": \"white\"}, \"zaxis\": {\"backgroundcolor\": \"#E5ECF6\", \"gridcolor\": \"white\", \"gridwidth\": 2, \"linecolor\": \"white\", \"showbackground\": true, \"ticks\": \"\", \"zerolinecolor\": \"white\"}}, \"shapedefaults\": {\"line\": {\"color\": \"#2a3f5f\"}}, \"ternary\": {\"aaxis\": {\"gridcolor\": \"white\", \"linecolor\": \"white\", \"ticks\": \"\"}, \"baxis\": {\"gridcolor\": \"white\", \"linecolor\": \"white\", \"ticks\": \"\"}, \"bgcolor\": \"#E5ECF6\", \"caxis\": {\"gridcolor\": \"white\", \"linecolor\": \"white\", \"ticks\": \"\"}}, \"title\": {\"x\": 0.05}, \"xaxis\": {\"automargin\": true, \"gridcolor\": \"white\", \"linecolor\": \"white\", \"ticks\": \"\", \"title\": {\"standoff\": 15}, \"zerolinecolor\": \"white\", \"zerolinewidth\": 2}, \"yaxis\": {\"automargin\": true, \"gridcolor\": \"white\", \"linecolor\": \"white\", \"ticks\": \"\", \"title\": {\"standoff\": 15}, \"zerolinecolor\": \"white\", \"zerolinewidth\": 2}}}},\n",
              "                        {\"responsive\": true}\n",
              "                    ).then(function(){\n",
              "                            \n",
              "var gd = document.getElementById('f4edbaa9-27bb-4e37-960c-c055f4394695');\n",
              "var x = new MutationObserver(function (mutations, observer) {{\n",
              "        var display = window.getComputedStyle(gd).display;\n",
              "        if (!display || display === 'none') {{\n",
              "            console.log([gd, 'removed!']);\n",
              "            Plotly.purge(gd);\n",
              "            observer.disconnect();\n",
              "        }}\n",
              "}});\n",
              "\n",
              "// Listen for the removal of the full notebook cells\n",
              "var notebookContainer = gd.closest('#notebook-container');\n",
              "if (notebookContainer) {{\n",
              "    x.observe(notebookContainer, {childList: true});\n",
              "}}\n",
              "\n",
              "// Listen for the clearing of the current output cell\n",
              "var outputEl = gd.closest('.output');\n",
              "if (outputEl) {{\n",
              "    x.observe(outputEl, {childList: true});\n",
              "}}\n",
              "\n",
              "                        })\n",
              "                };\n",
              "                \n",
              "            </script>\n",
              "        </div>\n",
              "</body>\n",
              "</html>"
            ]
          },
          "metadata": {
            "tags": []
          }
        },
        {
          "output_type": "display_data",
          "data": {
            "text/html": [
              "<html>\n",
              "<head><meta charset=\"utf-8\" /></head>\n",
              "<body>\n",
              "    <div>\n",
              "            <script src=\"https://cdnjs.cloudflare.com/ajax/libs/mathjax/2.7.5/MathJax.js?config=TeX-AMS-MML_SVG\"></script><script type=\"text/javascript\">if (window.MathJax) {MathJax.Hub.Config({SVG: {font: \"STIX-Web\"}});}</script>\n",
              "                <script type=\"text/javascript\">window.PlotlyConfig = {MathJaxConfig: 'local'};</script>\n",
              "        <script src=\"https://cdn.plot.ly/plotly-latest.min.js\"></script>    \n",
              "            <div id=\"784071f3-d41b-44b1-8c64-e4c8fe371c3d\" class=\"plotly-graph-div\" style=\"height:1810px; width:100%;\"></div>\n",
              "            <script type=\"text/javascript\">\n",
              "                \n",
              "                    window.PLOTLYENV=window.PLOTLYENV || {};\n",
              "                    \n",
              "                if (document.getElementById(\"784071f3-d41b-44b1-8c64-e4c8fe371c3d\")) {\n",
              "                    Plotly.newPlot(\n",
              "                        '784071f3-d41b-44b1-8c64-e4c8fe371c3d',\n",
              "                        [{\"cells\": {\"align\": \"center\", \"fill\": {\"color\": [[\"rgba(230, 216, 110, 0.1)\", \"rgba(230, 216, 110, 0.1)\", \"rgba(230, 216, 110, 0.1)\", \"rgba(230, 216, 110, 0.1)\", \"rgba(230, 216, 110, 0.1)\", \"rgba(230, 216, 110, 0.1)\", \"rgba(230, 216, 110, 0.1)\", \"rgba(230, 216, 110, 0.1)\", \"rgba(230, 216, 110, 0.1)\", \"rgba(230, 216, 110, 0.1)\", \"rgba(230, 216, 110, 0.1)\", \"rgba(230, 216, 110, 0.1)\", \"rgba(230, 216, 110, 0.1)\", \"rgba(230, 216, 110, 0.1)\", \"rgba(230, 216, 110, 0.1)\", \"rgba(230, 216, 110, 0.1)\", \"rgba(230, 216, 110, 0.1)\", \"rgba(230, 216, 110, 0.1)\", \"rgba(230, 216, 110, 0.1)\", \"rgba(230, 216, 110, 0.1)\", \"rgba(230, 216, 110, 0.1)\", \"rgba(230, 216, 110, 0.1)\", \"rgba(230, 216, 110, 0.1)\", \"rgba(230, 216, 110, 0.1)\", \"rgba(230, 216, 110, 0.1)\", \"rgba(230, 216, 110, 0.1)\", \"rgba(230, 216, 110, 0.1)\", \"rgba(230, 216, 110, 0.1)\", \"rgba(230, 216, 110, 0.1)\", \"rgba(230, 216, 110, 0.1)\", \"rgba(230, 216, 110, 0.1)\", \"rgba(230, 216, 110, 0.1)\", \"rgba(230, 216, 110, 0.1)\", \"rgba(230, 216, 110, 0.1)\", \"rgba(230, 216, 110, 0.1)\", \"rgba(230, 216, 110, 0.1)\", \"rgba(230, 216, 110, 0.1)\", \"rgba(230, 216, 110, 0.1)\", \"rgba(230, 216, 110, 0.1)\", \"rgba(230, 216, 110, 0.1)\", \"rgba(230, 216, 110, 0.1)\", \"rgba(230, 216, 110, 0.1)\", \"rgba(230, 216, 110, 0.1)\", \"rgba(230, 216, 110, 0.1)\", \"rgba(230, 216, 110, 0.1)\", \"rgba(230, 216, 110, 0.1)\", \"rgba(230, 216, 110, 0.1)\", \"rgba(230, 216, 110, 0.1)\", \"rgba(230, 216, 110, 0.1)\", \"rgba(230, 216, 110, 0.1)\", \"rgba(230, 216, 110, 0.1)\", \"rgba(230, 216, 110, 0.1)\", \"rgba(230, 216, 110, 0.1)\", \"rgba(230, 216, 110, 0.1)\", \"rgba(230, 216, 110, 0.1)\", \"rgba(230, 216, 110, 0.1)\", \"rgba(230, 216, 110, 0.1)\", \"rgba(230, 216, 110, 0.1)\", \"rgba(230, 216, 110, 0.1)\", \"rgba(230, 216, 110, 0.1)\", \"rgba(230, 216, 110, 0.1)\", \"rgba(230, 216, 110, 0.1)\", \"rgba(230, 216, 110, 0.1)\", \"rgba(230, 216, 110, 0.1)\", \"rgba(230, 216, 110, 0.1)\", \"rgba(230, 216, 110, 0.1)\", \"rgba(230, 216, 110, 0.1)\", \"rgba(230, 216, 110, 0.1)\", \"rgba(230, 216, 110, 0.1)\", \"rgba(230, 216, 110, 0.1)\", \"rgba(230, 216, 110, 0.1)\", \"rgba(230, 216, 110, 0.1)\", \"rgba(230, 216, 110, 0.1)\", \"rgba(230, 216, 110, 0.1)\", \"rgba(230, 216, 110, 0.1)\", \"rgba(230, 216, 110, 0.1)\", \"rgba(230, 216, 110, 0.1)\", \"rgba(230, 216, 110, 0.1)\", \"rgba(230, 216, 110, 0.1)\", \"rgba(230, 216, 110, 0.1)\", \"rgba(230, 216, 110, 0.1)\", \"rgba(230, 216, 110, 0.1)\", \"rgba(230, 216, 110, 0.1)\", \"rgba(230, 216, 110, 0.1)\", \"rgba(230, 216, 110, 0.1)\", \"rgba(230, 216, 110, 0.1)\", \"rgba(230, 216, 110, 0.1)\", \"rgba(230, 216, 110, 0.1)\"], [\"rgba(31, 119, 180, 0.19)\", \"rgba(31, 119, 180, 0.00)\", \"rgba(31, 119, 180, 0.00)\", \"rgba(31, 119, 180, 0.05)\", \"rgba(31, 119, 180, 0.09)\", \"rgba(31, 119, 180, 0.00)\", \"rgba(31, 119, 180, 0.00)\", \"rgba(31, 119, 180, 0.00)\", \"rgba(31, 119, 180, 0.00)\", \"rgba(31, 119, 180, 0.02)\", \"rgba(31, 119, 180, 0.00)\", \"rgba(31, 119, 180, 0.01)\", \"rgba(31, 119, 180, 0.01)\", \"rgba(31, 119, 180, 0.00)\", \"rgba(31, 119, 180, 0.00)\", \"rgba(31, 119, 180, 0.00)\", \"rgba(31, 119, 180, 0.02)\", \"rgba(31, 119, 180, 0.00)\", \"rgba(31, 119, 180, 0.00)\", \"rgba(31, 119, 180, 0.00)\", \"rgba(31, 119, 180, 0.02)\", \"rgba(31, 119, 180, 0.00)\", \"rgba(31, 119, 180, 0.02)\", \"rgba(31, 119, 180, 0.01)\", \"rgba(31, 119, 180, 0.05)\", \"rgba(31, 119, 180, 0.00)\", \"rgba(31, 119, 180, 0.02)\", \"rgba(31, 119, 180, 0.01)\", \"rgba(31, 119, 180, 0.03)\", \"rgba(31, 119, 180, 0.00)\", \"rgba(31, 119, 180, 0.00)\", \"rgba(31, 119, 180, 0.01)\", \"rgba(31, 119, 180, 0.00)\", \"rgba(31, 119, 180, 0.00)\", \"rgba(31, 119, 180, 0.00)\", \"rgba(31, 119, 180, 0.00)\", \"rgba(31, 119, 180, 0.03)\", \"rgba(31, 119, 180, 0.01)\", \"rgba(31, 119, 180, 0.00)\", \"rgba(31, 119, 180, 0.03)\", \"rgba(31, 119, 180, 0.00)\", \"rgba(31, 119, 180, 0.00)\", \"rgba(31, 119, 180, 0.00)\", \"rgba(31, 119, 180, 0.00)\", \"rgba(31, 119, 180, 0.00)\", \"rgba(31, 119, 180, 0.00)\", \"rgba(31, 119, 180, 0.03)\", \"rgba(31, 119, 180, 0.16)\", \"rgba(31, 119, 180, 0.00)\", \"rgba(31, 119, 180, 0.00)\", \"rgba(31, 119, 180, 0.00)\", \"rgba(31, 119, 180, 0.00)\", \"rgba(31, 119, 180, 0.00)\", \"rgba(31, 119, 180, 0.00)\", \"rgba(31, 119, 180, 0.01)\", \"rgba(31, 119, 180, 0.01)\", \"rgba(31, 119, 180, 0.00)\", \"rgba(31, 119, 180, 0.02)\", \"rgba(31, 119, 180, 0.00)\", \"rgba(31, 119, 180, 0.00)\", \"rgba(31, 119, 180, 0.00)\", \"rgba(31, 119, 180, 0.00)\", \"rgba(31, 119, 180, 0.00)\", \"rgba(31, 119, 180, 0.01)\", \"rgba(31, 119, 180, 0.00)\", \"rgba(31, 119, 180, 0.00)\", \"rgba(31, 119, 180, 0.01)\", \"rgba(31, 119, 180, 0.00)\", \"rgba(31, 119, 180, 0.00)\", \"rgba(31, 119, 180, 0.00)\", \"rgba(31, 119, 180, 0.02)\", \"rgba(31, 119, 180, 0.01)\", \"rgba(31, 119, 180, 0.00)\", \"rgba(31, 119, 180, 0.03)\", \"rgba(31, 119, 180, 0.00)\", \"rgba(31, 119, 180, 0.00)\", \"rgba(31, 119, 180, 0.03)\", \"rgba(31, 119, 180, 0.11)\", \"rgba(31, 119, 180, 0.01)\", \"rgba(31, 119, 180, 0.28)\", \"rgba(31, 119, 180, 0.02)\", \"rgba(31, 119, 180, 0.02)\", \"rgba(31, 119, 180, 0.02)\", \"rgba(31, 119, 180, 0.00)\", \"rgba(31, 119, 180, 0.02)\", \"rgba(31, 119, 180, 0.00)\", \"rgba(31, 119, 180, 0.00)\", \"rgba(31, 119, 180, 0.02)\"], [\"rgba(255, 127, 14, 0.00)\", \"rgba(255, 127, 14, 0.18)\", \"rgba(255, 127, 14, 0.00)\", \"rgba(255, 127, 14, 0.00)\", \"rgba(255, 127, 14, 0.00)\", \"rgba(255, 127, 14, 0.02)\", \"rgba(255, 127, 14, 0.00)\", \"rgba(255, 127, 14, 0.00)\", \"rgba(255, 127, 14, 0.00)\", \"rgba(255, 127, 14, 0.01)\", \"rgba(255, 127, 14, 0.00)\", \"rgba(255, 127, 14, 0.01)\", \"rgba(255, 127, 14, 0.00)\", \"rgba(255, 127, 14, 0.00)\", \"rgba(255, 127, 14, 0.03)\", \"rgba(255, 127, 14, 0.00)\", \"rgba(255, 127, 14, 0.03)\", \"rgba(255, 127, 14, 0.01)\", \"rgba(255, 127, 14, 0.00)\", \"rgba(255, 127, 14, 0.02)\", \"rgba(255, 127, 14, 0.00)\", \"rgba(255, 127, 14, 0.00)\", \"rgba(255, 127, 14, 0.01)\", \"rgba(255, 127, 14, 0.00)\", \"rgba(255, 127, 14, 0.00)\", \"rgba(255, 127, 14, 0.06)\", \"rgba(255, 127, 14, 0.00)\", \"rgba(255, 127, 14, 0.00)\", \"rgba(255, 127, 14, 0.03)\", \"rgba(255, 127, 14, 0.00)\", \"rgba(255, 127, 14, 0.11)\", \"rgba(255, 127, 14, 0.01)\", \"rgba(255, 127, 14, 0.02)\", \"rgba(255, 127, 14, 0.01)\", \"rgba(255, 127, 14, 0.00)\", \"rgba(255, 127, 14, 0.00)\", \"rgba(255, 127, 14, 0.00)\", \"rgba(255, 127, 14, 0.06)\", \"rgba(255, 127, 14, 0.09)\", \"rgba(255, 127, 14, 0.01)\", \"rgba(255, 127, 14, 0.00)\", \"rgba(255, 127, 14, 0.00)\", \"rgba(255, 127, 14, 0.08)\", \"rgba(255, 127, 14, 0.00)\", \"rgba(255, 127, 14, 0.04)\", \"rgba(255, 127, 14, 0.00)\", \"rgba(255, 127, 14, 0.00)\", \"rgba(255, 127, 14, 0.00)\", \"rgba(255, 127, 14, 0.00)\", \"rgba(255, 127, 14, 0.00)\", \"rgba(255, 127, 14, 0.16)\", \"rgba(255, 127, 14, 0.01)\", \"rgba(255, 127, 14, 0.00)\", \"rgba(255, 127, 14, 0.00)\", \"rgba(255, 127, 14, 0.00)\", \"rgba(255, 127, 14, 0.02)\", \"rgba(255, 127, 14, 0.01)\", \"rgba(255, 127, 14, 0.00)\", \"rgba(255, 127, 14, 0.16)\", \"rgba(255, 127, 14, 0.01)\", \"rgba(255, 127, 14, 0.00)\", \"rgba(255, 127, 14, 0.05)\", \"rgba(255, 127, 14, 0.01)\", \"rgba(255, 127, 14, 0.00)\", \"rgba(255, 127, 14, 0.00)\", \"rgba(255, 127, 14, 0.00)\", \"rgba(255, 127, 14, 0.02)\", \"rgba(255, 127, 14, 0.01)\", \"rgba(255, 127, 14, 0.00)\", \"rgba(255, 127, 14, 0.04)\", \"rgba(255, 127, 14, 0.00)\", \"rgba(255, 127, 14, 0.01)\", \"rgba(255, 127, 14, 0.03)\", \"rgba(255, 127, 14, 0.00)\", \"rgba(255, 127, 14, 0.00)\", \"rgba(255, 127, 14, 0.03)\", \"rgba(255, 127, 14, 0.01)\", \"rgba(255, 127, 14, 0.00)\", \"rgba(255, 127, 14, 0.00)\", \"rgba(255, 127, 14, 0.00)\", \"rgba(255, 127, 14, 0.00)\", \"rgba(255, 127, 14, 0.00)\", \"rgba(255, 127, 14, 0.00)\", \"rgba(255, 127, 14, 0.01)\", \"rgba(255, 127, 14, 0.00)\", \"rgba(255, 127, 14, 0.00)\", \"rgba(255, 127, 14, 0.00)\", \"rgba(255, 127, 14, 0.07)\"], [\"rgba(44, 160, 44, 0.01)\", \"rgba(44, 160, 44, 0.00)\", \"rgba(44, 160, 44, 0.00)\", \"rgba(44, 160, 44, 0.00)\", \"rgba(44, 160, 44, 0.00)\", \"rgba(44, 160, 44, 0.00)\", \"rgba(44, 160, 44, 0.00)\", \"rgba(44, 160, 44, 0.03)\", \"rgba(44, 160, 44, 0.01)\", \"rgba(44, 160, 44, 0.00)\", \"rgba(44, 160, 44, 0.01)\", \"rgba(44, 160, 44, 0.00)\", \"rgba(44, 160, 44, 0.10)\", \"rgba(44, 160, 44, 0.00)\", \"rgba(44, 160, 44, 0.01)\", \"rgba(44, 160, 44, 0.00)\", \"rgba(44, 160, 44, 0.09)\", \"rgba(44, 160, 44, 0.01)\", \"rgba(44, 160, 44, 0.00)\", \"rgba(44, 160, 44, 0.00)\", \"rgba(44, 160, 44, 0.03)\", \"rgba(44, 160, 44, 0.00)\", \"rgba(44, 160, 44, 0.00)\", \"rgba(44, 160, 44, 0.07)\", \"rgba(44, 160, 44, 0.01)\", \"rgba(44, 160, 44, 0.00)\", \"rgba(44, 160, 44, 0.05)\", \"rgba(44, 160, 44, 0.08)\", \"rgba(44, 160, 44, 0.00)\", \"rgba(44, 160, 44, 0.00)\", \"rgba(44, 160, 44, 0.01)\", \"rgba(44, 160, 44, 0.01)\", \"rgba(44, 160, 44, 0.00)\", \"rgba(44, 160, 44, 0.00)\", \"rgba(44, 160, 44, 0.06)\", \"rgba(44, 160, 44, 0.01)\", \"rgba(44, 160, 44, 0.06)\", \"rgba(44, 160, 44, 0.00)\", \"rgba(44, 160, 44, 0.01)\", \"rgba(44, 160, 44, 0.01)\", \"rgba(44, 160, 44, 0.00)\", \"rgba(44, 160, 44, 0.12)\", \"rgba(44, 160, 44, 0.00)\", \"rgba(44, 160, 44, 0.02)\", \"rgba(44, 160, 44, 0.00)\", \"rgba(44, 160, 44, 0.00)\", \"rgba(44, 160, 44, 0.00)\", \"rgba(44, 160, 44, 0.01)\", \"rgba(44, 160, 44, 0.00)\", \"rgba(44, 160, 44, 0.00)\", \"rgba(44, 160, 44, 0.00)\", \"rgba(44, 160, 44, 0.02)\", \"rgba(44, 160, 44, 0.03)\", \"rgba(44, 160, 44, 0.01)\", \"rgba(44, 160, 44, 0.00)\", \"rgba(44, 160, 44, 0.00)\", \"rgba(44, 160, 44, 0.02)\", \"rgba(44, 160, 44, 0.00)\", \"rgba(44, 160, 44, 0.01)\", \"rgba(44, 160, 44, 0.01)\", \"rgba(44, 160, 44, 0.00)\", \"rgba(44, 160, 44, 0.00)\", \"rgba(44, 160, 44, 0.00)\", \"rgba(44, 160, 44, 0.03)\", \"rgba(44, 160, 44, 0.01)\", \"rgba(44, 160, 44, 0.00)\", \"rgba(44, 160, 44, 0.01)\", \"rgba(44, 160, 44, 0.00)\", \"rgba(44, 160, 44, 0.02)\", \"rgba(44, 160, 44, 0.00)\", \"rgba(44, 160, 44, 0.00)\", \"rgba(44, 160, 44, 0.00)\", \"rgba(44, 160, 44, 0.01)\", \"rgba(44, 160, 44, 0.00)\", \"rgba(44, 160, 44, 0.00)\", \"rgba(44, 160, 44, 0.01)\", \"rgba(44, 160, 44, 0.05)\", \"rgba(44, 160, 44, 0.00)\", \"rgba(44, 160, 44, 0.01)\", \"rgba(44, 160, 44, 0.08)\", \"rgba(44, 160, 44, 0.01)\", \"rgba(44, 160, 44, 0.00)\", \"rgba(44, 160, 44, 0.00)\", \"rgba(44, 160, 44, 0.00)\", \"rgba(44, 160, 44, 0.03)\", \"rgba(44, 160, 44, 0.00)\", \"rgba(44, 160, 44, 0.02)\", \"rgba(44, 160, 44, 0.26)\"]]}, \"font\": {\"color\": [\"black\", \"white\"], \"size\": 11}, \"values\": [[\"absorb\", \"adapt\", \"anatomy\", \"ankle\", \"ant\", \"apis\", \"bee\", \"best\", \"blister\", \"body\", \"boot\", \"calf\", \"carnivorous\", \"case\", \"cat\", \"chafe\", \"chemical\", \"clade\", \"claw\", \"closely\", \"cold\", \"common\", \"communicate\", \"consist\", \"cover\", \"different\", \"domestic\", \"domesticate\", \"early\", \"eusocial\", \"felid\", \"female\", \"fight\", \"flexible\", \"fly\", \"flying\", \"foot\", \"fur\", \"genus\", \"great\", \"grip\", \"honey\", \"honeybee\", \"improve\", \"insect\", \"inside\", \"insulate\", \"kill\", \"know\", \"legging\", \"likely\", \"low\", \"mainly\", \"male\", \"mammal\", \"normally\", \"odor\", \"pollination\", \"prevent\", \"prey\", \"produce\", \"protection\", \"provide\", \"quick\", \"reflex\", \"relate\", \"retractable\", \"role\", \"sandal\", \"separate\", \"sharp\", \"shoe\", \"short\", \"similar\", \"small\", \"snout\", \"sock\", \"soft\", \"sol\", \"specie\", \"spell\", \"strong\", \"sweat\", \"tooth\", \"upper\", \"wasp\", \"wear\", \"western\"], [\"0.13\", \"0.00\", \"0.00\", \"0.03\", \"0.06\", \"0.00\", \"0.00\", \"0.00\", \"0.00\", \"0.01\", \"0.00\", \"0.01\", \"0.01\", \"0.00\", \"0.00\", \"0.00\", \"0.01\", \"0.00\", \"0.00\", \"0.00\", \"0.01\", \"0.00\", \"0.01\", \"0.00\", \"0.04\", \"0.00\", \"0.01\", \"0.01\", \"0.02\", \"0.00\", \"0.00\", \"0.00\", \"0.00\", \"0.00\", \"0.00\", \"0.00\", \"0.02\", \"0.00\", \"0.00\", \"0.02\", \"0.00\", \"0.00\", \"0.00\", \"0.00\", \"0.00\", \"0.00\", \"0.02\", \"0.11\", \"0.00\", \"0.00\", \"0.00\", \"0.00\", \"0.00\", \"0.00\", \"0.01\", \"0.00\", \"0.00\", \"0.01\", \"0.00\", \"0.00\", \"0.00\", \"0.00\", \"0.00\", \"0.00\", \"0.00\", \"0.00\", \"0.01\", \"0.00\", \"0.00\", \"0.00\", \"0.01\", \"0.00\", \"0.00\", \"0.02\", \"0.00\", \"0.00\", \"0.02\", \"0.07\", \"0.01\", \"0.19\", \"0.01\", \"0.01\", \"0.01\", \"0.00\", \"0.01\", \"0.00\", \"0.00\", \"0.02\"], [\"0.00\", \"0.12\", \"0.00\", \"0.00\", \"0.00\", \"0.01\", \"0.00\", \"0.00\", \"0.00\", \"0.01\", \"0.00\", \"0.01\", \"0.00\", \"0.00\", \"0.02\", \"0.00\", \"0.02\", \"0.00\", \"0.00\", \"0.01\", \"0.00\", \"0.00\", \"0.00\", \"0.00\", \"0.00\", \"0.04\", \"0.00\", \"0.00\", \"0.02\", \"0.00\", \"0.07\", \"0.01\", \"0.01\", \"0.01\", \"0.00\", \"0.00\", \"0.00\", \"0.04\", \"0.06\", \"0.00\", \"0.00\", \"0.00\", \"0.05\", \"0.00\", \"0.02\", \"0.00\", \"0.00\", \"0.00\", \"0.00\", \"0.00\", \"0.11\", \"0.00\", \"0.00\", \"0.00\", \"0.00\", \"0.01\", \"0.01\", \"0.00\", \"0.11\", \"0.00\", \"0.00\", \"0.03\", \"0.01\", \"0.00\", \"0.00\", \"0.00\", \"0.01\", \"0.00\", \"0.00\", \"0.03\", \"0.00\", \"0.01\", \"0.02\", \"0.00\", \"0.00\", \"0.02\", \"0.01\", \"0.00\", \"0.00\", \"0.00\", \"0.00\", \"0.00\", \"0.00\", \"0.00\", \"0.00\", \"0.00\", \"0.00\", \"0.05\"], [\"0.01\", \"0.00\", \"0.00\", \"0.00\", \"0.00\", \"0.00\", \"0.00\", \"0.02\", \"0.01\", \"0.00\", \"0.01\", \"0.00\", \"0.06\", \"0.00\", \"0.01\", \"0.00\", \"0.06\", \"0.00\", \"0.00\", \"0.00\", \"0.02\", \"0.00\", \"0.00\", \"0.05\", \"0.00\", \"0.00\", \"0.04\", \"0.05\", \"0.00\", \"0.00\", \"0.01\", \"0.01\", \"0.00\", \"0.00\", \"0.04\", \"0.00\", \"0.04\", \"0.00\", \"0.01\", \"0.01\", \"0.00\", \"0.08\", \"0.00\", \"0.01\", \"0.00\", \"0.00\", \"0.00\", \"0.01\", \"0.00\", \"0.00\", \"0.00\", \"0.01\", \"0.02\", \"0.01\", \"0.00\", \"0.00\", \"0.01\", \"0.00\", \"0.01\", \"0.00\", \"0.00\", \"0.00\", \"0.00\", \"0.02\", \"0.01\", \"0.00\", \"0.01\", \"0.00\", \"0.01\", \"0.00\", \"0.00\", \"0.00\", \"0.00\", \"0.00\", \"0.00\", \"0.00\", \"0.03\", \"0.00\", \"0.01\", \"0.06\", \"0.01\", \"0.00\", \"0.00\", \"0.00\", \"0.02\", \"0.00\", \"0.01\", \"0.17\"]]}, \"columnwidth\": [300, 100], \"header\": {\"align\": \"center\", \"fill\": {\"color\": \"white\"}, \"font\": {\"color\": \"black\", \"size\": 12}, \"height\": 30, \"line\": {\"color\": \"white\"}, \"values\": [\"Word\", \"Topic #1\", \"Topic #2\", \"Topic #3\"]}, \"type\": \"table\"}],\n",
              "                        {\"height\": 1810, \"margin\": {\"autoexpand\": false, \"b\": 0, \"l\": 0, \"pad\": 0, \"r\": 0, \"t\": 0}, \"template\": {\"data\": {\"bar\": [{\"error_x\": {\"color\": \"#2a3f5f\"}, \"error_y\": {\"color\": \"#2a3f5f\"}, \"marker\": {\"line\": {\"color\": \"#E5ECF6\", \"width\": 0.5}}, \"type\": \"bar\"}], \"barpolar\": [{\"marker\": {\"line\": {\"color\": \"#E5ECF6\", \"width\": 0.5}}, \"type\": \"barpolar\"}], \"carpet\": [{\"aaxis\": {\"endlinecolor\": \"#2a3f5f\", \"gridcolor\": \"white\", \"linecolor\": \"white\", \"minorgridcolor\": \"white\", \"startlinecolor\": \"#2a3f5f\"}, \"baxis\": {\"endlinecolor\": \"#2a3f5f\", \"gridcolor\": \"white\", \"linecolor\": \"white\", \"minorgridcolor\": \"white\", \"startlinecolor\": \"#2a3f5f\"}, \"type\": \"carpet\"}], \"choropleth\": [{\"colorbar\": {\"outlinewidth\": 0, \"ticks\": \"\"}, \"type\": \"choropleth\"}], \"contour\": [{\"colorbar\": {\"outlinewidth\": 0, \"ticks\": \"\"}, \"colorscale\": [[0.0, \"#0d0887\"], [0.1111111111111111, \"#46039f\"], [0.2222222222222222, \"#7201a8\"], [0.3333333333333333, \"#9c179e\"], [0.4444444444444444, \"#bd3786\"], [0.5555555555555556, \"#d8576b\"], [0.6666666666666666, \"#ed7953\"], [0.7777777777777778, \"#fb9f3a\"], [0.8888888888888888, \"#fdca26\"], [1.0, \"#f0f921\"]], \"type\": \"contour\"}], \"contourcarpet\": [{\"colorbar\": {\"outlinewidth\": 0, \"ticks\": \"\"}, \"type\": \"contourcarpet\"}], \"heatmap\": [{\"colorbar\": {\"outlinewidth\": 0, \"ticks\": \"\"}, \"colorscale\": [[0.0, \"#0d0887\"], [0.1111111111111111, \"#46039f\"], [0.2222222222222222, \"#7201a8\"], [0.3333333333333333, \"#9c179e\"], [0.4444444444444444, \"#bd3786\"], [0.5555555555555556, \"#d8576b\"], [0.6666666666666666, \"#ed7953\"], [0.7777777777777778, \"#fb9f3a\"], [0.8888888888888888, \"#fdca26\"], [1.0, \"#f0f921\"]], \"type\": \"heatmap\"}], \"heatmapgl\": [{\"colorbar\": {\"outlinewidth\": 0, \"ticks\": \"\"}, \"colorscale\": [[0.0, \"#0d0887\"], [0.1111111111111111, \"#46039f\"], [0.2222222222222222, \"#7201a8\"], [0.3333333333333333, \"#9c179e\"], [0.4444444444444444, \"#bd3786\"], [0.5555555555555556, \"#d8576b\"], [0.6666666666666666, \"#ed7953\"], [0.7777777777777778, \"#fb9f3a\"], [0.8888888888888888, \"#fdca26\"], [1.0, \"#f0f921\"]], \"type\": \"heatmapgl\"}], \"histogram\": [{\"marker\": {\"colorbar\": {\"outlinewidth\": 0, \"ticks\": \"\"}}, \"type\": \"histogram\"}], \"histogram2d\": [{\"colorbar\": {\"outlinewidth\": 0, \"ticks\": \"\"}, \"colorscale\": [[0.0, \"#0d0887\"], [0.1111111111111111, \"#46039f\"], [0.2222222222222222, \"#7201a8\"], [0.3333333333333333, \"#9c179e\"], [0.4444444444444444, \"#bd3786\"], [0.5555555555555556, \"#d8576b\"], [0.6666666666666666, \"#ed7953\"], [0.7777777777777778, \"#fb9f3a\"], [0.8888888888888888, \"#fdca26\"], [1.0, \"#f0f921\"]], \"type\": \"histogram2d\"}], \"histogram2dcontour\": [{\"colorbar\": {\"outlinewidth\": 0, \"ticks\": \"\"}, \"colorscale\": [[0.0, \"#0d0887\"], [0.1111111111111111, \"#46039f\"], [0.2222222222222222, \"#7201a8\"], [0.3333333333333333, \"#9c179e\"], [0.4444444444444444, \"#bd3786\"], [0.5555555555555556, \"#d8576b\"], [0.6666666666666666, \"#ed7953\"], [0.7777777777777778, \"#fb9f3a\"], [0.8888888888888888, \"#fdca26\"], [1.0, \"#f0f921\"]], \"type\": \"histogram2dcontour\"}], \"mesh3d\": [{\"colorbar\": {\"outlinewidth\": 0, \"ticks\": \"\"}, \"type\": \"mesh3d\"}], \"parcoords\": [{\"line\": {\"colorbar\": {\"outlinewidth\": 0, \"ticks\": \"\"}}, \"type\": \"parcoords\"}], \"pie\": [{\"automargin\": true, \"type\": \"pie\"}], \"scatter\": [{\"marker\": {\"colorbar\": {\"outlinewidth\": 0, \"ticks\": \"\"}}, \"type\": \"scatter\"}], \"scatter3d\": [{\"line\": {\"colorbar\": {\"outlinewidth\": 0, \"ticks\": \"\"}}, \"marker\": {\"colorbar\": {\"outlinewidth\": 0, \"ticks\": \"\"}}, \"type\": \"scatter3d\"}], \"scattercarpet\": [{\"marker\": {\"colorbar\": {\"outlinewidth\": 0, \"ticks\": \"\"}}, \"type\": \"scattercarpet\"}], \"scattergeo\": [{\"marker\": {\"colorbar\": {\"outlinewidth\": 0, \"ticks\": \"\"}}, \"type\": \"scattergeo\"}], \"scattergl\": [{\"marker\": {\"colorbar\": {\"outlinewidth\": 0, \"ticks\": \"\"}}, \"type\": \"scattergl\"}], \"scattermapbox\": [{\"marker\": {\"colorbar\": {\"outlinewidth\": 0, \"ticks\": \"\"}}, \"type\": \"scattermapbox\"}], \"scatterpolar\": [{\"marker\": {\"colorbar\": {\"outlinewidth\": 0, \"ticks\": \"\"}}, \"type\": \"scatterpolar\"}], \"scatterpolargl\": [{\"marker\": {\"colorbar\": {\"outlinewidth\": 0, \"ticks\": \"\"}}, \"type\": \"scatterpolargl\"}], \"scatterternary\": [{\"marker\": {\"colorbar\": {\"outlinewidth\": 0, \"ticks\": \"\"}}, \"type\": \"scatterternary\"}], \"surface\": [{\"colorbar\": {\"outlinewidth\": 0, \"ticks\": \"\"}, \"colorscale\": [[0.0, \"#0d0887\"], [0.1111111111111111, \"#46039f\"], [0.2222222222222222, \"#7201a8\"], [0.3333333333333333, \"#9c179e\"], [0.4444444444444444, \"#bd3786\"], [0.5555555555555556, \"#d8576b\"], [0.6666666666666666, \"#ed7953\"], [0.7777777777777778, \"#fb9f3a\"], [0.8888888888888888, \"#fdca26\"], [1.0, \"#f0f921\"]], \"type\": \"surface\"}], \"table\": [{\"cells\": {\"fill\": {\"color\": \"#EBF0F8\"}, \"line\": {\"color\": \"white\"}}, \"header\": {\"fill\": {\"color\": \"#C8D4E3\"}, \"line\": {\"color\": \"white\"}}, \"type\": \"table\"}]}, \"layout\": {\"annotationdefaults\": {\"arrowcolor\": \"#2a3f5f\", \"arrowhead\": 0, \"arrowwidth\": 1}, \"coloraxis\": {\"colorbar\": {\"outlinewidth\": 0, \"ticks\": \"\"}}, \"colorscale\": {\"diverging\": [[0, \"#8e0152\"], [0.1, \"#c51b7d\"], [0.2, \"#de77ae\"], [0.3, \"#f1b6da\"], [0.4, \"#fde0ef\"], [0.5, \"#f7f7f7\"], [0.6, \"#e6f5d0\"], [0.7, \"#b8e186\"], [0.8, \"#7fbc41\"], [0.9, \"#4d9221\"], [1, \"#276419\"]], \"sequential\": [[0.0, \"#0d0887\"], [0.1111111111111111, \"#46039f\"], [0.2222222222222222, \"#7201a8\"], [0.3333333333333333, \"#9c179e\"], [0.4444444444444444, \"#bd3786\"], [0.5555555555555556, \"#d8576b\"], [0.6666666666666666, \"#ed7953\"], [0.7777777777777778, \"#fb9f3a\"], [0.8888888888888888, \"#fdca26\"], [1.0, \"#f0f921\"]], \"sequentialminus\": [[0.0, \"#0d0887\"], [0.1111111111111111, \"#46039f\"], [0.2222222222222222, \"#7201a8\"], [0.3333333333333333, \"#9c179e\"], [0.4444444444444444, \"#bd3786\"], [0.5555555555555556, \"#d8576b\"], [0.6666666666666666, \"#ed7953\"], [0.7777777777777778, \"#fb9f3a\"], [0.8888888888888888, \"#fdca26\"], [1.0, \"#f0f921\"]]}, \"colorway\": [\"#636efa\", \"#EF553B\", \"#00cc96\", \"#ab63fa\", \"#FFA15A\", \"#19d3f3\", \"#FF6692\", \"#B6E880\", \"#FF97FF\", \"#FECB52\"], \"font\": {\"color\": \"#2a3f5f\"}, \"geo\": {\"bgcolor\": \"white\", \"lakecolor\": \"white\", \"landcolor\": \"#E5ECF6\", \"showlakes\": true, \"showland\": true, \"subunitcolor\": \"white\"}, \"hoverlabel\": {\"align\": \"left\"}, \"hovermode\": \"closest\", \"mapbox\": {\"style\": \"light\"}, \"paper_bgcolor\": \"white\", \"plot_bgcolor\": \"#E5ECF6\", \"polar\": {\"angularaxis\": {\"gridcolor\": \"white\", \"linecolor\": \"white\", \"ticks\": \"\"}, \"bgcolor\": \"#E5ECF6\", \"radialaxis\": {\"gridcolor\": \"white\", \"linecolor\": \"white\", \"ticks\": \"\"}}, \"scene\": {\"xaxis\": {\"backgroundcolor\": \"#E5ECF6\", \"gridcolor\": \"white\", \"gridwidth\": 2, \"linecolor\": \"white\", \"showbackground\": true, \"ticks\": \"\", \"zerolinecolor\": \"white\"}, \"yaxis\": {\"backgroundcolor\": \"#E5ECF6\", \"gridcolor\": \"white\", \"gridwidth\": 2, \"linecolor\": \"white\", \"showbackground\": true, \"ticks\": \"\", \"zerolinecolor\": \"white\"}, \"zaxis\": {\"backgroundcolor\": \"#E5ECF6\", \"gridcolor\": \"white\", \"gridwidth\": 2, \"linecolor\": \"white\", \"showbackground\": true, \"ticks\": \"\", \"zerolinecolor\": \"white\"}}, \"shapedefaults\": {\"line\": {\"color\": \"#2a3f5f\"}}, \"ternary\": {\"aaxis\": {\"gridcolor\": \"white\", \"linecolor\": \"white\", \"ticks\": \"\"}, \"baxis\": {\"gridcolor\": \"white\", \"linecolor\": \"white\", \"ticks\": \"\"}, \"bgcolor\": \"#E5ECF6\", \"caxis\": {\"gridcolor\": \"white\", \"linecolor\": \"white\", \"ticks\": \"\"}}, \"title\": {\"x\": 0.05}, \"xaxis\": {\"automargin\": true, \"gridcolor\": \"white\", \"linecolor\": \"white\", \"ticks\": \"\", \"title\": {\"standoff\": 15}, \"zerolinecolor\": \"white\", \"zerolinewidth\": 2}, \"yaxis\": {\"automargin\": true, \"gridcolor\": \"white\", \"linecolor\": \"white\", \"ticks\": \"\", \"title\": {\"standoff\": 15}, \"zerolinecolor\": \"white\", \"zerolinewidth\": 2}}}},\n",
              "                        {\"responsive\": true}\n",
              "                    ).then(function(){\n",
              "                            \n",
              "var gd = document.getElementById('784071f3-d41b-44b1-8c64-e4c8fe371c3d');\n",
              "var x = new MutationObserver(function (mutations, observer) {{\n",
              "        var display = window.getComputedStyle(gd).display;\n",
              "        if (!display || display === 'none') {{\n",
              "            console.log([gd, 'removed!']);\n",
              "            Plotly.purge(gd);\n",
              "            observer.disconnect();\n",
              "        }}\n",
              "}});\n",
              "\n",
              "// Listen for the removal of the full notebook cells\n",
              "var notebookContainer = gd.closest('#notebook-container');\n",
              "if (notebookContainer) {{\n",
              "    x.observe(notebookContainer, {childList: true});\n",
              "}}\n",
              "\n",
              "// Listen for the clearing of the current output cell\n",
              "var outputEl = gd.closest('.output');\n",
              "if (outputEl) {{\n",
              "    x.observe(outputEl, {childList: true});\n",
              "}}\n",
              "\n",
              "                        })\n",
              "                };\n",
              "                \n",
              "            </script>\n",
              "        </div>\n",
              "</body>\n",
              "</html>"
            ]
          },
          "metadata": {
            "tags": []
          }
        }
      ]
    },
    {
      "cell_type": "markdown",
      "metadata": {
        "id": "kltCxkWtP7us"
      },
      "source": [
        "## Topic based similarity metric"
      ]
    },
    {
      "cell_type": "markdown",
      "metadata": {
        "id": "qgMLmDwSQB5w"
      },
      "source": [
        "### Earth Mover's Distance (1st Wasserstein distance)\r\n",
        "\r\n",
        "Earth Mover's Distance is a metric that describes the cost required to transform one probability distribution into another.\r\n",
        "\r\n",
        "We use $\\theta_{m}$, $1 \\leq m \\leq M$ that describe each document's assignment over the $K$ topics as our metric space.\r\n",
        "\r\n",
        "We compute $dist(document_i, document_j)$ as $EMD(\\theta_i, \\theta_j)$ for $1 \\leq i \\leq M$, $1 \\leq j \\leq M$ and then plot the distances matrix.\r\n",
        "\r\n"
      ]
    },
    {
      "cell_type": "code",
      "metadata": {
        "id": "XtlxqqTlUWP_"
      },
      "source": [
        "def compute_EDA(lda):\r\n",
        "    distances = []\r\n",
        "    for i in range(lda.num_documents):\r\n",
        "        distances.append([wasserstein_distance(lda.theta_trace[i], lda.theta_trace[j]) for j in range(lda.num_documents)])\r\n",
        "    \r\n",
        "    return np.array(distances)\r\n",
        "\r\n",
        "distances = compute_EDA(lda)"
      ],
      "execution_count": 16,
      "outputs": []
    },
    {
      "cell_type": "code",
      "metadata": {
        "colab": {
          "base_uri": "https://localhost:8080/",
          "height": 247
        },
        "id": "jHHAIzFXmds7",
        "outputId": "39d341c7-b42e-457d-e1a2-c4031ac22a40"
      },
      "source": [
        "def plot_distances(lda, distances, color_index=6):\r\n",
        "    table_columns = ['',]\r\n",
        "    table_rows = []\r\n",
        "    table_colors = []\r\n",
        "    \r\n",
        "    for doc_id1 in range(lda.num_documents):\r\n",
        "        # Take 1st document intro\r\n",
        "        doc_head1 = lda.text_processor.docs[doc_id1].text[:10]\r\n",
        "        if len(lda.text_processor.docs[doc_id1].text) > 10:\r\n",
        "            doc_head1 += '[...]'\r\n",
        "        \r\n",
        "        table_columns.append(doc_head1)\r\n",
        "\r\n",
        "        # Select topic assignment\r\n",
        "        values = [doc_head1]\r\n",
        "        colors = ['rgba(230, 216, 110, 0.1)']\r\n",
        "        for doc_id2 in range(lda.num_documents):\r\n",
        "            values.append(f'{distances[doc_id1][doc_id2]:.2f}')\r\n",
        "            alpha = f'{min(3.5 * distances[doc_id1][doc_id2], 1):.2f}'\r\n",
        "            colors.append(f'rgba{RGBCOLORS[color_index + (doc_id2 // 3)][:-1]}, {alpha})')\r\n",
        "        \r\n",
        "        # Construct table row\r\n",
        "        table_rows.append(values)\r\n",
        "        table_colors.append(colors)\r\n",
        "    \r\n",
        "    # Transpose values\r\n",
        "    table_rows = np.array(table_rows).T.tolist()\r\n",
        "    table_colors = np.array(table_colors).T.tolist()\r\n",
        "\r\n",
        "    # Create figure\r\n",
        "    fig = go.Figure(data=go.Table(\r\n",
        "        columnwidth=[100, 100],\r\n",
        "        header=dict(values=table_columns,\r\n",
        "                    line_color='rgba(230, 216, 110, 0.1)',\r\n",
        "                    fill_color='rgba(230, 216, 110, 0.1)',\r\n",
        "                    align='center', font=dict(color='black', size=11)),\r\n",
        "        cells=dict(values=table_rows,\r\n",
        "                    align='center',\r\n",
        "                    font=dict(color=['black', 'white'], size=11),\r\n",
        "                    fill_color=table_colors)))\r\n",
        "    \r\n",
        "    # Adjust layout to match table real size\r\n",
        "    fig.update_layout(margin=dict(l=0, r=0, b=0, t=0, pad=0, autoexpand=False))\r\n",
        "    fig.update_layout(height=50 + 20 * len(table_rows[0]))\r\n",
        "\r\n",
        "    # Something beautiful will appear\r\n",
        "    fig.show()\r\n",
        "\r\n",
        "\r\n",
        "plot_distances(lda, distances)"
      ],
      "execution_count": 17,
      "outputs": [
        {
          "output_type": "display_data",
          "data": {
            "text/html": [
              "<html>\n",
              "<head><meta charset=\"utf-8\" /></head>\n",
              "<body>\n",
              "    <div>\n",
              "            <script src=\"https://cdnjs.cloudflare.com/ajax/libs/mathjax/2.7.5/MathJax.js?config=TeX-AMS-MML_SVG\"></script><script type=\"text/javascript\">if (window.MathJax) {MathJax.Hub.Config({SVG: {font: \"STIX-Web\"}});}</script>\n",
              "                <script type=\"text/javascript\">window.PlotlyConfig = {MathJaxConfig: 'local'};</script>\n",
              "        <script src=\"https://cdn.plot.ly/plotly-latest.min.js\"></script>    \n",
              "            <div id=\"9e45543c-03aa-49f0-9a76-260782a3b77e\" class=\"plotly-graph-div\" style=\"height:230px; width:100%;\"></div>\n",
              "            <script type=\"text/javascript\">\n",
              "                \n",
              "                    window.PLOTLYENV=window.PLOTLYENV || {};\n",
              "                    \n",
              "                if (document.getElementById(\"9e45543c-03aa-49f0-9a76-260782a3b77e\")) {\n",
              "                    Plotly.newPlot(\n",
              "                        '9e45543c-03aa-49f0-9a76-260782a3b77e',\n",
              "                        [{\"cells\": {\"align\": \"center\", \"fill\": {\"color\": [[\"rgba(230, 216, 110, 0.1)\", \"rgba(230, 216, 110, 0.1)\", \"rgba(230, 216, 110, 0.1)\", \"rgba(230, 216, 110, 0.1)\", \"rgba(230, 216, 110, 0.1)\", \"rgba(230, 216, 110, 0.1)\", \"rgba(230, 216, 110, 0.1)\", \"rgba(230, 216, 110, 0.1)\", \"rgba(230, 216, 110, 0.1)\"], [\"rgba(227, 119, 194, 0.00)\", \"rgba(227, 119, 194, 0.23)\", \"rgba(227, 119, 194, 0.31)\", \"rgba(227, 119, 194, 0.33)\", \"rgba(227, 119, 194, 0.38)\", \"rgba(227, 119, 194, 0.31)\", \"rgba(227, 119, 194, 0.51)\", \"rgba(227, 119, 194, 0.15)\", \"rgba(227, 119, 194, 0.49)\"], [\"rgba(227, 119, 194, 0.23)\", \"rgba(227, 119, 194, 0.00)\", \"rgba(227, 119, 194, 0.37)\", \"rgba(227, 119, 194, 0.30)\", \"rgba(227, 119, 194, 0.38)\", \"rgba(227, 119, 194, 0.36)\", \"rgba(227, 119, 194, 0.38)\", \"rgba(227, 119, 194, 0.39)\", \"rgba(227, 119, 194, 0.54)\"], [\"rgba(227, 119, 194, 0.31)\", \"rgba(227, 119, 194, 0.37)\", \"rgba(227, 119, 194, 0.00)\", \"rgba(227, 119, 194, 0.21)\", \"rgba(227, 119, 194, 0.20)\", \"rgba(227, 119, 194, 0.08)\", \"rgba(227, 119, 194, 0.33)\", \"rgba(227, 119, 194, 0.26)\", \"rgba(227, 119, 194, 0.28)\"], [\"rgba(127, 127, 127, 0.33)\", \"rgba(127, 127, 127, 0.30)\", \"rgba(127, 127, 127, 0.21)\", \"rgba(127, 127, 127, 0.00)\", \"rgba(127, 127, 127, 0.08)\", \"rgba(127, 127, 127, 0.13)\", \"rgba(127, 127, 127, 0.18)\", \"rgba(127, 127, 127, 0.41)\", \"rgba(127, 127, 127, 0.24)\"], [\"rgba(127, 127, 127, 0.38)\", \"rgba(127, 127, 127, 0.38)\", \"rgba(127, 127, 127, 0.20)\", \"rgba(127, 127, 127, 0.08)\", \"rgba(127, 127, 127, 0.00)\", \"rgba(127, 127, 127, 0.13)\", \"rgba(127, 127, 127, 0.14)\", \"rgba(127, 127, 127, 0.46)\", \"rgba(127, 127, 127, 0.16)\"], [\"rgba(127, 127, 127, 0.31)\", \"rgba(127, 127, 127, 0.36)\", \"rgba(127, 127, 127, 0.08)\", \"rgba(127, 127, 127, 0.13)\", \"rgba(127, 127, 127, 0.13)\", \"rgba(127, 127, 127, 0.00)\", \"rgba(127, 127, 127, 0.26)\", \"rgba(127, 127, 127, 0.33)\", \"rgba(127, 127, 127, 0.21)\"], [\"rgba(188, 189, 34, 0.51)\", \"rgba(188, 189, 34, 0.38)\", \"rgba(188, 189, 34, 0.33)\", \"rgba(188, 189, 34, 0.18)\", \"rgba(188, 189, 34, 0.14)\", \"rgba(188, 189, 34, 0.26)\", \"rgba(188, 189, 34, 0.00)\", \"rgba(188, 189, 34, 0.59)\", \"rgba(188, 189, 34, 0.22)\"], [\"rgba(188, 189, 34, 0.15)\", \"rgba(188, 189, 34, 0.39)\", \"rgba(188, 189, 34, 0.26)\", \"rgba(188, 189, 34, 0.41)\", \"rgba(188, 189, 34, 0.46)\", \"rgba(188, 189, 34, 0.33)\", \"rgba(188, 189, 34, 0.59)\", \"rgba(188, 189, 34, 0.00)\", \"rgba(188, 189, 34, 0.54)\"], [\"rgba(188, 189, 34, 0.49)\", \"rgba(188, 189, 34, 0.54)\", \"rgba(188, 189, 34, 0.28)\", \"rgba(188, 189, 34, 0.24)\", \"rgba(188, 189, 34, 0.16)\", \"rgba(188, 189, 34, 0.21)\", \"rgba(188, 189, 34, 0.22)\", \"rgba(188, 189, 34, 0.54)\", \"rgba(188, 189, 34, 0.00)\"]]}, \"font\": {\"color\": [\"black\", \"white\"], \"size\": 11}, \"values\": [[\"Most boots[...]\", \"Early boot[...]\", \"Boots are [...]\", \"The cat is[...]\", \"A small do[...]\", \"Among dome[...]\", \"Bees are f[...]\", \"A honey be[...]\", \"Honey bees[...]\"], [\"0.00\", \"0.07\", \"0.09\", \"0.09\", \"0.11\", \"0.09\", \"0.15\", \"0.04\", \"0.14\"], [\"0.07\", \"0.00\", \"0.11\", \"0.09\", \"0.11\", \"0.10\", \"0.11\", \"0.11\", \"0.16\"], [\"0.09\", \"0.11\", \"0.00\", \"0.06\", \"0.06\", \"0.02\", \"0.10\", \"0.07\", \"0.08\"], [\"0.09\", \"0.09\", \"0.06\", \"0.00\", \"0.02\", \"0.04\", \"0.05\", \"0.12\", \"0.07\"], [\"0.11\", \"0.11\", \"0.06\", \"0.02\", \"0.00\", \"0.04\", \"0.04\", \"0.13\", \"0.05\"], [\"0.09\", \"0.10\", \"0.02\", \"0.04\", \"0.04\", \"0.00\", \"0.07\", \"0.09\", \"0.06\"], [\"0.15\", \"0.11\", \"0.10\", \"0.05\", \"0.04\", \"0.07\", \"0.00\", \"0.17\", \"0.06\"], [\"0.04\", \"0.11\", \"0.07\", \"0.12\", \"0.13\", \"0.09\", \"0.17\", \"0.00\", \"0.15\"], [\"0.14\", \"0.16\", \"0.08\", \"0.07\", \"0.05\", \"0.06\", \"0.06\", \"0.15\", \"0.00\"]]}, \"columnwidth\": [100, 100], \"header\": {\"align\": \"center\", \"fill\": {\"color\": \"rgba(230, 216, 110, 0.1)\"}, \"font\": {\"color\": \"black\", \"size\": 11}, \"line\": {\"color\": \"rgba(230, 216, 110, 0.1)\"}, \"values\": [\"\", \"Most boots[...]\", \"Early boot[...]\", \"Boots are [...]\", \"The cat is[...]\", \"A small do[...]\", \"Among dome[...]\", \"Bees are f[...]\", \"A honey be[...]\", \"Honey bees[...]\"]}, \"type\": \"table\"}],\n",
              "                        {\"height\": 230, \"margin\": {\"autoexpand\": false, \"b\": 0, \"l\": 0, \"pad\": 0, \"r\": 0, \"t\": 0}, \"template\": {\"data\": {\"bar\": [{\"error_x\": {\"color\": \"#2a3f5f\"}, \"error_y\": {\"color\": \"#2a3f5f\"}, \"marker\": {\"line\": {\"color\": \"#E5ECF6\", \"width\": 0.5}}, \"type\": \"bar\"}], \"barpolar\": [{\"marker\": {\"line\": {\"color\": \"#E5ECF6\", \"width\": 0.5}}, \"type\": \"barpolar\"}], \"carpet\": [{\"aaxis\": {\"endlinecolor\": \"#2a3f5f\", \"gridcolor\": \"white\", \"linecolor\": \"white\", \"minorgridcolor\": \"white\", \"startlinecolor\": \"#2a3f5f\"}, \"baxis\": {\"endlinecolor\": \"#2a3f5f\", \"gridcolor\": \"white\", \"linecolor\": \"white\", \"minorgridcolor\": \"white\", \"startlinecolor\": \"#2a3f5f\"}, \"type\": \"carpet\"}], \"choropleth\": [{\"colorbar\": {\"outlinewidth\": 0, \"ticks\": \"\"}, \"type\": \"choropleth\"}], \"contour\": [{\"colorbar\": {\"outlinewidth\": 0, \"ticks\": \"\"}, \"colorscale\": [[0.0, \"#0d0887\"], [0.1111111111111111, \"#46039f\"], [0.2222222222222222, \"#7201a8\"], [0.3333333333333333, \"#9c179e\"], [0.4444444444444444, \"#bd3786\"], [0.5555555555555556, \"#d8576b\"], [0.6666666666666666, \"#ed7953\"], [0.7777777777777778, \"#fb9f3a\"], [0.8888888888888888, \"#fdca26\"], [1.0, \"#f0f921\"]], \"type\": \"contour\"}], \"contourcarpet\": [{\"colorbar\": {\"outlinewidth\": 0, \"ticks\": \"\"}, \"type\": \"contourcarpet\"}], \"heatmap\": [{\"colorbar\": {\"outlinewidth\": 0, \"ticks\": \"\"}, \"colorscale\": [[0.0, \"#0d0887\"], [0.1111111111111111, \"#46039f\"], [0.2222222222222222, \"#7201a8\"], [0.3333333333333333, \"#9c179e\"], [0.4444444444444444, \"#bd3786\"], [0.5555555555555556, \"#d8576b\"], [0.6666666666666666, \"#ed7953\"], [0.7777777777777778, \"#fb9f3a\"], [0.8888888888888888, \"#fdca26\"], [1.0, \"#f0f921\"]], \"type\": \"heatmap\"}], \"heatmapgl\": [{\"colorbar\": {\"outlinewidth\": 0, \"ticks\": \"\"}, \"colorscale\": [[0.0, \"#0d0887\"], [0.1111111111111111, \"#46039f\"], [0.2222222222222222, \"#7201a8\"], [0.3333333333333333, \"#9c179e\"], [0.4444444444444444, \"#bd3786\"], [0.5555555555555556, \"#d8576b\"], [0.6666666666666666, \"#ed7953\"], [0.7777777777777778, \"#fb9f3a\"], [0.8888888888888888, \"#fdca26\"], [1.0, \"#f0f921\"]], \"type\": \"heatmapgl\"}], \"histogram\": [{\"marker\": {\"colorbar\": {\"outlinewidth\": 0, \"ticks\": \"\"}}, \"type\": \"histogram\"}], \"histogram2d\": [{\"colorbar\": {\"outlinewidth\": 0, \"ticks\": \"\"}, \"colorscale\": [[0.0, \"#0d0887\"], [0.1111111111111111, \"#46039f\"], [0.2222222222222222, \"#7201a8\"], [0.3333333333333333, \"#9c179e\"], [0.4444444444444444, \"#bd3786\"], [0.5555555555555556, \"#d8576b\"], [0.6666666666666666, \"#ed7953\"], [0.7777777777777778, \"#fb9f3a\"], [0.8888888888888888, \"#fdca26\"], [1.0, \"#f0f921\"]], \"type\": \"histogram2d\"}], \"histogram2dcontour\": [{\"colorbar\": {\"outlinewidth\": 0, \"ticks\": \"\"}, \"colorscale\": [[0.0, \"#0d0887\"], [0.1111111111111111, \"#46039f\"], [0.2222222222222222, \"#7201a8\"], [0.3333333333333333, \"#9c179e\"], [0.4444444444444444, \"#bd3786\"], [0.5555555555555556, \"#d8576b\"], [0.6666666666666666, \"#ed7953\"], [0.7777777777777778, \"#fb9f3a\"], [0.8888888888888888, \"#fdca26\"], [1.0, \"#f0f921\"]], \"type\": \"histogram2dcontour\"}], \"mesh3d\": [{\"colorbar\": {\"outlinewidth\": 0, \"ticks\": \"\"}, \"type\": \"mesh3d\"}], \"parcoords\": [{\"line\": {\"colorbar\": {\"outlinewidth\": 0, \"ticks\": \"\"}}, \"type\": \"parcoords\"}], \"pie\": [{\"automargin\": true, \"type\": \"pie\"}], \"scatter\": [{\"marker\": {\"colorbar\": {\"outlinewidth\": 0, \"ticks\": \"\"}}, \"type\": \"scatter\"}], \"scatter3d\": [{\"line\": {\"colorbar\": {\"outlinewidth\": 0, \"ticks\": \"\"}}, \"marker\": {\"colorbar\": {\"outlinewidth\": 0, \"ticks\": \"\"}}, \"type\": \"scatter3d\"}], \"scattercarpet\": [{\"marker\": {\"colorbar\": {\"outlinewidth\": 0, \"ticks\": \"\"}}, \"type\": \"scattercarpet\"}], \"scattergeo\": [{\"marker\": {\"colorbar\": {\"outlinewidth\": 0, \"ticks\": \"\"}}, \"type\": \"scattergeo\"}], \"scattergl\": [{\"marker\": {\"colorbar\": {\"outlinewidth\": 0, \"ticks\": \"\"}}, \"type\": \"scattergl\"}], \"scattermapbox\": [{\"marker\": {\"colorbar\": {\"outlinewidth\": 0, \"ticks\": \"\"}}, \"type\": \"scattermapbox\"}], \"scatterpolar\": [{\"marker\": {\"colorbar\": {\"outlinewidth\": 0, \"ticks\": \"\"}}, \"type\": \"scatterpolar\"}], \"scatterpolargl\": [{\"marker\": {\"colorbar\": {\"outlinewidth\": 0, \"ticks\": \"\"}}, \"type\": \"scatterpolargl\"}], \"scatterternary\": [{\"marker\": {\"colorbar\": {\"outlinewidth\": 0, \"ticks\": \"\"}}, \"type\": \"scatterternary\"}], \"surface\": [{\"colorbar\": {\"outlinewidth\": 0, \"ticks\": \"\"}, \"colorscale\": [[0.0, \"#0d0887\"], [0.1111111111111111, \"#46039f\"], [0.2222222222222222, \"#7201a8\"], [0.3333333333333333, \"#9c179e\"], [0.4444444444444444, \"#bd3786\"], [0.5555555555555556, \"#d8576b\"], [0.6666666666666666, \"#ed7953\"], [0.7777777777777778, \"#fb9f3a\"], [0.8888888888888888, \"#fdca26\"], [1.0, \"#f0f921\"]], \"type\": \"surface\"}], \"table\": [{\"cells\": {\"fill\": {\"color\": \"#EBF0F8\"}, \"line\": {\"color\": \"white\"}}, \"header\": {\"fill\": {\"color\": \"#C8D4E3\"}, \"line\": {\"color\": \"white\"}}, \"type\": \"table\"}]}, \"layout\": {\"annotationdefaults\": {\"arrowcolor\": \"#2a3f5f\", \"arrowhead\": 0, \"arrowwidth\": 1}, \"coloraxis\": {\"colorbar\": {\"outlinewidth\": 0, \"ticks\": \"\"}}, \"colorscale\": {\"diverging\": [[0, \"#8e0152\"], [0.1, \"#c51b7d\"], [0.2, \"#de77ae\"], [0.3, \"#f1b6da\"], [0.4, \"#fde0ef\"], [0.5, \"#f7f7f7\"], [0.6, \"#e6f5d0\"], [0.7, \"#b8e186\"], [0.8, \"#7fbc41\"], [0.9, \"#4d9221\"], [1, \"#276419\"]], \"sequential\": [[0.0, \"#0d0887\"], [0.1111111111111111, \"#46039f\"], [0.2222222222222222, \"#7201a8\"], [0.3333333333333333, \"#9c179e\"], [0.4444444444444444, \"#bd3786\"], [0.5555555555555556, \"#d8576b\"], [0.6666666666666666, \"#ed7953\"], [0.7777777777777778, \"#fb9f3a\"], [0.8888888888888888, \"#fdca26\"], [1.0, \"#f0f921\"]], \"sequentialminus\": [[0.0, \"#0d0887\"], [0.1111111111111111, \"#46039f\"], [0.2222222222222222, \"#7201a8\"], [0.3333333333333333, \"#9c179e\"], [0.4444444444444444, \"#bd3786\"], [0.5555555555555556, \"#d8576b\"], [0.6666666666666666, \"#ed7953\"], [0.7777777777777778, \"#fb9f3a\"], [0.8888888888888888, \"#fdca26\"], [1.0, \"#f0f921\"]]}, \"colorway\": [\"#636efa\", \"#EF553B\", \"#00cc96\", \"#ab63fa\", \"#FFA15A\", \"#19d3f3\", \"#FF6692\", \"#B6E880\", \"#FF97FF\", \"#FECB52\"], \"font\": {\"color\": \"#2a3f5f\"}, \"geo\": {\"bgcolor\": \"white\", \"lakecolor\": \"white\", \"landcolor\": \"#E5ECF6\", \"showlakes\": true, \"showland\": true, \"subunitcolor\": \"white\"}, \"hoverlabel\": {\"align\": \"left\"}, \"hovermode\": \"closest\", \"mapbox\": {\"style\": \"light\"}, \"paper_bgcolor\": \"white\", \"plot_bgcolor\": \"#E5ECF6\", \"polar\": {\"angularaxis\": {\"gridcolor\": \"white\", \"linecolor\": \"white\", \"ticks\": \"\"}, \"bgcolor\": \"#E5ECF6\", \"radialaxis\": {\"gridcolor\": \"white\", \"linecolor\": \"white\", \"ticks\": \"\"}}, \"scene\": {\"xaxis\": {\"backgroundcolor\": \"#E5ECF6\", \"gridcolor\": \"white\", \"gridwidth\": 2, \"linecolor\": \"white\", \"showbackground\": true, \"ticks\": \"\", \"zerolinecolor\": \"white\"}, \"yaxis\": {\"backgroundcolor\": \"#E5ECF6\", \"gridcolor\": \"white\", \"gridwidth\": 2, \"linecolor\": \"white\", \"showbackground\": true, \"ticks\": \"\", \"zerolinecolor\": \"white\"}, \"zaxis\": {\"backgroundcolor\": \"#E5ECF6\", \"gridcolor\": \"white\", \"gridwidth\": 2, \"linecolor\": \"white\", \"showbackground\": true, \"ticks\": \"\", \"zerolinecolor\": \"white\"}}, \"shapedefaults\": {\"line\": {\"color\": \"#2a3f5f\"}}, \"ternary\": {\"aaxis\": {\"gridcolor\": \"white\", \"linecolor\": \"white\", \"ticks\": \"\"}, \"baxis\": {\"gridcolor\": \"white\", \"linecolor\": \"white\", \"ticks\": \"\"}, \"bgcolor\": \"#E5ECF6\", \"caxis\": {\"gridcolor\": \"white\", \"linecolor\": \"white\", \"ticks\": \"\"}}, \"title\": {\"x\": 0.05}, \"xaxis\": {\"automargin\": true, \"gridcolor\": \"white\", \"linecolor\": \"white\", \"ticks\": \"\", \"title\": {\"standoff\": 15}, \"zerolinecolor\": \"white\", \"zerolinewidth\": 2}, \"yaxis\": {\"automargin\": true, \"gridcolor\": \"white\", \"linecolor\": \"white\", \"ticks\": \"\", \"title\": {\"standoff\": 15}, \"zerolinecolor\": \"white\", \"zerolinewidth\": 2}}}},\n",
              "                        {\"responsive\": true}\n",
              "                    ).then(function(){\n",
              "                            \n",
              "var gd = document.getElementById('9e45543c-03aa-49f0-9a76-260782a3b77e');\n",
              "var x = new MutationObserver(function (mutations, observer) {{\n",
              "        var display = window.getComputedStyle(gd).display;\n",
              "        if (!display || display === 'none') {{\n",
              "            console.log([gd, 'removed!']);\n",
              "            Plotly.purge(gd);\n",
              "            observer.disconnect();\n",
              "        }}\n",
              "}});\n",
              "\n",
              "// Listen for the removal of the full notebook cells\n",
              "var notebookContainer = gd.closest('#notebook-container');\n",
              "if (notebookContainer) {{\n",
              "    x.observe(notebookContainer, {childList: true});\n",
              "}}\n",
              "\n",
              "// Listen for the clearing of the current output cell\n",
              "var outputEl = gd.closest('.output');\n",
              "if (outputEl) {{\n",
              "    x.observe(outputEl, {childList: true});\n",
              "}}\n",
              "\n",
              "                        })\n",
              "                };\n",
              "                \n",
              "            </script>\n",
              "        </div>\n",
              "</body>\n",
              "</html>"
            ]
          },
          "metadata": {
            "tags": []
          }
        }
      ]
    },
    {
      "cell_type": "markdown",
      "metadata": {
        "id": "bdM0VDwTr97h"
      },
      "source": [
        "### Kullback–Leibler divergence (relative entropy)\r\n",
        "\r\n",
        "Similarly, we will compute the Kullback–Leibler divergence, a measure that characterizes how much a distribution differs from another.\r\n",
        "\r\n",
        "We have: $dist(document_i, document_j)$ as $D_{KL}(\\theta_i, \\theta_j)$ for $1 \\leq i \\leq M$, $1 \\leq j \\leq M$."
      ]
    },
    {
      "cell_type": "code",
      "metadata": {
        "id": "GBF3xwd8teCj"
      },
      "source": [
        "def compute_DKL(lda):\r\n",
        "    distances = []\r\n",
        "    for i in range(lda.num_documents):\r\n",
        "        distances.append([entropy(lda.theta_trace[i], lda.theta_trace[j]) for j in range(lda.num_documents)])\r\n",
        "    \r\n",
        "    return np.array(distances)\r\n",
        "\r\n",
        "distances = compute_EDA(lda)"
      ],
      "execution_count": 18,
      "outputs": []
    },
    {
      "cell_type": "code",
      "metadata": {
        "colab": {
          "base_uri": "https://localhost:8080/",
          "height": 247
        },
        "id": "B7LXYKbjtksf",
        "outputId": "043ce642-e45c-4449-90f9-5ac5cc596ae2"
      },
      "source": [
        "plot_distances(lda, distances)"
      ],
      "execution_count": 19,
      "outputs": [
        {
          "output_type": "display_data",
          "data": {
            "text/html": [
              "<html>\n",
              "<head><meta charset=\"utf-8\" /></head>\n",
              "<body>\n",
              "    <div>\n",
              "            <script src=\"https://cdnjs.cloudflare.com/ajax/libs/mathjax/2.7.5/MathJax.js?config=TeX-AMS-MML_SVG\"></script><script type=\"text/javascript\">if (window.MathJax) {MathJax.Hub.Config({SVG: {font: \"STIX-Web\"}});}</script>\n",
              "                <script type=\"text/javascript\">window.PlotlyConfig = {MathJaxConfig: 'local'};</script>\n",
              "        <script src=\"https://cdn.plot.ly/plotly-latest.min.js\"></script>    \n",
              "            <div id=\"6e3f55a6-8b9e-4bc5-97ae-87dd8ba17e1f\" class=\"plotly-graph-div\" style=\"height:230px; width:100%;\"></div>\n",
              "            <script type=\"text/javascript\">\n",
              "                \n",
              "                    window.PLOTLYENV=window.PLOTLYENV || {};\n",
              "                    \n",
              "                if (document.getElementById(\"6e3f55a6-8b9e-4bc5-97ae-87dd8ba17e1f\")) {\n",
              "                    Plotly.newPlot(\n",
              "                        '6e3f55a6-8b9e-4bc5-97ae-87dd8ba17e1f',\n",
              "                        [{\"cells\": {\"align\": \"center\", \"fill\": {\"color\": [[\"rgba(230, 216, 110, 0.1)\", \"rgba(230, 216, 110, 0.1)\", \"rgba(230, 216, 110, 0.1)\", \"rgba(230, 216, 110, 0.1)\", \"rgba(230, 216, 110, 0.1)\", \"rgba(230, 216, 110, 0.1)\", \"rgba(230, 216, 110, 0.1)\", \"rgba(230, 216, 110, 0.1)\", \"rgba(230, 216, 110, 0.1)\"], [\"rgba(227, 119, 194, 0.00)\", \"rgba(227, 119, 194, 0.23)\", \"rgba(227, 119, 194, 0.31)\", \"rgba(227, 119, 194, 0.33)\", \"rgba(227, 119, 194, 0.38)\", \"rgba(227, 119, 194, 0.31)\", \"rgba(227, 119, 194, 0.51)\", \"rgba(227, 119, 194, 0.15)\", \"rgba(227, 119, 194, 0.49)\"], [\"rgba(227, 119, 194, 0.23)\", \"rgba(227, 119, 194, 0.00)\", \"rgba(227, 119, 194, 0.37)\", \"rgba(227, 119, 194, 0.30)\", \"rgba(227, 119, 194, 0.38)\", \"rgba(227, 119, 194, 0.36)\", \"rgba(227, 119, 194, 0.38)\", \"rgba(227, 119, 194, 0.39)\", \"rgba(227, 119, 194, 0.54)\"], [\"rgba(227, 119, 194, 0.31)\", \"rgba(227, 119, 194, 0.37)\", \"rgba(227, 119, 194, 0.00)\", \"rgba(227, 119, 194, 0.21)\", \"rgba(227, 119, 194, 0.20)\", \"rgba(227, 119, 194, 0.08)\", \"rgba(227, 119, 194, 0.33)\", \"rgba(227, 119, 194, 0.26)\", \"rgba(227, 119, 194, 0.28)\"], [\"rgba(127, 127, 127, 0.33)\", \"rgba(127, 127, 127, 0.30)\", \"rgba(127, 127, 127, 0.21)\", \"rgba(127, 127, 127, 0.00)\", \"rgba(127, 127, 127, 0.08)\", \"rgba(127, 127, 127, 0.13)\", \"rgba(127, 127, 127, 0.18)\", \"rgba(127, 127, 127, 0.41)\", \"rgba(127, 127, 127, 0.24)\"], [\"rgba(127, 127, 127, 0.38)\", \"rgba(127, 127, 127, 0.38)\", \"rgba(127, 127, 127, 0.20)\", \"rgba(127, 127, 127, 0.08)\", \"rgba(127, 127, 127, 0.00)\", \"rgba(127, 127, 127, 0.13)\", \"rgba(127, 127, 127, 0.14)\", \"rgba(127, 127, 127, 0.46)\", \"rgba(127, 127, 127, 0.16)\"], [\"rgba(127, 127, 127, 0.31)\", \"rgba(127, 127, 127, 0.36)\", \"rgba(127, 127, 127, 0.08)\", \"rgba(127, 127, 127, 0.13)\", \"rgba(127, 127, 127, 0.13)\", \"rgba(127, 127, 127, 0.00)\", \"rgba(127, 127, 127, 0.26)\", \"rgba(127, 127, 127, 0.33)\", \"rgba(127, 127, 127, 0.21)\"], [\"rgba(188, 189, 34, 0.51)\", \"rgba(188, 189, 34, 0.38)\", \"rgba(188, 189, 34, 0.33)\", \"rgba(188, 189, 34, 0.18)\", \"rgba(188, 189, 34, 0.14)\", \"rgba(188, 189, 34, 0.26)\", \"rgba(188, 189, 34, 0.00)\", \"rgba(188, 189, 34, 0.59)\", \"rgba(188, 189, 34, 0.22)\"], [\"rgba(188, 189, 34, 0.15)\", \"rgba(188, 189, 34, 0.39)\", \"rgba(188, 189, 34, 0.26)\", \"rgba(188, 189, 34, 0.41)\", \"rgba(188, 189, 34, 0.46)\", \"rgba(188, 189, 34, 0.33)\", \"rgba(188, 189, 34, 0.59)\", \"rgba(188, 189, 34, 0.00)\", \"rgba(188, 189, 34, 0.54)\"], [\"rgba(188, 189, 34, 0.49)\", \"rgba(188, 189, 34, 0.54)\", \"rgba(188, 189, 34, 0.28)\", \"rgba(188, 189, 34, 0.24)\", \"rgba(188, 189, 34, 0.16)\", \"rgba(188, 189, 34, 0.21)\", \"rgba(188, 189, 34, 0.22)\", \"rgba(188, 189, 34, 0.54)\", \"rgba(188, 189, 34, 0.00)\"]]}, \"font\": {\"color\": [\"black\", \"white\"], \"size\": 11}, \"values\": [[\"Most boots[...]\", \"Early boot[...]\", \"Boots are [...]\", \"The cat is[...]\", \"A small do[...]\", \"Among dome[...]\", \"Bees are f[...]\", \"A honey be[...]\", \"Honey bees[...]\"], [\"0.00\", \"0.07\", \"0.09\", \"0.09\", \"0.11\", \"0.09\", \"0.15\", \"0.04\", \"0.14\"], [\"0.07\", \"0.00\", \"0.11\", \"0.09\", \"0.11\", \"0.10\", \"0.11\", \"0.11\", \"0.16\"], [\"0.09\", \"0.11\", \"0.00\", \"0.06\", \"0.06\", \"0.02\", \"0.10\", \"0.07\", \"0.08\"], [\"0.09\", \"0.09\", \"0.06\", \"0.00\", \"0.02\", \"0.04\", \"0.05\", \"0.12\", \"0.07\"], [\"0.11\", \"0.11\", \"0.06\", \"0.02\", \"0.00\", \"0.04\", \"0.04\", \"0.13\", \"0.05\"], [\"0.09\", \"0.10\", \"0.02\", \"0.04\", \"0.04\", \"0.00\", \"0.07\", \"0.09\", \"0.06\"], [\"0.15\", \"0.11\", \"0.10\", \"0.05\", \"0.04\", \"0.07\", \"0.00\", \"0.17\", \"0.06\"], [\"0.04\", \"0.11\", \"0.07\", \"0.12\", \"0.13\", \"0.09\", \"0.17\", \"0.00\", \"0.15\"], [\"0.14\", \"0.16\", \"0.08\", \"0.07\", \"0.05\", \"0.06\", \"0.06\", \"0.15\", \"0.00\"]]}, \"columnwidth\": [100, 100], \"header\": {\"align\": \"center\", \"fill\": {\"color\": \"rgba(230, 216, 110, 0.1)\"}, \"font\": {\"color\": \"black\", \"size\": 11}, \"line\": {\"color\": \"rgba(230, 216, 110, 0.1)\"}, \"values\": [\"\", \"Most boots[...]\", \"Early boot[...]\", \"Boots are [...]\", \"The cat is[...]\", \"A small do[...]\", \"Among dome[...]\", \"Bees are f[...]\", \"A honey be[...]\", \"Honey bees[...]\"]}, \"type\": \"table\"}],\n",
              "                        {\"height\": 230, \"margin\": {\"autoexpand\": false, \"b\": 0, \"l\": 0, \"pad\": 0, \"r\": 0, \"t\": 0}, \"template\": {\"data\": {\"bar\": [{\"error_x\": {\"color\": \"#2a3f5f\"}, \"error_y\": {\"color\": \"#2a3f5f\"}, \"marker\": {\"line\": {\"color\": \"#E5ECF6\", \"width\": 0.5}}, \"type\": \"bar\"}], \"barpolar\": [{\"marker\": {\"line\": {\"color\": \"#E5ECF6\", \"width\": 0.5}}, \"type\": \"barpolar\"}], \"carpet\": [{\"aaxis\": {\"endlinecolor\": \"#2a3f5f\", \"gridcolor\": \"white\", \"linecolor\": \"white\", \"minorgridcolor\": \"white\", \"startlinecolor\": \"#2a3f5f\"}, \"baxis\": {\"endlinecolor\": \"#2a3f5f\", \"gridcolor\": \"white\", \"linecolor\": \"white\", \"minorgridcolor\": \"white\", \"startlinecolor\": \"#2a3f5f\"}, \"type\": \"carpet\"}], \"choropleth\": [{\"colorbar\": {\"outlinewidth\": 0, \"ticks\": \"\"}, \"type\": \"choropleth\"}], \"contour\": [{\"colorbar\": {\"outlinewidth\": 0, \"ticks\": \"\"}, \"colorscale\": [[0.0, \"#0d0887\"], [0.1111111111111111, \"#46039f\"], [0.2222222222222222, \"#7201a8\"], [0.3333333333333333, \"#9c179e\"], [0.4444444444444444, \"#bd3786\"], [0.5555555555555556, \"#d8576b\"], [0.6666666666666666, \"#ed7953\"], [0.7777777777777778, \"#fb9f3a\"], [0.8888888888888888, \"#fdca26\"], [1.0, \"#f0f921\"]], \"type\": \"contour\"}], \"contourcarpet\": [{\"colorbar\": {\"outlinewidth\": 0, \"ticks\": \"\"}, \"type\": \"contourcarpet\"}], \"heatmap\": [{\"colorbar\": {\"outlinewidth\": 0, \"ticks\": \"\"}, \"colorscale\": [[0.0, \"#0d0887\"], [0.1111111111111111, \"#46039f\"], [0.2222222222222222, \"#7201a8\"], [0.3333333333333333, \"#9c179e\"], [0.4444444444444444, \"#bd3786\"], [0.5555555555555556, \"#d8576b\"], [0.6666666666666666, \"#ed7953\"], [0.7777777777777778, \"#fb9f3a\"], [0.8888888888888888, \"#fdca26\"], [1.0, \"#f0f921\"]], \"type\": \"heatmap\"}], \"heatmapgl\": [{\"colorbar\": {\"outlinewidth\": 0, \"ticks\": \"\"}, \"colorscale\": [[0.0, \"#0d0887\"], [0.1111111111111111, \"#46039f\"], [0.2222222222222222, \"#7201a8\"], [0.3333333333333333, \"#9c179e\"], [0.4444444444444444, \"#bd3786\"], [0.5555555555555556, \"#d8576b\"], [0.6666666666666666, \"#ed7953\"], [0.7777777777777778, \"#fb9f3a\"], [0.8888888888888888, \"#fdca26\"], [1.0, \"#f0f921\"]], \"type\": \"heatmapgl\"}], \"histogram\": [{\"marker\": {\"colorbar\": {\"outlinewidth\": 0, \"ticks\": \"\"}}, \"type\": \"histogram\"}], \"histogram2d\": [{\"colorbar\": {\"outlinewidth\": 0, \"ticks\": \"\"}, \"colorscale\": [[0.0, \"#0d0887\"], [0.1111111111111111, \"#46039f\"], [0.2222222222222222, \"#7201a8\"], [0.3333333333333333, \"#9c179e\"], [0.4444444444444444, \"#bd3786\"], [0.5555555555555556, \"#d8576b\"], [0.6666666666666666, \"#ed7953\"], [0.7777777777777778, \"#fb9f3a\"], [0.8888888888888888, \"#fdca26\"], [1.0, \"#f0f921\"]], \"type\": \"histogram2d\"}], \"histogram2dcontour\": [{\"colorbar\": {\"outlinewidth\": 0, \"ticks\": \"\"}, \"colorscale\": [[0.0, \"#0d0887\"], [0.1111111111111111, \"#46039f\"], [0.2222222222222222, \"#7201a8\"], [0.3333333333333333, \"#9c179e\"], [0.4444444444444444, \"#bd3786\"], [0.5555555555555556, \"#d8576b\"], [0.6666666666666666, \"#ed7953\"], [0.7777777777777778, \"#fb9f3a\"], [0.8888888888888888, \"#fdca26\"], [1.0, \"#f0f921\"]], \"type\": \"histogram2dcontour\"}], \"mesh3d\": [{\"colorbar\": {\"outlinewidth\": 0, \"ticks\": \"\"}, \"type\": \"mesh3d\"}], \"parcoords\": [{\"line\": {\"colorbar\": {\"outlinewidth\": 0, \"ticks\": \"\"}}, \"type\": \"parcoords\"}], \"pie\": [{\"automargin\": true, \"type\": \"pie\"}], \"scatter\": [{\"marker\": {\"colorbar\": {\"outlinewidth\": 0, \"ticks\": \"\"}}, \"type\": \"scatter\"}], \"scatter3d\": [{\"line\": {\"colorbar\": {\"outlinewidth\": 0, \"ticks\": \"\"}}, \"marker\": {\"colorbar\": {\"outlinewidth\": 0, \"ticks\": \"\"}}, \"type\": \"scatter3d\"}], \"scattercarpet\": [{\"marker\": {\"colorbar\": {\"outlinewidth\": 0, \"ticks\": \"\"}}, \"type\": \"scattercarpet\"}], \"scattergeo\": [{\"marker\": {\"colorbar\": {\"outlinewidth\": 0, \"ticks\": \"\"}}, \"type\": \"scattergeo\"}], \"scattergl\": [{\"marker\": {\"colorbar\": {\"outlinewidth\": 0, \"ticks\": \"\"}}, \"type\": \"scattergl\"}], \"scattermapbox\": [{\"marker\": {\"colorbar\": {\"outlinewidth\": 0, \"ticks\": \"\"}}, \"type\": \"scattermapbox\"}], \"scatterpolar\": [{\"marker\": {\"colorbar\": {\"outlinewidth\": 0, \"ticks\": \"\"}}, \"type\": \"scatterpolar\"}], \"scatterpolargl\": [{\"marker\": {\"colorbar\": {\"outlinewidth\": 0, \"ticks\": \"\"}}, \"type\": \"scatterpolargl\"}], \"scatterternary\": [{\"marker\": {\"colorbar\": {\"outlinewidth\": 0, \"ticks\": \"\"}}, \"type\": \"scatterternary\"}], \"surface\": [{\"colorbar\": {\"outlinewidth\": 0, \"ticks\": \"\"}, \"colorscale\": [[0.0, \"#0d0887\"], [0.1111111111111111, \"#46039f\"], [0.2222222222222222, \"#7201a8\"], [0.3333333333333333, \"#9c179e\"], [0.4444444444444444, \"#bd3786\"], [0.5555555555555556, \"#d8576b\"], [0.6666666666666666, \"#ed7953\"], [0.7777777777777778, \"#fb9f3a\"], [0.8888888888888888, \"#fdca26\"], [1.0, \"#f0f921\"]], \"type\": \"surface\"}], \"table\": [{\"cells\": {\"fill\": {\"color\": \"#EBF0F8\"}, \"line\": {\"color\": \"white\"}}, \"header\": {\"fill\": {\"color\": \"#C8D4E3\"}, \"line\": {\"color\": \"white\"}}, \"type\": \"table\"}]}, \"layout\": {\"annotationdefaults\": {\"arrowcolor\": \"#2a3f5f\", \"arrowhead\": 0, \"arrowwidth\": 1}, \"coloraxis\": {\"colorbar\": {\"outlinewidth\": 0, \"ticks\": \"\"}}, \"colorscale\": {\"diverging\": [[0, \"#8e0152\"], [0.1, \"#c51b7d\"], [0.2, \"#de77ae\"], [0.3, \"#f1b6da\"], [0.4, \"#fde0ef\"], [0.5, \"#f7f7f7\"], [0.6, \"#e6f5d0\"], [0.7, \"#b8e186\"], [0.8, \"#7fbc41\"], [0.9, \"#4d9221\"], [1, \"#276419\"]], \"sequential\": [[0.0, \"#0d0887\"], [0.1111111111111111, \"#46039f\"], [0.2222222222222222, \"#7201a8\"], [0.3333333333333333, \"#9c179e\"], [0.4444444444444444, \"#bd3786\"], [0.5555555555555556, \"#d8576b\"], [0.6666666666666666, \"#ed7953\"], [0.7777777777777778, \"#fb9f3a\"], [0.8888888888888888, \"#fdca26\"], [1.0, \"#f0f921\"]], \"sequentialminus\": [[0.0, \"#0d0887\"], [0.1111111111111111, \"#46039f\"], [0.2222222222222222, \"#7201a8\"], [0.3333333333333333, \"#9c179e\"], [0.4444444444444444, \"#bd3786\"], [0.5555555555555556, \"#d8576b\"], [0.6666666666666666, \"#ed7953\"], [0.7777777777777778, \"#fb9f3a\"], [0.8888888888888888, \"#fdca26\"], [1.0, \"#f0f921\"]]}, \"colorway\": [\"#636efa\", \"#EF553B\", \"#00cc96\", \"#ab63fa\", \"#FFA15A\", \"#19d3f3\", \"#FF6692\", \"#B6E880\", \"#FF97FF\", \"#FECB52\"], \"font\": {\"color\": \"#2a3f5f\"}, \"geo\": {\"bgcolor\": \"white\", \"lakecolor\": \"white\", \"landcolor\": \"#E5ECF6\", \"showlakes\": true, \"showland\": true, \"subunitcolor\": \"white\"}, \"hoverlabel\": {\"align\": \"left\"}, \"hovermode\": \"closest\", \"mapbox\": {\"style\": \"light\"}, \"paper_bgcolor\": \"white\", \"plot_bgcolor\": \"#E5ECF6\", \"polar\": {\"angularaxis\": {\"gridcolor\": \"white\", \"linecolor\": \"white\", \"ticks\": \"\"}, \"bgcolor\": \"#E5ECF6\", \"radialaxis\": {\"gridcolor\": \"white\", \"linecolor\": \"white\", \"ticks\": \"\"}}, \"scene\": {\"xaxis\": {\"backgroundcolor\": \"#E5ECF6\", \"gridcolor\": \"white\", \"gridwidth\": 2, \"linecolor\": \"white\", \"showbackground\": true, \"ticks\": \"\", \"zerolinecolor\": \"white\"}, \"yaxis\": {\"backgroundcolor\": \"#E5ECF6\", \"gridcolor\": \"white\", \"gridwidth\": 2, \"linecolor\": \"white\", \"showbackground\": true, \"ticks\": \"\", \"zerolinecolor\": \"white\"}, \"zaxis\": {\"backgroundcolor\": \"#E5ECF6\", \"gridcolor\": \"white\", \"gridwidth\": 2, \"linecolor\": \"white\", \"showbackground\": true, \"ticks\": \"\", \"zerolinecolor\": \"white\"}}, \"shapedefaults\": {\"line\": {\"color\": \"#2a3f5f\"}}, \"ternary\": {\"aaxis\": {\"gridcolor\": \"white\", \"linecolor\": \"white\", \"ticks\": \"\"}, \"baxis\": {\"gridcolor\": \"white\", \"linecolor\": \"white\", \"ticks\": \"\"}, \"bgcolor\": \"#E5ECF6\", \"caxis\": {\"gridcolor\": \"white\", \"linecolor\": \"white\", \"ticks\": \"\"}}, \"title\": {\"x\": 0.05}, \"xaxis\": {\"automargin\": true, \"gridcolor\": \"white\", \"linecolor\": \"white\", \"ticks\": \"\", \"title\": {\"standoff\": 15}, \"zerolinecolor\": \"white\", \"zerolinewidth\": 2}, \"yaxis\": {\"automargin\": true, \"gridcolor\": \"white\", \"linecolor\": \"white\", \"ticks\": \"\", \"title\": {\"standoff\": 15}, \"zerolinecolor\": \"white\", \"zerolinewidth\": 2}}}},\n",
              "                        {\"responsive\": true}\n",
              "                    ).then(function(){\n",
              "                            \n",
              "var gd = document.getElementById('6e3f55a6-8b9e-4bc5-97ae-87dd8ba17e1f');\n",
              "var x = new MutationObserver(function (mutations, observer) {{\n",
              "        var display = window.getComputedStyle(gd).display;\n",
              "        if (!display || display === 'none') {{\n",
              "            console.log([gd, 'removed!']);\n",
              "            Plotly.purge(gd);\n",
              "            observer.disconnect();\n",
              "        }}\n",
              "}});\n",
              "\n",
              "// Listen for the removal of the full notebook cells\n",
              "var notebookContainer = gd.closest('#notebook-container');\n",
              "if (notebookContainer) {{\n",
              "    x.observe(notebookContainer, {childList: true});\n",
              "}}\n",
              "\n",
              "// Listen for the clearing of the current output cell\n",
              "var outputEl = gd.closest('.output');\n",
              "if (outputEl) {{\n",
              "    x.observe(outputEl, {childList: true});\n",
              "}}\n",
              "\n",
              "                        })\n",
              "                };\n",
              "                \n",
              "            </script>\n",
              "        </div>\n",
              "</body>\n",
              "</html>"
            ]
          },
          "metadata": {
            "tags": []
          }
        }
      ]
    },
    {
      "cell_type": "markdown",
      "metadata": {
        "id": "_ko_E5wLupU4"
      },
      "source": [
        "## Topic assignment for new document\r\n",
        "\r\n",
        "We want to infer the topic assignment for a new document $\\theta_{new}$ based on the known probability distributions from a previous training.\r\n",
        "\r\n",
        "We apply the following steps:\r\n",
        "\r\n",
        "<ol>\r\n",
        "    <li>Split the new document into tokens</li>\r\n",
        "    <li>For each token $i$, determine its contribution to the topic assignment:\r\n",
        "        <ul>\r\n",
        "            <li>Use the per-topic word distribution $\\varphi_k$ to determine how much token $i$ contributes to each topic $k$. </li>\r\n",
        "            <li>Add this value to the total assignment</li>\r\n",
        "        </ul>\r\n",
        "    <li>Divide by the number of tokens to normalize the assignment.</li>\r\n",
        "</ol>\r\n",
        "\r\n",
        "Therefore, we have:\r\n",
        "$\\theta_{new} = \\frac{1}{N} \\sum_{i=1}^{N} \\varphi_{index(token_i)}$."
      ]
    },
    {
      "cell_type": "code",
      "metadata": {
        "id": "BHQUkp6i02EQ"
      },
      "source": [
        "def assign_topic(tokenized_doc, lda):\r\n",
        "    topic_assignment = []\r\n",
        "    for token in tokenized_doc:\r\n",
        "        index = lda.text_processor.word2index[token]\r\n",
        "        topic_assignment.append(lda.phi_trace.T[index])\r\n",
        "    \r\n",
        "    # Add all values\r\n",
        "    topic_assignment = np.array(topic_assignment).sum(axis=0)\r\n",
        "    \r\n",
        "    # Normalize\r\n",
        "    topic_assignment /= topic_assignment.sum()\r\n",
        "\r\n",
        "    return topic_assignment"
      ],
      "execution_count": 20,
      "outputs": []
    },
    {
      "cell_type": "markdown",
      "metadata": {
        "id": "MV6AWhn63LiO"
      },
      "source": [
        "### Pretraining"
      ]
    },
    {
      "cell_type": "code",
      "metadata": {
        "colab": {
          "base_uri": "https://localhost:8080/",
          "height": 334
        },
        "id": "R88TCplN28pR",
        "outputId": "5054e002-ff53-462f-8f52-f77a109ef215"
      },
      "source": [
        "lda = LDA(num_topics=2, corpus_path='/content/corpuses/sanity_check/')\r\n",
        "lda.fit(10000, 5000)\r\n",
        "lda.show_documents()\r\n",
        "lda.show_words()"
      ],
      "execution_count": 22,
      "outputs": [
        {
          "output_type": "stream",
          "text": [
            " [-----------------100%-----------------] 10000 of 10000 complete in 28.9 sec"
          ],
          "name": "stdout"
        },
        {
          "output_type": "display_data",
          "data": {
            "text/html": [
              "<html>\n",
              "<head><meta charset=\"utf-8\" /></head>\n",
              "<body>\n",
              "    <div>\n",
              "            <script src=\"https://cdnjs.cloudflare.com/ajax/libs/mathjax/2.7.5/MathJax.js?config=TeX-AMS-MML_SVG\"></script><script type=\"text/javascript\">if (window.MathJax) {MathJax.Hub.Config({SVG: {font: \"STIX-Web\"}});}</script>\n",
              "                <script type=\"text/javascript\">window.PlotlyConfig = {MathJaxConfig: 'local'};</script>\n",
              "        <script src=\"https://cdn.plot.ly/plotly-latest.min.js\"></script>    \n",
              "            <div id=\"f22ca996-7149-4bae-977f-db2b83219e2c\" class=\"plotly-graph-div\" style=\"height:170px; width:100%;\"></div>\n",
              "            <script type=\"text/javascript\">\n",
              "                \n",
              "                    window.PLOTLYENV=window.PLOTLYENV || {};\n",
              "                    \n",
              "                if (document.getElementById(\"f22ca996-7149-4bae-977f-db2b83219e2c\")) {\n",
              "                    Plotly.newPlot(\n",
              "                        'f22ca996-7149-4bae-977f-db2b83219e2c',\n",
              "                        [{\"cells\": {\"align\": \"center\", \"fill\": {\"color\": [[\"rgba(230, 216, 110, 0.1)\", \"rgba(230, 216, 110, 0.1)\", \"rgba(230, 216, 110, 0.1)\", \"rgba(230, 216, 110, 0.1)\", \"rgba(230, 216, 110, 0.1)\", \"rgba(230, 216, 110, 0.1)\"], [\"rgba(31, 119, 180, 0.14)\", \"rgba(31, 119, 180, 0.13)\", \"rgba(31, 119, 180, 0.09)\", \"rgba(31, 119, 180, 0.64)\", \"rgba(31, 119, 180, 0.70)\", \"rgba(31, 119, 180, 0.75)\"], [\"rgba(255, 127, 14, 0.86)\", \"rgba(255, 127, 14, 0.87)\", \"rgba(255, 127, 14, 0.91)\", \"rgba(255, 127, 14, 0.36)\", \"rgba(255, 127, 14, 0.30)\", \"rgba(255, 127, 14, 0.25)\"]]}, \"font\": {\"color\": [\"black\", \"white\"], \"size\": 11}, \"values\": [[\"aaa bbb aaa\", \"bbb aaa bbb\", \"aaa bbb bbb aaa\", \"uuu vvv\", \"uuu vvv vvv\", \"uuu vvv vvv uuu\"], [\"0.14\", \"0.13\", \"0.09\", \"0.64\", \"0.70\", \"0.75\"], [\"0.86\", \"0.87\", \"0.91\", \"0.36\", \"0.30\", \"0.25\"]]}, \"columnwidth\": [300, 100], \"header\": {\"align\": \"center\", \"fill\": {\"color\": \"white\"}, \"font\": {\"color\": \"black\", \"size\": 12}, \"height\": 30, \"line\": {\"color\": \"white\"}, \"values\": [\"Document\", \"Topic #1\", \"Topic #2\"]}, \"type\": \"table\"}],\n",
              "                        {\"height\": 170, \"margin\": {\"autoexpand\": false, \"b\": 0, \"l\": 0, \"pad\": 0, \"r\": 0, \"t\": 0}, \"template\": {\"data\": {\"bar\": [{\"error_x\": {\"color\": \"#2a3f5f\"}, \"error_y\": {\"color\": \"#2a3f5f\"}, \"marker\": {\"line\": {\"color\": \"#E5ECF6\", \"width\": 0.5}}, \"type\": \"bar\"}], \"barpolar\": [{\"marker\": {\"line\": {\"color\": \"#E5ECF6\", \"width\": 0.5}}, \"type\": \"barpolar\"}], \"carpet\": [{\"aaxis\": {\"endlinecolor\": \"#2a3f5f\", \"gridcolor\": \"white\", \"linecolor\": \"white\", \"minorgridcolor\": \"white\", \"startlinecolor\": \"#2a3f5f\"}, \"baxis\": {\"endlinecolor\": \"#2a3f5f\", \"gridcolor\": \"white\", \"linecolor\": \"white\", \"minorgridcolor\": \"white\", \"startlinecolor\": \"#2a3f5f\"}, \"type\": \"carpet\"}], \"choropleth\": [{\"colorbar\": {\"outlinewidth\": 0, \"ticks\": \"\"}, \"type\": \"choropleth\"}], \"contour\": [{\"colorbar\": {\"outlinewidth\": 0, \"ticks\": \"\"}, \"colorscale\": [[0.0, \"#0d0887\"], [0.1111111111111111, \"#46039f\"], [0.2222222222222222, \"#7201a8\"], [0.3333333333333333, \"#9c179e\"], [0.4444444444444444, \"#bd3786\"], [0.5555555555555556, \"#d8576b\"], [0.6666666666666666, \"#ed7953\"], [0.7777777777777778, \"#fb9f3a\"], [0.8888888888888888, \"#fdca26\"], [1.0, \"#f0f921\"]], \"type\": \"contour\"}], \"contourcarpet\": [{\"colorbar\": {\"outlinewidth\": 0, \"ticks\": \"\"}, \"type\": \"contourcarpet\"}], \"heatmap\": [{\"colorbar\": {\"outlinewidth\": 0, \"ticks\": \"\"}, \"colorscale\": [[0.0, \"#0d0887\"], [0.1111111111111111, \"#46039f\"], [0.2222222222222222, \"#7201a8\"], [0.3333333333333333, \"#9c179e\"], [0.4444444444444444, \"#bd3786\"], [0.5555555555555556, \"#d8576b\"], [0.6666666666666666, \"#ed7953\"], [0.7777777777777778, \"#fb9f3a\"], [0.8888888888888888, \"#fdca26\"], [1.0, \"#f0f921\"]], \"type\": \"heatmap\"}], \"heatmapgl\": [{\"colorbar\": {\"outlinewidth\": 0, \"ticks\": \"\"}, \"colorscale\": [[0.0, \"#0d0887\"], [0.1111111111111111, \"#46039f\"], [0.2222222222222222, \"#7201a8\"], [0.3333333333333333, \"#9c179e\"], [0.4444444444444444, \"#bd3786\"], [0.5555555555555556, \"#d8576b\"], [0.6666666666666666, \"#ed7953\"], [0.7777777777777778, \"#fb9f3a\"], [0.8888888888888888, \"#fdca26\"], [1.0, \"#f0f921\"]], \"type\": \"heatmapgl\"}], \"histogram\": [{\"marker\": {\"colorbar\": {\"outlinewidth\": 0, \"ticks\": \"\"}}, \"type\": \"histogram\"}], \"histogram2d\": [{\"colorbar\": {\"outlinewidth\": 0, \"ticks\": \"\"}, \"colorscale\": [[0.0, \"#0d0887\"], [0.1111111111111111, \"#46039f\"], [0.2222222222222222, \"#7201a8\"], [0.3333333333333333, \"#9c179e\"], [0.4444444444444444, \"#bd3786\"], [0.5555555555555556, \"#d8576b\"], [0.6666666666666666, \"#ed7953\"], [0.7777777777777778, \"#fb9f3a\"], [0.8888888888888888, \"#fdca26\"], [1.0, \"#f0f921\"]], \"type\": \"histogram2d\"}], \"histogram2dcontour\": [{\"colorbar\": {\"outlinewidth\": 0, \"ticks\": \"\"}, \"colorscale\": [[0.0, \"#0d0887\"], [0.1111111111111111, \"#46039f\"], [0.2222222222222222, \"#7201a8\"], [0.3333333333333333, \"#9c179e\"], [0.4444444444444444, \"#bd3786\"], [0.5555555555555556, \"#d8576b\"], [0.6666666666666666, \"#ed7953\"], [0.7777777777777778, \"#fb9f3a\"], [0.8888888888888888, \"#fdca26\"], [1.0, \"#f0f921\"]], \"type\": \"histogram2dcontour\"}], \"mesh3d\": [{\"colorbar\": {\"outlinewidth\": 0, \"ticks\": \"\"}, \"type\": \"mesh3d\"}], \"parcoords\": [{\"line\": {\"colorbar\": {\"outlinewidth\": 0, \"ticks\": \"\"}}, \"type\": \"parcoords\"}], \"pie\": [{\"automargin\": true, \"type\": \"pie\"}], \"scatter\": [{\"marker\": {\"colorbar\": {\"outlinewidth\": 0, \"ticks\": \"\"}}, \"type\": \"scatter\"}], \"scatter3d\": [{\"line\": {\"colorbar\": {\"outlinewidth\": 0, \"ticks\": \"\"}}, \"marker\": {\"colorbar\": {\"outlinewidth\": 0, \"ticks\": \"\"}}, \"type\": \"scatter3d\"}], \"scattercarpet\": [{\"marker\": {\"colorbar\": {\"outlinewidth\": 0, \"ticks\": \"\"}}, \"type\": \"scattercarpet\"}], \"scattergeo\": [{\"marker\": {\"colorbar\": {\"outlinewidth\": 0, \"ticks\": \"\"}}, \"type\": \"scattergeo\"}], \"scattergl\": [{\"marker\": {\"colorbar\": {\"outlinewidth\": 0, \"ticks\": \"\"}}, \"type\": \"scattergl\"}], \"scattermapbox\": [{\"marker\": {\"colorbar\": {\"outlinewidth\": 0, \"ticks\": \"\"}}, \"type\": \"scattermapbox\"}], \"scatterpolar\": [{\"marker\": {\"colorbar\": {\"outlinewidth\": 0, \"ticks\": \"\"}}, \"type\": \"scatterpolar\"}], \"scatterpolargl\": [{\"marker\": {\"colorbar\": {\"outlinewidth\": 0, \"ticks\": \"\"}}, \"type\": \"scatterpolargl\"}], \"scatterternary\": [{\"marker\": {\"colorbar\": {\"outlinewidth\": 0, \"ticks\": \"\"}}, \"type\": \"scatterternary\"}], \"surface\": [{\"colorbar\": {\"outlinewidth\": 0, \"ticks\": \"\"}, \"colorscale\": [[0.0, \"#0d0887\"], [0.1111111111111111, \"#46039f\"], [0.2222222222222222, \"#7201a8\"], [0.3333333333333333, \"#9c179e\"], [0.4444444444444444, \"#bd3786\"], [0.5555555555555556, \"#d8576b\"], [0.6666666666666666, \"#ed7953\"], [0.7777777777777778, \"#fb9f3a\"], [0.8888888888888888, \"#fdca26\"], [1.0, \"#f0f921\"]], \"type\": \"surface\"}], \"table\": [{\"cells\": {\"fill\": {\"color\": \"#EBF0F8\"}, \"line\": {\"color\": \"white\"}}, \"header\": {\"fill\": {\"color\": \"#C8D4E3\"}, \"line\": {\"color\": \"white\"}}, \"type\": \"table\"}]}, \"layout\": {\"annotationdefaults\": {\"arrowcolor\": \"#2a3f5f\", \"arrowhead\": 0, \"arrowwidth\": 1}, \"coloraxis\": {\"colorbar\": {\"outlinewidth\": 0, \"ticks\": \"\"}}, \"colorscale\": {\"diverging\": [[0, \"#8e0152\"], [0.1, \"#c51b7d\"], [0.2, \"#de77ae\"], [0.3, \"#f1b6da\"], [0.4, \"#fde0ef\"], [0.5, \"#f7f7f7\"], [0.6, \"#e6f5d0\"], [0.7, \"#b8e186\"], [0.8, \"#7fbc41\"], [0.9, \"#4d9221\"], [1, \"#276419\"]], \"sequential\": [[0.0, \"#0d0887\"], [0.1111111111111111, \"#46039f\"], [0.2222222222222222, \"#7201a8\"], [0.3333333333333333, \"#9c179e\"], [0.4444444444444444, \"#bd3786\"], [0.5555555555555556, \"#d8576b\"], [0.6666666666666666, \"#ed7953\"], [0.7777777777777778, \"#fb9f3a\"], [0.8888888888888888, \"#fdca26\"], [1.0, \"#f0f921\"]], \"sequentialminus\": [[0.0, \"#0d0887\"], [0.1111111111111111, \"#46039f\"], [0.2222222222222222, \"#7201a8\"], [0.3333333333333333, \"#9c179e\"], [0.4444444444444444, \"#bd3786\"], [0.5555555555555556, \"#d8576b\"], [0.6666666666666666, \"#ed7953\"], [0.7777777777777778, \"#fb9f3a\"], [0.8888888888888888, \"#fdca26\"], [1.0, \"#f0f921\"]]}, \"colorway\": [\"#636efa\", \"#EF553B\", \"#00cc96\", \"#ab63fa\", \"#FFA15A\", \"#19d3f3\", \"#FF6692\", \"#B6E880\", \"#FF97FF\", \"#FECB52\"], \"font\": {\"color\": \"#2a3f5f\"}, \"geo\": {\"bgcolor\": \"white\", \"lakecolor\": \"white\", \"landcolor\": \"#E5ECF6\", \"showlakes\": true, \"showland\": true, \"subunitcolor\": \"white\"}, \"hoverlabel\": {\"align\": \"left\"}, \"hovermode\": \"closest\", \"mapbox\": {\"style\": \"light\"}, \"paper_bgcolor\": \"white\", \"plot_bgcolor\": \"#E5ECF6\", \"polar\": {\"angularaxis\": {\"gridcolor\": \"white\", \"linecolor\": \"white\", \"ticks\": \"\"}, \"bgcolor\": \"#E5ECF6\", \"radialaxis\": {\"gridcolor\": \"white\", \"linecolor\": \"white\", \"ticks\": \"\"}}, \"scene\": {\"xaxis\": {\"backgroundcolor\": \"#E5ECF6\", \"gridcolor\": \"white\", \"gridwidth\": 2, \"linecolor\": \"white\", \"showbackground\": true, \"ticks\": \"\", \"zerolinecolor\": \"white\"}, \"yaxis\": {\"backgroundcolor\": \"#E5ECF6\", \"gridcolor\": \"white\", \"gridwidth\": 2, \"linecolor\": \"white\", \"showbackground\": true, \"ticks\": \"\", \"zerolinecolor\": \"white\"}, \"zaxis\": {\"backgroundcolor\": \"#E5ECF6\", \"gridcolor\": \"white\", \"gridwidth\": 2, \"linecolor\": \"white\", \"showbackground\": true, \"ticks\": \"\", \"zerolinecolor\": \"white\"}}, \"shapedefaults\": {\"line\": {\"color\": \"#2a3f5f\"}}, \"ternary\": {\"aaxis\": {\"gridcolor\": \"white\", \"linecolor\": \"white\", \"ticks\": \"\"}, \"baxis\": {\"gridcolor\": \"white\", \"linecolor\": \"white\", \"ticks\": \"\"}, \"bgcolor\": \"#E5ECF6\", \"caxis\": {\"gridcolor\": \"white\", \"linecolor\": \"white\", \"ticks\": \"\"}}, \"title\": {\"x\": 0.05}, \"xaxis\": {\"automargin\": true, \"gridcolor\": \"white\", \"linecolor\": \"white\", \"ticks\": \"\", \"title\": {\"standoff\": 15}, \"zerolinecolor\": \"white\", \"zerolinewidth\": 2}, \"yaxis\": {\"automargin\": true, \"gridcolor\": \"white\", \"linecolor\": \"white\", \"ticks\": \"\", \"title\": {\"standoff\": 15}, \"zerolinecolor\": \"white\", \"zerolinewidth\": 2}}}},\n",
              "                        {\"responsive\": true}\n",
              "                    ).then(function(){\n",
              "                            \n",
              "var gd = document.getElementById('f22ca996-7149-4bae-977f-db2b83219e2c');\n",
              "var x = new MutationObserver(function (mutations, observer) {{\n",
              "        var display = window.getComputedStyle(gd).display;\n",
              "        if (!display || display === 'none') {{\n",
              "            console.log([gd, 'removed!']);\n",
              "            Plotly.purge(gd);\n",
              "            observer.disconnect();\n",
              "        }}\n",
              "}});\n",
              "\n",
              "// Listen for the removal of the full notebook cells\n",
              "var notebookContainer = gd.closest('#notebook-container');\n",
              "if (notebookContainer) {{\n",
              "    x.observe(notebookContainer, {childList: true});\n",
              "}}\n",
              "\n",
              "// Listen for the clearing of the current output cell\n",
              "var outputEl = gd.closest('.output');\n",
              "if (outputEl) {{\n",
              "    x.observe(outputEl, {childList: true});\n",
              "}}\n",
              "\n",
              "                        })\n",
              "                };\n",
              "                \n",
              "            </script>\n",
              "        </div>\n",
              "</body>\n",
              "</html>"
            ]
          },
          "metadata": {
            "tags": []
          }
        },
        {
          "output_type": "display_data",
          "data": {
            "text/html": [
              "<html>\n",
              "<head><meta charset=\"utf-8\" /></head>\n",
              "<body>\n",
              "    <div>\n",
              "            <script src=\"https://cdnjs.cloudflare.com/ajax/libs/mathjax/2.7.5/MathJax.js?config=TeX-AMS-MML_SVG\"></script><script type=\"text/javascript\">if (window.MathJax) {MathJax.Hub.Config({SVG: {font: \"STIX-Web\"}});}</script>\n",
              "                <script type=\"text/javascript\">window.PlotlyConfig = {MathJaxConfig: 'local'};</script>\n",
              "        <script src=\"https://cdn.plot.ly/plotly-latest.min.js\"></script>    \n",
              "            <div id=\"0347d9b6-acf7-43ab-bce3-9cc492b33d26\" class=\"plotly-graph-div\" style=\"height:130px; width:100%;\"></div>\n",
              "            <script type=\"text/javascript\">\n",
              "                \n",
              "                    window.PLOTLYENV=window.PLOTLYENV || {};\n",
              "                    \n",
              "                if (document.getElementById(\"0347d9b6-acf7-43ab-bce3-9cc492b33d26\")) {\n",
              "                    Plotly.newPlot(\n",
              "                        '0347d9b6-acf7-43ab-bce3-9cc492b33d26',\n",
              "                        [{\"cells\": {\"align\": \"center\", \"fill\": {\"color\": [[\"rgba(230, 216, 110, 0.1)\", \"rgba(230, 216, 110, 0.1)\", \"rgba(230, 216, 110, 0.1)\", \"rgba(230, 216, 110, 0.1)\"], [\"rgba(31, 119, 180, 0.05)\", \"rgba(31, 119, 180, 0.15)\", \"rgba(31, 119, 180, 0.62)\", \"rgba(31, 119, 180, 0.69)\"], [\"rgba(255, 127, 14, 0.61)\", \"rgba(255, 127, 14, 0.59)\", \"rgba(255, 127, 14, 0.14)\", \"rgba(255, 127, 14, 0.16)\"]]}, \"font\": {\"color\": [\"black\", \"white\"], \"size\": 11}, \"values\": [[\"aaa\", \"bbb\", \"uuu\", \"vvv\"], [\"0.04\", \"0.10\", \"0.41\", \"0.46\"], [\"0.41\", \"0.39\", \"0.09\", \"0.11\"]]}, \"columnwidth\": [300, 100], \"header\": {\"align\": \"center\", \"fill\": {\"color\": \"white\"}, \"font\": {\"color\": \"black\", \"size\": 12}, \"height\": 30, \"line\": {\"color\": \"white\"}, \"values\": [\"Word\", \"Topic #1\", \"Topic #2\"]}, \"type\": \"table\"}],\n",
              "                        {\"height\": 130, \"margin\": {\"autoexpand\": false, \"b\": 0, \"l\": 0, \"pad\": 0, \"r\": 0, \"t\": 0}, \"template\": {\"data\": {\"bar\": [{\"error_x\": {\"color\": \"#2a3f5f\"}, \"error_y\": {\"color\": \"#2a3f5f\"}, \"marker\": {\"line\": {\"color\": \"#E5ECF6\", \"width\": 0.5}}, \"type\": \"bar\"}], \"barpolar\": [{\"marker\": {\"line\": {\"color\": \"#E5ECF6\", \"width\": 0.5}}, \"type\": \"barpolar\"}], \"carpet\": [{\"aaxis\": {\"endlinecolor\": \"#2a3f5f\", \"gridcolor\": \"white\", \"linecolor\": \"white\", \"minorgridcolor\": \"white\", \"startlinecolor\": \"#2a3f5f\"}, \"baxis\": {\"endlinecolor\": \"#2a3f5f\", \"gridcolor\": \"white\", \"linecolor\": \"white\", \"minorgridcolor\": \"white\", \"startlinecolor\": \"#2a3f5f\"}, \"type\": \"carpet\"}], \"choropleth\": [{\"colorbar\": {\"outlinewidth\": 0, \"ticks\": \"\"}, \"type\": \"choropleth\"}], \"contour\": [{\"colorbar\": {\"outlinewidth\": 0, \"ticks\": \"\"}, \"colorscale\": [[0.0, \"#0d0887\"], [0.1111111111111111, \"#46039f\"], [0.2222222222222222, \"#7201a8\"], [0.3333333333333333, \"#9c179e\"], [0.4444444444444444, \"#bd3786\"], [0.5555555555555556, \"#d8576b\"], [0.6666666666666666, \"#ed7953\"], [0.7777777777777778, \"#fb9f3a\"], [0.8888888888888888, \"#fdca26\"], [1.0, \"#f0f921\"]], \"type\": \"contour\"}], \"contourcarpet\": [{\"colorbar\": {\"outlinewidth\": 0, \"ticks\": \"\"}, \"type\": \"contourcarpet\"}], \"heatmap\": [{\"colorbar\": {\"outlinewidth\": 0, \"ticks\": \"\"}, \"colorscale\": [[0.0, \"#0d0887\"], [0.1111111111111111, \"#46039f\"], [0.2222222222222222, \"#7201a8\"], [0.3333333333333333, \"#9c179e\"], [0.4444444444444444, \"#bd3786\"], [0.5555555555555556, \"#d8576b\"], [0.6666666666666666, \"#ed7953\"], [0.7777777777777778, \"#fb9f3a\"], [0.8888888888888888, \"#fdca26\"], [1.0, \"#f0f921\"]], \"type\": \"heatmap\"}], \"heatmapgl\": [{\"colorbar\": {\"outlinewidth\": 0, \"ticks\": \"\"}, \"colorscale\": [[0.0, \"#0d0887\"], [0.1111111111111111, \"#46039f\"], [0.2222222222222222, \"#7201a8\"], [0.3333333333333333, \"#9c179e\"], [0.4444444444444444, \"#bd3786\"], [0.5555555555555556, \"#d8576b\"], [0.6666666666666666, \"#ed7953\"], [0.7777777777777778, \"#fb9f3a\"], [0.8888888888888888, \"#fdca26\"], [1.0, \"#f0f921\"]], \"type\": \"heatmapgl\"}], \"histogram\": [{\"marker\": {\"colorbar\": {\"outlinewidth\": 0, \"ticks\": \"\"}}, \"type\": \"histogram\"}], \"histogram2d\": [{\"colorbar\": {\"outlinewidth\": 0, \"ticks\": \"\"}, \"colorscale\": [[0.0, \"#0d0887\"], [0.1111111111111111, \"#46039f\"], [0.2222222222222222, \"#7201a8\"], [0.3333333333333333, \"#9c179e\"], [0.4444444444444444, \"#bd3786\"], [0.5555555555555556, \"#d8576b\"], [0.6666666666666666, \"#ed7953\"], [0.7777777777777778, \"#fb9f3a\"], [0.8888888888888888, \"#fdca26\"], [1.0, \"#f0f921\"]], \"type\": \"histogram2d\"}], \"histogram2dcontour\": [{\"colorbar\": {\"outlinewidth\": 0, \"ticks\": \"\"}, \"colorscale\": [[0.0, \"#0d0887\"], [0.1111111111111111, \"#46039f\"], [0.2222222222222222, \"#7201a8\"], [0.3333333333333333, \"#9c179e\"], [0.4444444444444444, \"#bd3786\"], [0.5555555555555556, \"#d8576b\"], [0.6666666666666666, \"#ed7953\"], [0.7777777777777778, \"#fb9f3a\"], [0.8888888888888888, \"#fdca26\"], [1.0, \"#f0f921\"]], \"type\": \"histogram2dcontour\"}], \"mesh3d\": [{\"colorbar\": {\"outlinewidth\": 0, \"ticks\": \"\"}, \"type\": \"mesh3d\"}], \"parcoords\": [{\"line\": {\"colorbar\": {\"outlinewidth\": 0, \"ticks\": \"\"}}, \"type\": \"parcoords\"}], \"pie\": [{\"automargin\": true, \"type\": \"pie\"}], \"scatter\": [{\"marker\": {\"colorbar\": {\"outlinewidth\": 0, \"ticks\": \"\"}}, \"type\": \"scatter\"}], \"scatter3d\": [{\"line\": {\"colorbar\": {\"outlinewidth\": 0, \"ticks\": \"\"}}, \"marker\": {\"colorbar\": {\"outlinewidth\": 0, \"ticks\": \"\"}}, \"type\": \"scatter3d\"}], \"scattercarpet\": [{\"marker\": {\"colorbar\": {\"outlinewidth\": 0, \"ticks\": \"\"}}, \"type\": \"scattercarpet\"}], \"scattergeo\": [{\"marker\": {\"colorbar\": {\"outlinewidth\": 0, \"ticks\": \"\"}}, \"type\": \"scattergeo\"}], \"scattergl\": [{\"marker\": {\"colorbar\": {\"outlinewidth\": 0, \"ticks\": \"\"}}, \"type\": \"scattergl\"}], \"scattermapbox\": [{\"marker\": {\"colorbar\": {\"outlinewidth\": 0, \"ticks\": \"\"}}, \"type\": \"scattermapbox\"}], \"scatterpolar\": [{\"marker\": {\"colorbar\": {\"outlinewidth\": 0, \"ticks\": \"\"}}, \"type\": \"scatterpolar\"}], \"scatterpolargl\": [{\"marker\": {\"colorbar\": {\"outlinewidth\": 0, \"ticks\": \"\"}}, \"type\": \"scatterpolargl\"}], \"scatterternary\": [{\"marker\": {\"colorbar\": {\"outlinewidth\": 0, \"ticks\": \"\"}}, \"type\": \"scatterternary\"}], \"surface\": [{\"colorbar\": {\"outlinewidth\": 0, \"ticks\": \"\"}, \"colorscale\": [[0.0, \"#0d0887\"], [0.1111111111111111, \"#46039f\"], [0.2222222222222222, \"#7201a8\"], [0.3333333333333333, \"#9c179e\"], [0.4444444444444444, \"#bd3786\"], [0.5555555555555556, \"#d8576b\"], [0.6666666666666666, \"#ed7953\"], [0.7777777777777778, \"#fb9f3a\"], [0.8888888888888888, \"#fdca26\"], [1.0, \"#f0f921\"]], \"type\": \"surface\"}], \"table\": [{\"cells\": {\"fill\": {\"color\": \"#EBF0F8\"}, \"line\": {\"color\": \"white\"}}, \"header\": {\"fill\": {\"color\": \"#C8D4E3\"}, \"line\": {\"color\": \"white\"}}, \"type\": \"table\"}]}, \"layout\": {\"annotationdefaults\": {\"arrowcolor\": \"#2a3f5f\", \"arrowhead\": 0, \"arrowwidth\": 1}, \"coloraxis\": {\"colorbar\": {\"outlinewidth\": 0, \"ticks\": \"\"}}, \"colorscale\": {\"diverging\": [[0, \"#8e0152\"], [0.1, \"#c51b7d\"], [0.2, \"#de77ae\"], [0.3, \"#f1b6da\"], [0.4, \"#fde0ef\"], [0.5, \"#f7f7f7\"], [0.6, \"#e6f5d0\"], [0.7, \"#b8e186\"], [0.8, \"#7fbc41\"], [0.9, \"#4d9221\"], [1, \"#276419\"]], \"sequential\": [[0.0, \"#0d0887\"], [0.1111111111111111, \"#46039f\"], [0.2222222222222222, \"#7201a8\"], [0.3333333333333333, \"#9c179e\"], [0.4444444444444444, \"#bd3786\"], [0.5555555555555556, \"#d8576b\"], [0.6666666666666666, \"#ed7953\"], [0.7777777777777778, \"#fb9f3a\"], [0.8888888888888888, \"#fdca26\"], [1.0, \"#f0f921\"]], \"sequentialminus\": [[0.0, \"#0d0887\"], [0.1111111111111111, \"#46039f\"], [0.2222222222222222, \"#7201a8\"], [0.3333333333333333, \"#9c179e\"], [0.4444444444444444, \"#bd3786\"], [0.5555555555555556, \"#d8576b\"], [0.6666666666666666, \"#ed7953\"], [0.7777777777777778, \"#fb9f3a\"], [0.8888888888888888, \"#fdca26\"], [1.0, \"#f0f921\"]]}, \"colorway\": [\"#636efa\", \"#EF553B\", \"#00cc96\", \"#ab63fa\", \"#FFA15A\", \"#19d3f3\", \"#FF6692\", \"#B6E880\", \"#FF97FF\", \"#FECB52\"], \"font\": {\"color\": \"#2a3f5f\"}, \"geo\": {\"bgcolor\": \"white\", \"lakecolor\": \"white\", \"landcolor\": \"#E5ECF6\", \"showlakes\": true, \"showland\": true, \"subunitcolor\": \"white\"}, \"hoverlabel\": {\"align\": \"left\"}, \"hovermode\": \"closest\", \"mapbox\": {\"style\": \"light\"}, \"paper_bgcolor\": \"white\", \"plot_bgcolor\": \"#E5ECF6\", \"polar\": {\"angularaxis\": {\"gridcolor\": \"white\", \"linecolor\": \"white\", \"ticks\": \"\"}, \"bgcolor\": \"#E5ECF6\", \"radialaxis\": {\"gridcolor\": \"white\", \"linecolor\": \"white\", \"ticks\": \"\"}}, \"scene\": {\"xaxis\": {\"backgroundcolor\": \"#E5ECF6\", \"gridcolor\": \"white\", \"gridwidth\": 2, \"linecolor\": \"white\", \"showbackground\": true, \"ticks\": \"\", \"zerolinecolor\": \"white\"}, \"yaxis\": {\"backgroundcolor\": \"#E5ECF6\", \"gridcolor\": \"white\", \"gridwidth\": 2, \"linecolor\": \"white\", \"showbackground\": true, \"ticks\": \"\", \"zerolinecolor\": \"white\"}, \"zaxis\": {\"backgroundcolor\": \"#E5ECF6\", \"gridcolor\": \"white\", \"gridwidth\": 2, \"linecolor\": \"white\", \"showbackground\": true, \"ticks\": \"\", \"zerolinecolor\": \"white\"}}, \"shapedefaults\": {\"line\": {\"color\": \"#2a3f5f\"}}, \"ternary\": {\"aaxis\": {\"gridcolor\": \"white\", \"linecolor\": \"white\", \"ticks\": \"\"}, \"baxis\": {\"gridcolor\": \"white\", \"linecolor\": \"white\", \"ticks\": \"\"}, \"bgcolor\": \"#E5ECF6\", \"caxis\": {\"gridcolor\": \"white\", \"linecolor\": \"white\", \"ticks\": \"\"}}, \"title\": {\"x\": 0.05}, \"xaxis\": {\"automargin\": true, \"gridcolor\": \"white\", \"linecolor\": \"white\", \"ticks\": \"\", \"title\": {\"standoff\": 15}, \"zerolinecolor\": \"white\", \"zerolinewidth\": 2}, \"yaxis\": {\"automargin\": true, \"gridcolor\": \"white\", \"linecolor\": \"white\", \"ticks\": \"\", \"title\": {\"standoff\": 15}, \"zerolinecolor\": \"white\", \"zerolinewidth\": 2}}}},\n",
              "                        {\"responsive\": true}\n",
              "                    ).then(function(){\n",
              "                            \n",
              "var gd = document.getElementById('0347d9b6-acf7-43ab-bce3-9cc492b33d26');\n",
              "var x = new MutationObserver(function (mutations, observer) {{\n",
              "        var display = window.getComputedStyle(gd).display;\n",
              "        if (!display || display === 'none') {{\n",
              "            console.log([gd, 'removed!']);\n",
              "            Plotly.purge(gd);\n",
              "            observer.disconnect();\n",
              "        }}\n",
              "}});\n",
              "\n",
              "// Listen for the removal of the full notebook cells\n",
              "var notebookContainer = gd.closest('#notebook-container');\n",
              "if (notebookContainer) {{\n",
              "    x.observe(notebookContainer, {childList: true});\n",
              "}}\n",
              "\n",
              "// Listen for the clearing of the current output cell\n",
              "var outputEl = gd.closest('.output');\n",
              "if (outputEl) {{\n",
              "    x.observe(outputEl, {childList: true});\n",
              "}}\n",
              "\n",
              "                        })\n",
              "                };\n",
              "                \n",
              "            </script>\n",
              "        </div>\n",
              "</body>\n",
              "</html>"
            ]
          },
          "metadata": {
            "tags": []
          }
        }
      ]
    },
    {
      "cell_type": "markdown",
      "metadata": {
        "id": "X8I3Pz523Q-V"
      },
      "source": [
        "### Inference"
      ]
    },
    {
      "cell_type": "code",
      "metadata": {
        "colab": {
          "base_uri": "https://localhost:8080/",
          "height": 127
        },
        "id": "qdaWyluS3TLN",
        "outputId": "53982094-31eb-4bbd-812a-0d7ce24086a3"
      },
      "source": [
        "# Declare new documents for topic assignment\r\n",
        "docs = ['aaa bbb aaa aaa aaa bbb',\r\n",
        "        'vvv uuu vvv uuu uuu vvv',\r\n",
        "        'aaa vvv uuu bbb']\r\n",
        "\r\n",
        "# Inference\r\n",
        "theta_new = []\r\n",
        "for doc in docs:\r\n",
        "    theta_new.append(assign_topic(doc.split(' '), lda))\r\n",
        "\r\n",
        "# Overwrite in existing lda object, very hacky :(\r\n",
        "lda.num_documents = len(docs)\r\n",
        "lda.theta_trace = np.array(theta_new)\r\n",
        "class Doc(object):\r\n",
        "    pass\r\n",
        "extended_docs = []\r\n",
        "for i in range(len(docs)):\r\n",
        "    doc = Doc()\r\n",
        "    doc.text = docs[i]\r\n",
        "    extended_docs.append(doc)\r\n",
        "lda.text_processor.docs = extended_docs\r\n",
        "\r\n",
        "# Show results for new documents\r\n",
        "lda.show_documents()"
      ],
      "execution_count": 23,
      "outputs": [
        {
          "output_type": "display_data",
          "data": {
            "text/html": [
              "<html>\n",
              "<head><meta charset=\"utf-8\" /></head>\n",
              "<body>\n",
              "    <div>\n",
              "            <script src=\"https://cdnjs.cloudflare.com/ajax/libs/mathjax/2.7.5/MathJax.js?config=TeX-AMS-MML_SVG\"></script><script type=\"text/javascript\">if (window.MathJax) {MathJax.Hub.Config({SVG: {font: \"STIX-Web\"}});}</script>\n",
              "                <script type=\"text/javascript\">window.PlotlyConfig = {MathJaxConfig: 'local'};</script>\n",
              "        <script src=\"https://cdn.plot.ly/plotly-latest.min.js\"></script>    \n",
              "            <div id=\"45865d13-ad3f-495d-af5a-7e8adfc942f9\" class=\"plotly-graph-div\" style=\"height:110px; width:100%;\"></div>\n",
              "            <script type=\"text/javascript\">\n",
              "                \n",
              "                    window.PLOTLYENV=window.PLOTLYENV || {};\n",
              "                    \n",
              "                if (document.getElementById(\"45865d13-ad3f-495d-af5a-7e8adfc942f9\")) {\n",
              "                    Plotly.newPlot(\n",
              "                        '45865d13-ad3f-495d-af5a-7e8adfc942f9',\n",
              "                        [{\"cells\": {\"align\": \"center\", \"fill\": {\"color\": [[\"rgba(230, 216, 110, 0.1)\", \"rgba(230, 216, 110, 0.1)\", \"rgba(230, 216, 110, 0.1)\"], [\"rgba(31, 119, 180, 0.12)\", \"rgba(31, 119, 180, 0.81)\", \"rgba(31, 119, 180, 0.50)\"], [\"rgba(255, 127, 14, 0.88)\", \"rgba(255, 127, 14, 0.19)\", \"rgba(255, 127, 14, 0.50)\"]]}, \"font\": {\"color\": [\"black\", \"white\"], \"size\": 11}, \"values\": [[\"aaa bbb aaa aaa aaa bbb\", \"vvv uuu vvv uuu uuu vvv\", \"aaa vvv uuu bbb\"], [\"0.12\", \"0.81\", \"0.50\"], [\"0.88\", \"0.19\", \"0.50\"]]}, \"columnwidth\": [300, 100], \"header\": {\"align\": \"center\", \"fill\": {\"color\": \"white\"}, \"font\": {\"color\": \"black\", \"size\": 12}, \"height\": 30, \"line\": {\"color\": \"white\"}, \"values\": [\"Document\", \"Topic #1\", \"Topic #2\"]}, \"type\": \"table\"}],\n",
              "                        {\"height\": 110, \"margin\": {\"autoexpand\": false, \"b\": 0, \"l\": 0, \"pad\": 0, \"r\": 0, \"t\": 0}, \"template\": {\"data\": {\"bar\": [{\"error_x\": {\"color\": \"#2a3f5f\"}, \"error_y\": {\"color\": \"#2a3f5f\"}, \"marker\": {\"line\": {\"color\": \"#E5ECF6\", \"width\": 0.5}}, \"type\": \"bar\"}], \"barpolar\": [{\"marker\": {\"line\": {\"color\": \"#E5ECF6\", \"width\": 0.5}}, \"type\": \"barpolar\"}], \"carpet\": [{\"aaxis\": {\"endlinecolor\": \"#2a3f5f\", \"gridcolor\": \"white\", \"linecolor\": \"white\", \"minorgridcolor\": \"white\", \"startlinecolor\": \"#2a3f5f\"}, \"baxis\": {\"endlinecolor\": \"#2a3f5f\", \"gridcolor\": \"white\", \"linecolor\": \"white\", \"minorgridcolor\": \"white\", \"startlinecolor\": \"#2a3f5f\"}, \"type\": \"carpet\"}], \"choropleth\": [{\"colorbar\": {\"outlinewidth\": 0, \"ticks\": \"\"}, \"type\": \"choropleth\"}], \"contour\": [{\"colorbar\": {\"outlinewidth\": 0, \"ticks\": \"\"}, \"colorscale\": [[0.0, \"#0d0887\"], [0.1111111111111111, \"#46039f\"], [0.2222222222222222, \"#7201a8\"], [0.3333333333333333, \"#9c179e\"], [0.4444444444444444, \"#bd3786\"], [0.5555555555555556, \"#d8576b\"], [0.6666666666666666, \"#ed7953\"], [0.7777777777777778, \"#fb9f3a\"], [0.8888888888888888, \"#fdca26\"], [1.0, \"#f0f921\"]], \"type\": \"contour\"}], \"contourcarpet\": [{\"colorbar\": {\"outlinewidth\": 0, \"ticks\": \"\"}, \"type\": \"contourcarpet\"}], \"heatmap\": [{\"colorbar\": {\"outlinewidth\": 0, \"ticks\": \"\"}, \"colorscale\": [[0.0, \"#0d0887\"], [0.1111111111111111, \"#46039f\"], [0.2222222222222222, \"#7201a8\"], [0.3333333333333333, \"#9c179e\"], [0.4444444444444444, \"#bd3786\"], [0.5555555555555556, \"#d8576b\"], [0.6666666666666666, \"#ed7953\"], [0.7777777777777778, \"#fb9f3a\"], [0.8888888888888888, \"#fdca26\"], [1.0, \"#f0f921\"]], \"type\": \"heatmap\"}], \"heatmapgl\": [{\"colorbar\": {\"outlinewidth\": 0, \"ticks\": \"\"}, \"colorscale\": [[0.0, \"#0d0887\"], [0.1111111111111111, \"#46039f\"], [0.2222222222222222, \"#7201a8\"], [0.3333333333333333, \"#9c179e\"], [0.4444444444444444, \"#bd3786\"], [0.5555555555555556, \"#d8576b\"], [0.6666666666666666, \"#ed7953\"], [0.7777777777777778, \"#fb9f3a\"], [0.8888888888888888, \"#fdca26\"], [1.0, \"#f0f921\"]], \"type\": \"heatmapgl\"}], \"histogram\": [{\"marker\": {\"colorbar\": {\"outlinewidth\": 0, \"ticks\": \"\"}}, \"type\": \"histogram\"}], \"histogram2d\": [{\"colorbar\": {\"outlinewidth\": 0, \"ticks\": \"\"}, \"colorscale\": [[0.0, \"#0d0887\"], [0.1111111111111111, \"#46039f\"], [0.2222222222222222, \"#7201a8\"], [0.3333333333333333, \"#9c179e\"], [0.4444444444444444, \"#bd3786\"], [0.5555555555555556, \"#d8576b\"], [0.6666666666666666, \"#ed7953\"], [0.7777777777777778, \"#fb9f3a\"], [0.8888888888888888, \"#fdca26\"], [1.0, \"#f0f921\"]], \"type\": \"histogram2d\"}], \"histogram2dcontour\": [{\"colorbar\": {\"outlinewidth\": 0, \"ticks\": \"\"}, \"colorscale\": [[0.0, \"#0d0887\"], [0.1111111111111111, \"#46039f\"], [0.2222222222222222, \"#7201a8\"], [0.3333333333333333, \"#9c179e\"], [0.4444444444444444, \"#bd3786\"], [0.5555555555555556, \"#d8576b\"], [0.6666666666666666, \"#ed7953\"], [0.7777777777777778, \"#fb9f3a\"], [0.8888888888888888, \"#fdca26\"], [1.0, \"#f0f921\"]], \"type\": \"histogram2dcontour\"}], \"mesh3d\": [{\"colorbar\": {\"outlinewidth\": 0, \"ticks\": \"\"}, \"type\": \"mesh3d\"}], \"parcoords\": [{\"line\": {\"colorbar\": {\"outlinewidth\": 0, \"ticks\": \"\"}}, \"type\": \"parcoords\"}], \"pie\": [{\"automargin\": true, \"type\": \"pie\"}], \"scatter\": [{\"marker\": {\"colorbar\": {\"outlinewidth\": 0, \"ticks\": \"\"}}, \"type\": \"scatter\"}], \"scatter3d\": [{\"line\": {\"colorbar\": {\"outlinewidth\": 0, \"ticks\": \"\"}}, \"marker\": {\"colorbar\": {\"outlinewidth\": 0, \"ticks\": \"\"}}, \"type\": \"scatter3d\"}], \"scattercarpet\": [{\"marker\": {\"colorbar\": {\"outlinewidth\": 0, \"ticks\": \"\"}}, \"type\": \"scattercarpet\"}], \"scattergeo\": [{\"marker\": {\"colorbar\": {\"outlinewidth\": 0, \"ticks\": \"\"}}, \"type\": \"scattergeo\"}], \"scattergl\": [{\"marker\": {\"colorbar\": {\"outlinewidth\": 0, \"ticks\": \"\"}}, \"type\": \"scattergl\"}], \"scattermapbox\": [{\"marker\": {\"colorbar\": {\"outlinewidth\": 0, \"ticks\": \"\"}}, \"type\": \"scattermapbox\"}], \"scatterpolar\": [{\"marker\": {\"colorbar\": {\"outlinewidth\": 0, \"ticks\": \"\"}}, \"type\": \"scatterpolar\"}], \"scatterpolargl\": [{\"marker\": {\"colorbar\": {\"outlinewidth\": 0, \"ticks\": \"\"}}, \"type\": \"scatterpolargl\"}], \"scatterternary\": [{\"marker\": {\"colorbar\": {\"outlinewidth\": 0, \"ticks\": \"\"}}, \"type\": \"scatterternary\"}], \"surface\": [{\"colorbar\": {\"outlinewidth\": 0, \"ticks\": \"\"}, \"colorscale\": [[0.0, \"#0d0887\"], [0.1111111111111111, \"#46039f\"], [0.2222222222222222, \"#7201a8\"], [0.3333333333333333, \"#9c179e\"], [0.4444444444444444, \"#bd3786\"], [0.5555555555555556, \"#d8576b\"], [0.6666666666666666, \"#ed7953\"], [0.7777777777777778, \"#fb9f3a\"], [0.8888888888888888, \"#fdca26\"], [1.0, \"#f0f921\"]], \"type\": \"surface\"}], \"table\": [{\"cells\": {\"fill\": {\"color\": \"#EBF0F8\"}, \"line\": {\"color\": \"white\"}}, \"header\": {\"fill\": {\"color\": \"#C8D4E3\"}, \"line\": {\"color\": \"white\"}}, \"type\": \"table\"}]}, \"layout\": {\"annotationdefaults\": {\"arrowcolor\": \"#2a3f5f\", \"arrowhead\": 0, \"arrowwidth\": 1}, \"coloraxis\": {\"colorbar\": {\"outlinewidth\": 0, \"ticks\": \"\"}}, \"colorscale\": {\"diverging\": [[0, \"#8e0152\"], [0.1, \"#c51b7d\"], [0.2, \"#de77ae\"], [0.3, \"#f1b6da\"], [0.4, \"#fde0ef\"], [0.5, \"#f7f7f7\"], [0.6, \"#e6f5d0\"], [0.7, \"#b8e186\"], [0.8, \"#7fbc41\"], [0.9, \"#4d9221\"], [1, \"#276419\"]], \"sequential\": [[0.0, \"#0d0887\"], [0.1111111111111111, \"#46039f\"], [0.2222222222222222, \"#7201a8\"], [0.3333333333333333, \"#9c179e\"], [0.4444444444444444, \"#bd3786\"], [0.5555555555555556, \"#d8576b\"], [0.6666666666666666, \"#ed7953\"], [0.7777777777777778, \"#fb9f3a\"], [0.8888888888888888, \"#fdca26\"], [1.0, \"#f0f921\"]], \"sequentialminus\": [[0.0, \"#0d0887\"], [0.1111111111111111, \"#46039f\"], [0.2222222222222222, \"#7201a8\"], [0.3333333333333333, \"#9c179e\"], [0.4444444444444444, \"#bd3786\"], [0.5555555555555556, \"#d8576b\"], [0.6666666666666666, \"#ed7953\"], [0.7777777777777778, \"#fb9f3a\"], [0.8888888888888888, \"#fdca26\"], [1.0, \"#f0f921\"]]}, \"colorway\": [\"#636efa\", \"#EF553B\", \"#00cc96\", \"#ab63fa\", \"#FFA15A\", \"#19d3f3\", \"#FF6692\", \"#B6E880\", \"#FF97FF\", \"#FECB52\"], \"font\": {\"color\": \"#2a3f5f\"}, \"geo\": {\"bgcolor\": \"white\", \"lakecolor\": \"white\", \"landcolor\": \"#E5ECF6\", \"showlakes\": true, \"showland\": true, \"subunitcolor\": \"white\"}, \"hoverlabel\": {\"align\": \"left\"}, \"hovermode\": \"closest\", \"mapbox\": {\"style\": \"light\"}, \"paper_bgcolor\": \"white\", \"plot_bgcolor\": \"#E5ECF6\", \"polar\": {\"angularaxis\": {\"gridcolor\": \"white\", \"linecolor\": \"white\", \"ticks\": \"\"}, \"bgcolor\": \"#E5ECF6\", \"radialaxis\": {\"gridcolor\": \"white\", \"linecolor\": \"white\", \"ticks\": \"\"}}, \"scene\": {\"xaxis\": {\"backgroundcolor\": \"#E5ECF6\", \"gridcolor\": \"white\", \"gridwidth\": 2, \"linecolor\": \"white\", \"showbackground\": true, \"ticks\": \"\", \"zerolinecolor\": \"white\"}, \"yaxis\": {\"backgroundcolor\": \"#E5ECF6\", \"gridcolor\": \"white\", \"gridwidth\": 2, \"linecolor\": \"white\", \"showbackground\": true, \"ticks\": \"\", \"zerolinecolor\": \"white\"}, \"zaxis\": {\"backgroundcolor\": \"#E5ECF6\", \"gridcolor\": \"white\", \"gridwidth\": 2, \"linecolor\": \"white\", \"showbackground\": true, \"ticks\": \"\", \"zerolinecolor\": \"white\"}}, \"shapedefaults\": {\"line\": {\"color\": \"#2a3f5f\"}}, \"ternary\": {\"aaxis\": {\"gridcolor\": \"white\", \"linecolor\": \"white\", \"ticks\": \"\"}, \"baxis\": {\"gridcolor\": \"white\", \"linecolor\": \"white\", \"ticks\": \"\"}, \"bgcolor\": \"#E5ECF6\", \"caxis\": {\"gridcolor\": \"white\", \"linecolor\": \"white\", \"ticks\": \"\"}}, \"title\": {\"x\": 0.05}, \"xaxis\": {\"automargin\": true, \"gridcolor\": \"white\", \"linecolor\": \"white\", \"ticks\": \"\", \"title\": {\"standoff\": 15}, \"zerolinecolor\": \"white\", \"zerolinewidth\": 2}, \"yaxis\": {\"automargin\": true, \"gridcolor\": \"white\", \"linecolor\": \"white\", \"ticks\": \"\", \"title\": {\"standoff\": 15}, \"zerolinecolor\": \"white\", \"zerolinewidth\": 2}}}},\n",
              "                        {\"responsive\": true}\n",
              "                    ).then(function(){\n",
              "                            \n",
              "var gd = document.getElementById('45865d13-ad3f-495d-af5a-7e8adfc942f9');\n",
              "var x = new MutationObserver(function (mutations, observer) {{\n",
              "        var display = window.getComputedStyle(gd).display;\n",
              "        if (!display || display === 'none') {{\n",
              "            console.log([gd, 'removed!']);\n",
              "            Plotly.purge(gd);\n",
              "            observer.disconnect();\n",
              "        }}\n",
              "}});\n",
              "\n",
              "// Listen for the removal of the full notebook cells\n",
              "var notebookContainer = gd.closest('#notebook-container');\n",
              "if (notebookContainer) {{\n",
              "    x.observe(notebookContainer, {childList: true});\n",
              "}}\n",
              "\n",
              "// Listen for the clearing of the current output cell\n",
              "var outputEl = gd.closest('.output');\n",
              "if (outputEl) {{\n",
              "    x.observe(outputEl, {childList: true});\n",
              "}}\n",
              "\n",
              "                        })\n",
              "                };\n",
              "                \n",
              "            </script>\n",
              "        </div>\n",
              "</body>\n",
              "</html>"
            ]
          },
          "metadata": {
            "tags": []
          }
        }
      ]
    }
  ]
}